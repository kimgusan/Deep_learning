{
 "cells": [
  {
   "cell_type": "markdown",
   "id": "ff3ce676-f01f-46b4-9fc2-c7cd7ae6434b",
   "metadata": {},
   "source": [
    "## 딥러닝의 이해 (책)"
   ]
  },
  {
   "cell_type": "code",
   "execution_count": 2,
   "id": "7fa2cf3c-a92c-4f23-a82f-5c41abeee6e1",
   "metadata": {},
   "outputs": [
    {
     "name": "stdout",
     "output_type": "stream",
     "text": [
      "Found 108411 images belonging to 6 classes.\n",
      "{'origin': 0, 'test': 1, 'test_new': 2, 'train': 3, 'train_new': 4, 'validation_new': 5}\n"
     ]
    }
   ],
   "source": [
    "from tensorflow.keras.preprocessing.image import ImageDataGenerator\n",
    "\n",
    "root = '../f_pretrained_model/datasets/face/'\n",
    "\n",
    "IMAGE_SIZE = 128\n",
    "BATCH_SIZE = 64\n",
    "\n",
    "idg = ImageDataGenerator(rescale=1./255)\n",
    "\n",
    "generator = idg.flow_from_directory(root, target_size=(IMAGE_SIZE, IMAGE_SIZE), batch_size=BATCH_SIZE, class_mode='categorical')\n",
    "print(generator.class_indices)"
   ]
  },
  {
   "cell_type": "code",
   "execution_count": null,
   "id": "77e21acb-8d2b-456a-9a6b-c41397454dfc",
   "metadata": {},
   "outputs": [],
   "source": []
  },
  {
   "cell_type": "code",
   "execution_count": null,
   "id": "4b538eeb-d70f-479c-9e4c-78644619b455",
   "metadata": {},
   "outputs": [],
   "source": []
  },
  {
   "cell_type": "code",
   "execution_count": null,
   "id": "50a67a8c-f190-4900-a152-25985e5ae528",
   "metadata": {},
   "outputs": [],
   "source": []
  }
 ],
 "metadata": {
  "kernelspec": {
   "display_name": "Python 3 (ipykernel)",
   "language": "python",
   "name": "python3"
  },
  "language_info": {
   "codemirror_mode": {
    "name": "ipython",
    "version": 3
   },
   "file_extension": ".py",
   "mimetype": "text/x-python",
   "name": "python",
   "nbconvert_exporter": "python",
   "pygments_lexer": "ipython3",
   "version": "3.11.8"
  }
 },
 "nbformat": 4,
 "nbformat_minor": 5
}
