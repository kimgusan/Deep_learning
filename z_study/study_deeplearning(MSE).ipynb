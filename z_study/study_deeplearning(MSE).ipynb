{
 "cells": [
  {
   "cell_type": "markdown",
   "id": "ff3ce676-f01f-46b4-9fc2-c7cd7ae6434b",
   "metadata": {},
   "source": [
    "## 딥러닝의 이해 (책)"
   ]
  },
  {
   "cell_type": "markdown",
   "id": "4e859ae9-a315-4a72-8ecb-19a3e320ab92",
   "metadata": {},
   "source": [
    "## 1. 환경 준비"
   ]
  },
  {
   "cell_type": "code",
   "execution_count": 1,
   "id": "7fa2cf3c-a92c-4f23-a82f-5c41abeee6e1",
   "metadata": {},
   "outputs": [],
   "source": [
    "from tensorflow.keras.models import Sequential\n",
    "from tensorflow.keras.layers import Dense\n",
    "import numpy as np"
   ]
  },
  {
   "cell_type": "markdown",
   "id": "ec735790-ed65-4b17-aa21-1a2daada40fe",
   "metadata": {},
   "source": [
    "## 2. 데이터 준비"
   ]
  },
  {
   "cell_type": "code",
   "execution_count": 2,
   "id": "59b5ff62-d168-42b3-a322-7e74e5abf611",
   "metadata": {},
   "outputs": [],
   "source": [
    "# !git clone https://github.com/taehojo/data.git   # 깃허브에 준비된 데이터를 가져옵니다."
   ]
  },
  {
   "cell_type": "code",
   "execution_count": 3,
   "id": "77e21acb-8d2b-456a-9a6b-c41397454dfc",
   "metadata": {},
   "outputs": [],
   "source": [
    "Data_set = np.loadtxt(\"./data/ThoraricSurgery3.csv\", delimiter=\",\")  # 수술 환자 데이터를 불러옵니다.\n",
    "X = Data_set[:,0:16]                                                 # 환자의 진찰 기록을 X로 지정합니다.\n",
    "y = Data_set[:,16]                                                   # 수술 후 사망/생존 여부를 y로 지정합니다."
   ]
  },
  {
   "cell_type": "code",
   "execution_count": 12,
   "id": "ec877a8a-416d-4613-9aaa-ce8919d22197",
   "metadata": {},
   "outputs": [
    {
     "data": {
      "text/plain": [
       "array([[ 1.  ,  2.88,  2.16, ...,  0.  , 60.  ,  0.  ],\n",
       "       [ 2.  ,  3.4 ,  1.88, ...,  0.  , 51.  ,  0.  ],\n",
       "       [ 2.  ,  2.76,  2.08, ...,  0.  , 59.  ,  0.  ],\n",
       "       ...,\n",
       "       [ 2.  ,  3.04,  2.08, ...,  0.  , 52.  ,  0.  ],\n",
       "       [ 2.  ,  1.96,  1.68, ...,  0.  , 79.  ,  0.  ],\n",
       "       [ 2.  ,  4.72,  3.56, ...,  0.  , 51.  ,  0.  ]])"
      ]
     },
     "execution_count": 12,
     "metadata": {},
     "output_type": "execute_result"
    }
   ],
   "source": [
    "Data_set"
   ]
  },
  {
   "cell_type": "markdown",
   "id": "e6bc4e9d-3a0d-4584-8025-8eb94342fcbd",
   "metadata": {},
   "source": [
    "## 3. 구조 결정"
   ]
  },
  {
   "cell_type": "code",
   "execution_count": 5,
   "id": "4f386a1d-eed8-468e-9577-2aeca3ea42e4",
   "metadata": {},
   "outputs": [
    {
     "name": "stderr",
     "output_type": "stream",
     "text": [
      "/opt/anaconda3/lib/python3.11/site-packages/keras/src/layers/core/dense.py:87: UserWarning: Do not pass an `input_shape`/`input_dim` argument to a layer. When using Sequential models, prefer using an `Input(shape)` object as the first layer in the model instead.\n",
      "  super().__init__(activity_regularizer=activity_regularizer, **kwargs)\n"
     ]
    }
   ],
   "source": [
    "model = Sequential()\n",
    "model.add(Dense(30, input_dim=16, activation='relu'))\n",
    "model.add(Dense(1, activation='sigmoid'))"
   ]
  },
  {
   "cell_type": "code",
   "execution_count": 6,
   "id": "39bc319e-7337-4521-92b8-6ac88c443726",
   "metadata": {},
   "outputs": [
    {
     "data": {
      "text/html": [
       "<pre style=\"white-space:pre;overflow-x:auto;line-height:normal;font-family:Menlo,'DejaVu Sans Mono',consolas,'Courier New',monospace\"><span style=\"font-weight: bold\">Model: \"sequential\"</span>\n",
       "</pre>\n"
      ],
      "text/plain": [
       "\u001b[1mModel: \"sequential\"\u001b[0m\n"
      ]
     },
     "metadata": {},
     "output_type": "display_data"
    },
    {
     "data": {
      "text/html": [
       "<pre style=\"white-space:pre;overflow-x:auto;line-height:normal;font-family:Menlo,'DejaVu Sans Mono',consolas,'Courier New',monospace\">┏━━━━━━━━━━━━━━━━━━━━━━━━━━━━━━━━━┳━━━━━━━━━━━━━━━━━━━━━━━━┳━━━━━━━━━━━━━━━┓\n",
       "┃<span style=\"font-weight: bold\"> Layer (type)                    </span>┃<span style=\"font-weight: bold\"> Output Shape           </span>┃<span style=\"font-weight: bold\">       Param # </span>┃\n",
       "┡━━━━━━━━━━━━━━━━━━━━━━━━━━━━━━━━━╇━━━━━━━━━━━━━━━━━━━━━━━━╇━━━━━━━━━━━━━━━┩\n",
       "│ dense (<span style=\"color: #0087ff; text-decoration-color: #0087ff\">Dense</span>)                   │ (<span style=\"color: #00d7ff; text-decoration-color: #00d7ff\">None</span>, <span style=\"color: #00af00; text-decoration-color: #00af00\">30</span>)             │           <span style=\"color: #00af00; text-decoration-color: #00af00\">510</span> │\n",
       "├─────────────────────────────────┼────────────────────────┼───────────────┤\n",
       "│ dense_1 (<span style=\"color: #0087ff; text-decoration-color: #0087ff\">Dense</span>)                 │ (<span style=\"color: #00d7ff; text-decoration-color: #00d7ff\">None</span>, <span style=\"color: #00af00; text-decoration-color: #00af00\">1</span>)              │            <span style=\"color: #00af00; text-decoration-color: #00af00\">31</span> │\n",
       "└─────────────────────────────────┴────────────────────────┴───────────────┘\n",
       "</pre>\n"
      ],
      "text/plain": [
       "┏━━━━━━━━━━━━━━━━━━━━━━━━━━━━━━━━━┳━━━━━━━━━━━━━━━━━━━━━━━━┳━━━━━━━━━━━━━━━┓\n",
       "┃\u001b[1m \u001b[0m\u001b[1mLayer (type)                   \u001b[0m\u001b[1m \u001b[0m┃\u001b[1m \u001b[0m\u001b[1mOutput Shape          \u001b[0m\u001b[1m \u001b[0m┃\u001b[1m \u001b[0m\u001b[1m      Param #\u001b[0m\u001b[1m \u001b[0m┃\n",
       "┡━━━━━━━━━━━━━━━━━━━━━━━━━━━━━━━━━╇━━━━━━━━━━━━━━━━━━━━━━━━╇━━━━━━━━━━━━━━━┩\n",
       "│ dense (\u001b[38;5;33mDense\u001b[0m)                   │ (\u001b[38;5;45mNone\u001b[0m, \u001b[38;5;34m30\u001b[0m)             │           \u001b[38;5;34m510\u001b[0m │\n",
       "├─────────────────────────────────┼────────────────────────┼───────────────┤\n",
       "│ dense_1 (\u001b[38;5;33mDense\u001b[0m)                 │ (\u001b[38;5;45mNone\u001b[0m, \u001b[38;5;34m1\u001b[0m)              │            \u001b[38;5;34m31\u001b[0m │\n",
       "└─────────────────────────────────┴────────────────────────┴───────────────┘\n"
      ]
     },
     "metadata": {},
     "output_type": "display_data"
    },
    {
     "data": {
      "text/html": [
       "<pre style=\"white-space:pre;overflow-x:auto;line-height:normal;font-family:Menlo,'DejaVu Sans Mono',consolas,'Courier New',monospace\"><span style=\"font-weight: bold\"> Total params: </span><span style=\"color: #00af00; text-decoration-color: #00af00\">541</span> (2.11 KB)\n",
       "</pre>\n"
      ],
      "text/plain": [
       "\u001b[1m Total params: \u001b[0m\u001b[38;5;34m541\u001b[0m (2.11 KB)\n"
      ]
     },
     "metadata": {},
     "output_type": "display_data"
    },
    {
     "data": {
      "text/html": [
       "<pre style=\"white-space:pre;overflow-x:auto;line-height:normal;font-family:Menlo,'DejaVu Sans Mono',consolas,'Courier New',monospace\"><span style=\"font-weight: bold\"> Trainable params: </span><span style=\"color: #00af00; text-decoration-color: #00af00\">541</span> (2.11 KB)\n",
       "</pre>\n"
      ],
      "text/plain": [
       "\u001b[1m Trainable params: \u001b[0m\u001b[38;5;34m541\u001b[0m (2.11 KB)\n"
      ]
     },
     "metadata": {},
     "output_type": "display_data"
    },
    {
     "data": {
      "text/html": [
       "<pre style=\"white-space:pre;overflow-x:auto;line-height:normal;font-family:Menlo,'DejaVu Sans Mono',consolas,'Courier New',monospace\"><span style=\"font-weight: bold\"> Non-trainable params: </span><span style=\"color: #00af00; text-decoration-color: #00af00\">0</span> (0.00 B)\n",
       "</pre>\n"
      ],
      "text/plain": [
       "\u001b[1m Non-trainable params: \u001b[0m\u001b[38;5;34m0\u001b[0m (0.00 B)\n"
      ]
     },
     "metadata": {},
     "output_type": "display_data"
    }
   ],
   "source": [
    "model.summary()"
   ]
  },
  {
   "cell_type": "markdown",
   "id": "3682c9c7-ef59-485d-8b33-96fcabb37545",
   "metadata": {},
   "source": [
    "## 4. 모델 실행"
   ]
  },
  {
   "cell_type": "code",
   "execution_count": 9,
   "id": "ef089634-5a5a-40b6-9dad-75ebf462233f",
   "metadata": {},
   "outputs": [
    {
     "name": "stdout",
     "output_type": "stream",
     "text": [
      "Epoch 1/5\n",
      "\u001b[1m30/30\u001b[0m \u001b[32m━━━━━━━━━━━━━━━━━━━━\u001b[0m\u001b[37m\u001b[0m \u001b[1m0s\u001b[0m 382us/step - acc: 0.8550 - loss: 0.4299\n",
      "Epoch 2/5\n",
      "\u001b[1m30/30\u001b[0m \u001b[32m━━━━━━━━━━━━━━━━━━━━\u001b[0m\u001b[37m\u001b[0m \u001b[1m0s\u001b[0m 406us/step - acc: 0.8383 - loss: 0.4465\n",
      "Epoch 3/5\n",
      "\u001b[1m30/30\u001b[0m \u001b[32m━━━━━━━━━━━━━━━━━━━━\u001b[0m\u001b[37m\u001b[0m \u001b[1m0s\u001b[0m 407us/step - acc: 0.8344 - loss: 0.4457\n",
      "Epoch 4/5\n",
      "\u001b[1m30/30\u001b[0m \u001b[32m━━━━━━━━━━━━━━━━━━━━\u001b[0m\u001b[37m\u001b[0m \u001b[1m0s\u001b[0m 350us/step - acc: 0.8343 - loss: 0.4589\n",
      "Epoch 5/5\n",
      "\u001b[1m30/30\u001b[0m \u001b[32m━━━━━━━━━━━━━━━━━━━━\u001b[0m\u001b[37m\u001b[0m \u001b[1m0s\u001b[0m 334us/step - acc: 0.8248 - loss: 0.4691\n"
     ]
    }
   ],
   "source": [
    "model.compile(loss='binary_crossentropy', optimizer = 'adam', metrics=['acc'])\n",
    "history = model.fit(X, y, epochs=5, batch_size=16)"
   ]
  },
  {
   "cell_type": "markdown",
   "id": "57fcd309-a2de-408f-8a64-9baea5f8036b",
   "metadata": {},
   "source": [
    "## ※ MSE (평균 제곱오차)"
   ]
  },
  {
   "cell_type": "code",
   "execution_count": 21,
   "id": "c1418a96-08f4-46ea-97dd-a89d04e9e87f",
   "metadata": {},
   "outputs": [
    {
     "name": "stdout",
     "output_type": "stream",
     "text": [
      "공부시간 = 2.0, 실제점수 = 81.0, 예측점수 = 82.0\n",
      "공부시간 = 4.0, 실제점수 = 83.0, 예측점수 = 88.0\n",
      "공부시간 = 6.0, 실제점수 = 91.0, 예측점수 = 94.0\n",
      "공부시간 = 8.0, 실제점수 = 97.0, 예측점수 = 100.0\n",
      "평균제곱 오차: 11.0\n"
     ]
    }
   ],
   "source": [
    "import numpy as np \n",
    "\n",
    "fake_a = 3\n",
    "fake_b = 76\n",
    "\n",
    "x = np.array([2, 4, 6, 8])\n",
    "y = np.array([81, 83, 91, 97])\n",
    "\n",
    "# 예측 결과를 구하는 함수 입니다.\n",
    "def predict(x):\n",
    "    return fake_a * x + fake_b\n",
    "\n",
    "predict_result = []\n",
    "\n",
    "for i in range(len(x)):\n",
    "    predict_result.append(predict(x[i]))\n",
    "    print(\"공부시간 = %.1f, 실제점수 = %.1f, 예측점수 = %.1f\" % (x[i], y[i], predict(x[i])))\n",
    "\n",
    "\n",
    "# 평균 제곱 오차 함수를 각 y 값에 대입해 최종 값을 수하는 함수.\n",
    "\n",
    "n = len(x)\n",
    "\n",
    "def mse(x, y_pred):\n",
    "    return (1/n * sum((y - y_pred)**2))\n",
    "\n",
    "# mse\n",
    "print('평균제곱 오차: '+ str(mse(y, predict_result)))"
   ]
  },
  {
   "cell_type": "code",
   "execution_count": null,
   "id": "acd8aa19-5899-4f10-abb6-8770bc843a55",
   "metadata": {},
   "outputs": [],
   "source": [
    "from tensorflow.keras.layers import Dense"
   ]
  }
 ],
 "metadata": {
  "kernelspec": {
   "display_name": "Python 3 (ipykernel)",
   "language": "python",
   "name": "python3"
  },
  "language_info": {
   "codemirror_mode": {
    "name": "ipython",
    "version": 3
   },
   "file_extension": ".py",
   "mimetype": "text/x-python",
   "name": "python",
   "nbconvert_exporter": "python",
   "pygments_lexer": "ipython3",
   "version": "3.11.8"
  }
 },
 "nbformat": 4,
 "nbformat_minor": 5
}
