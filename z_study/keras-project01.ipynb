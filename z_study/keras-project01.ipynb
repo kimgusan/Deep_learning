{
 "cells": [
  {
   "cell_type": "markdown",
   "id": "6c282db7-e773-4b1d-8791-6f1e33dabd6e",
   "metadata": {},
   "source": [
    "## "
   ]
  },
  {
   "cell_type": "code",
   "execution_count": 4,
   "id": "27dc3229-ebc6-4d1b-a995-bb792eaf9890",
   "metadata": {},
   "outputs": [],
   "source": [
    "from tensorflow.keras.models import load_model\n",
    "import pandas as pd\n",
    "import time\n",
    "\n",
    "kaggle_test = pd.read_csv('./data/house_test.csv')\n",
    "\n",
    "# 카테고리형 변수를 0,1 가진 변수로 변환 (원-핫)\n",
    "kaggle_test = pd.get_dummies(kaggle_test)\n",
    "\n",
    "# 결측치를 전체 칼럼의 평균으로 대체\n",
    "kaggle_test = kaggle_test.fillna(kaggle_test.mean())"
   ]
  },
  {
   "cell_type": "code",
   "execution_count": null,
   "id": "a24d31b1-151e-43e9-bcd5-581e6bbe5975",
   "metadata": {},
   "outputs": [],
   "source": []
  }
 ],
 "metadata": {
  "kernelspec": {
   "display_name": "Python 3 (ipykernel)",
   "language": "python",
   "name": "python3"
  },
  "language_info": {
   "codemirror_mode": {
    "name": "ipython",
    "version": 3
   },
   "file_extension": ".py",
   "mimetype": "text/x-python",
   "name": "python",
   "nbconvert_exporter": "python",
   "pygments_lexer": "ipython3",
   "version": "3.11.8"
  }
 },
 "nbformat": 4,
 "nbformat_minor": 5
}
