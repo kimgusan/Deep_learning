{
 "cells": [
  {
   "cell_type": "markdown",
   "id": "27d65dc3-bcc1-4ab1-9cba-72ab9f221562",
   "metadata": {},
   "source": [
    "## 퍼셉트론 기초"
   ]
  },
  {
   "cell_type": "markdown",
   "id": "b85ad2f9-3154-4694-8d66-2ee9a0df30aa",
   "metadata": {},
   "source": [
    "### 은닉층을 만들어 다중 퍼셉트론을 사용하여 xor에 대한 문제를 해결"
   ]
  },
  {
   "cell_type": "code",
   "execution_count": 9,
   "id": "ef09d8c0-085b-4e1a-a61c-d8ee7324cc97",
   "metadata": {},
   "outputs": [
    {
     "name": "stdout",
     "output_type": "stream",
     "text": [
      "입력 값: (0, 0), 출력 값: 0\n",
      "입력 값: (1, 0), 출력 값: 1\n",
      "입력 값: (0, 1), 출력 값: 1\n",
      "입력 값: (1, 1), 출력 값: 0\n"
     ]
    }
   ],
   "source": [
    "import numpy as np \n",
    "\n",
    "#가중치와 바이어스\n",
    "w11 = np.array([-2, -2])\n",
    "w12 = np.array([2, 2])\n",
    "w2 = np.array([1,1])\n",
    "b1 =3\n",
    "b2 = -1\n",
    "b3 = -1\n",
    "\n",
    "# 퍼셉트론\n",
    "def MLP(x, w, b):\n",
    "    y = np.sum(w * x) + b\n",
    "    if y <=0:\n",
    "        return 0\n",
    "    else:\n",
    "        return 1\n",
    "\n",
    "# NAND 게이트\n",
    "def NAND(x1, x2):\n",
    "    return MLP(np.array([x1, x2]), w11, b1)\n",
    "\n",
    "# OR 게이트\n",
    "def OR(x1, x2):\n",
    "    return MLP(np.array([x1, x2]), w12, b2)\n",
    "\n",
    "# AND 게이트\n",
    "def AND(x1, x2):\n",
    "    return MLP(np.array([x1, x2]), w2, b3)\n",
    "\n",
    "# XOR 게이트\n",
    "def XOR(x1, x2):\n",
    "    return AND(NAND(x1, x2), OR(x1, x2))\n",
    "\n",
    "# x1 값, x2 값을 번갈아 대입하여 최종 값 출력\n",
    "for x in [(0, 0), (1, 0), (0, 1), (1, 1)]:\n",
    "    y = XOR(x[0], x[1])\n",
    "    print(f\"입력 값: {x}, 출력 값: {y}\")"
   ]
  },
  {
   "cell_type": "code",
   "execution_count": null,
   "id": "4e66c1d6-2fe9-4843-9cb2-20a9bbdb990a",
   "metadata": {},
   "outputs": [],
   "source": []
  },
  {
   "cell_type": "code",
   "execution_count": null,
   "id": "e3f31a01-18d5-46ea-948f-f1567e1099ec",
   "metadata": {},
   "outputs": [],
   "source": []
  },
  {
   "cell_type": "code",
   "execution_count": null,
   "id": "18bdb5a3-269c-455e-9e42-cb76d4ace482",
   "metadata": {},
   "outputs": [],
   "source": []
  },
  {
   "cell_type": "code",
   "execution_count": null,
   "id": "a76d14ac-5cf9-45da-98b7-96e2dd95bd1b",
   "metadata": {},
   "outputs": [],
   "source": []
  }
 ],
 "metadata": {
  "kernelspec": {
   "display_name": "Python 3 (ipykernel)",
   "language": "python",
   "name": "python3"
  },
  "language_info": {
   "codemirror_mode": {
    "name": "ipython",
    "version": 3
   },
   "file_extension": ".py",
   "mimetype": "text/x-python",
   "name": "python",
   "nbconvert_exporter": "python",
   "pygments_lexer": "ipython3",
   "version": "3.11.8"
  }
 },
 "nbformat": 4,
 "nbformat_minor": 5
}
