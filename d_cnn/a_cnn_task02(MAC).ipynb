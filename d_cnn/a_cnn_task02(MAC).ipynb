{
 "cells": [
  {
   "cell_type": "markdown",
   "id": "5940f121-1733-4d84-b106-a22c97ac65c9",
   "metadata": {},
   "source": [
    "# 동물분류\n",
    "\n",
    "https://drive.google.com/file/d/1_d8RcCM21XneorFe_m4939erMkCnccS1/view?usp=drive_link"
   ]
  },
  {
   "cell_type": "code",
   "execution_count": 38,
   "id": "5401fa6e-f2a5-462b-a54d-7f8521886c3e",
   "metadata": {},
   "outputs": [
    {
     "name": "stdout",
     "output_type": "stream",
     "text": [
      "{'cane': 'dog', 'cavallo': 'horse', 'elefante': 'elephant', 'farfalla': 'butterfly', 'gallina': 'chicken', 'gatto': 'cat', 'mucca': 'cow', 'pecora': 'sheep', 'scoiattolo': 'squirrel', 'dog': 'cane', 'elephant': 'elefante', 'butterfly': 'farfalla', 'chicken': 'gallina', 'cat': 'gatto', 'cow': 'mucca', 'spider': 'ragno', 'squirrel': 'scoiattolo'}\n",
      "\n",
      "{'dog': 'cane', 'horse': 'cavallo', 'elephant': 'elefante', 'butterfly': 'farfalla', 'chicken': 'gallina', 'cat': 'gatto', 'cow': 'mucca', 'sheep': 'pecora', 'squirrel': 'scoiattolo', 'cane': 'dog', 'elefante': 'elephant', 'farfalla': 'butterfly', 'gallina': 'chicken', 'gatto': 'cat', 'mucca': 'cow', 'ragno': 'spider', 'scoiattolo': 'squirrel'}\n"
     ]
    }
   ],
   "source": [
    "with open('../d_cnn/datasets/animals/translate.py') as f:\n",
    "    content = f.readline().strip()\n",
    "    # print(content)\n",
    "    # 문자열 안에 있는 딕셔너리를 정상적으로 가져오기 위한 메소드 eval\n",
    "    contents1 = eval(content[content.index(\"{\"):content.index(\"}\") + 1])\n",
    "    contents2 = {v: k for k, v in contents1.items()}\n",
    "\n",
    "print(contents1, contents2, sep='\\n\\n')\n"
   ]
  },
  {
   "cell_type": "code",
   "execution_count": 39,
   "id": "0eedacd9-458d-4a7d-8ed2-a7464d498be9",
   "metadata": {},
   "outputs": [
    {
     "name": "stdout",
     "output_type": "stream",
     "text": [
      "['../d_cnn/datasets/animals/original/gallina', '../d_cnn/datasets/animals/original/ragno', '../d_cnn/datasets/animals/original/gatto', '../d_cnn/datasets/animals/original/farfalla', '../d_cnn/datasets/animals/original/mucca', '../d_cnn/datasets/animals/original/cavallo', '../d_cnn/datasets/animals/original/cane', '../d_cnn/datasets/animals/original/pecora', '../d_cnn/datasets/animals/original/scoiattolo', '../d_cnn/datasets/animals/original/elefante']\n"
     ]
    }
   ],
   "source": [
    "from glob import glob\n",
    "import os\n",
    "\n",
    "root = '../d_cnn/datasets/animals/original/'\n",
    "\n",
    "directories = glob(os.path.join(root, '*'))\n",
    "print(directories)\n",
    "\n",
    "for directory in directories:\n",
    "    old_name = os.path.basename(directory)  # 플랫폼 독립적으로 디렉토리 이름 추출\n",
    "    try:\n",
    "        new_name = contents1[old_name]\n",
    "    except KeyError:\n",
    "        new_name = contents2.get(old_name, old_name)  # old_name이 contents2에 없으면 그대로 유지\n",
    "    new_directory = os.path.join(root, new_name)\n",
    "    os.rename(directory, new_directory)\n",
    "    "
   ]
  },
  {
   "cell_type": "code",
   "execution_count": 40,
   "id": "c7a472df-c917-4f58-8f28-34d395233f2f",
   "metadata": {},
   "outputs": [
    {
     "name": "stdout",
     "output_type": "stream",
     "text": [
      "['cat', 'butterfly', 'dog', 'sheep', 'spider', 'chicken', 'horse', 'squirrel', 'cow', 'elephant']\n"
     ]
    }
   ],
   "source": [
    "root = '../d_cnn/datasets/animals/original/'\n",
    "    \n",
    "directories = glob(os.path.join(root, '*'))\n",
    "directory_names = []\n",
    "for directory in directories:\n",
    "    directory_names.append(os.path.basename(directory))\n",
    "\n",
    "print(directory_names)"
   ]
  },
  {
   "cell_type": "code",
   "execution_count": 41,
   "id": "a69dee41-ffc2-4324-9ce9-86fde8626e71",
   "metadata": {},
   "outputs": [],
   "source": [
    "root = '../d_cnn/datasets/animals/original/'\n",
    "\n",
    "for name in directory_names:\n",
    "    for i, file_name in enumerate(os.listdir(os.path.join(root, name))):\n",
    "        old_file = os.path.join(root + name + '/', file_name)\n",
    "        new_file = os.path.join(root + name + '/', name + str(i + 1) + '.png')\n",
    "\n",
    "        os.rename(old_file, new_file)"
   ]
  },
  {
   "cell_type": "code",
   "execution_count": 42,
   "id": "cf5abab2-152a-4920-87f6-81e510005250",
   "metadata": {},
   "outputs": [
    {
     "name": "stdout",
     "output_type": "stream",
     "text": [
      "Found 26179 images belonging to 10 classes.\n",
      "{'butterfly': 0, 'cat': 1, 'chicken': 2, 'cow': 3, 'dog': 4, 'elephant': 5, 'horse': 6, 'sheep': 7, 'spider': 8, 'squirrel': 9}\n"
     ]
    }
   ],
   "source": [
    "from tensorflow.keras.preprocessing.image import ImageDataGenerator\n",
    "\n",
    "image_data_generator = ImageDataGenerator(rescale=1./255)\n",
    "\n",
    "generator = image_data_generator.flow_from_directory(root, target_size=(150, 150), batch_size=32, class_mode='categorical')\n",
    "print(generator.class_indices)"
   ]
  },
  {
   "cell_type": "code",
   "execution_count": 43,
   "id": "31055ff2-b908-4821-9bf0-0373ca0efe79",
   "metadata": {},
   "outputs": [
    {
     "data": {
      "text/html": [
       "<div>\n",
       "<style scoped>\n",
       "    .dataframe tbody tr th:only-of-type {\n",
       "        vertical-align: middle;\n",
       "    }\n",
       "\n",
       "    .dataframe tbody tr th {\n",
       "        vertical-align: top;\n",
       "    }\n",
       "\n",
       "    .dataframe thead th {\n",
       "        text-align: right;\n",
       "    }\n",
       "</style>\n",
       "<table border=\"1\" class=\"dataframe\">\n",
       "  <thead>\n",
       "    <tr style=\"text-align: right;\">\n",
       "      <th></th>\n",
       "      <th>file_paths</th>\n",
       "      <th>targets</th>\n",
       "    </tr>\n",
       "  </thead>\n",
       "  <tbody>\n",
       "    <tr>\n",
       "      <th>0</th>\n",
       "      <td>../d_cnn/datasets/animals/original/butterfly/b...</td>\n",
       "      <td>0</td>\n",
       "    </tr>\n",
       "    <tr>\n",
       "      <th>1</th>\n",
       "      <td>../d_cnn/datasets/animals/original/butterfly/b...</td>\n",
       "      <td>0</td>\n",
       "    </tr>\n",
       "    <tr>\n",
       "      <th>2</th>\n",
       "      <td>../d_cnn/datasets/animals/original/butterfly/b...</td>\n",
       "      <td>0</td>\n",
       "    </tr>\n",
       "    <tr>\n",
       "      <th>3</th>\n",
       "      <td>../d_cnn/datasets/animals/original/butterfly/b...</td>\n",
       "      <td>0</td>\n",
       "    </tr>\n",
       "    <tr>\n",
       "      <th>4</th>\n",
       "      <td>../d_cnn/datasets/animals/original/butterfly/b...</td>\n",
       "      <td>0</td>\n",
       "    </tr>\n",
       "    <tr>\n",
       "      <th>...</th>\n",
       "      <td>...</td>\n",
       "      <td>...</td>\n",
       "    </tr>\n",
       "    <tr>\n",
       "      <th>26174</th>\n",
       "      <td>../d_cnn/datasets/animals/original/squirrel/sq...</td>\n",
       "      <td>9</td>\n",
       "    </tr>\n",
       "    <tr>\n",
       "      <th>26175</th>\n",
       "      <td>../d_cnn/datasets/animals/original/squirrel/sq...</td>\n",
       "      <td>9</td>\n",
       "    </tr>\n",
       "    <tr>\n",
       "      <th>26176</th>\n",
       "      <td>../d_cnn/datasets/animals/original/squirrel/sq...</td>\n",
       "      <td>9</td>\n",
       "    </tr>\n",
       "    <tr>\n",
       "      <th>26177</th>\n",
       "      <td>../d_cnn/datasets/animals/original/squirrel/sq...</td>\n",
       "      <td>9</td>\n",
       "    </tr>\n",
       "    <tr>\n",
       "      <th>26178</th>\n",
       "      <td>../d_cnn/datasets/animals/original/squirrel/sq...</td>\n",
       "      <td>9</td>\n",
       "    </tr>\n",
       "  </tbody>\n",
       "</table>\n",
       "<p>26179 rows × 2 columns</p>\n",
       "</div>"
      ],
      "text/plain": [
       "                                              file_paths  targets\n",
       "0      ../d_cnn/datasets/animals/original/butterfly/b...        0\n",
       "1      ../d_cnn/datasets/animals/original/butterfly/b...        0\n",
       "2      ../d_cnn/datasets/animals/original/butterfly/b...        0\n",
       "3      ../d_cnn/datasets/animals/original/butterfly/b...        0\n",
       "4      ../d_cnn/datasets/animals/original/butterfly/b...        0\n",
       "...                                                  ...      ...\n",
       "26174  ../d_cnn/datasets/animals/original/squirrel/sq...        9\n",
       "26175  ../d_cnn/datasets/animals/original/squirrel/sq...        9\n",
       "26176  ../d_cnn/datasets/animals/original/squirrel/sq...        9\n",
       "26177  ../d_cnn/datasets/animals/original/squirrel/sq...        9\n",
       "26178  ../d_cnn/datasets/animals/original/squirrel/sq...        9\n",
       "\n",
       "[26179 rows x 2 columns]"
      ]
     },
     "execution_count": 43,
     "metadata": {},
     "output_type": "execute_result"
    }
   ],
   "source": [
    "import pandas as pd\n",
    "\n",
    "a_df = pd.DataFrame({'file_paths': generator.filepaths, 'targets': generator.classes})\n",
    "a_df"
   ]
  },
  {
   "cell_type": "code",
   "execution_count": 44,
   "id": "e357c60b-0fad-4240-9f1f-a07ec0e9cd6e",
   "metadata": {},
   "outputs": [
    {
     "data": {
      "text/html": [
       "<div>\n",
       "<style scoped>\n",
       "    .dataframe tbody tr th:only-of-type {\n",
       "        vertical-align: middle;\n",
       "    }\n",
       "\n",
       "    .dataframe tbody tr th {\n",
       "        vertical-align: top;\n",
       "    }\n",
       "\n",
       "    .dataframe thead th {\n",
       "        text-align: right;\n",
       "    }\n",
       "</style>\n",
       "<table border=\"1\" class=\"dataframe\">\n",
       "  <thead>\n",
       "    <tr style=\"text-align: right;\">\n",
       "      <th></th>\n",
       "      <th>file_paths</th>\n",
       "      <th>targets</th>\n",
       "    </tr>\n",
       "  </thead>\n",
       "  <tbody>\n",
       "    <tr>\n",
       "      <th>0</th>\n",
       "      <td>../d_cnn/datasets/animals/original/butterfly/b...</td>\n",
       "      <td>0</td>\n",
       "    </tr>\n",
       "    <tr>\n",
       "      <th>1</th>\n",
       "      <td>../d_cnn/datasets/animals/original/butterfly/b...</td>\n",
       "      <td>0</td>\n",
       "    </tr>\n",
       "    <tr>\n",
       "      <th>2</th>\n",
       "      <td>../d_cnn/datasets/animals/original/butterfly/b...</td>\n",
       "      <td>0</td>\n",
       "    </tr>\n",
       "    <tr>\n",
       "      <th>3</th>\n",
       "      <td>../d_cnn/datasets/animals/original/butterfly/b...</td>\n",
       "      <td>0</td>\n",
       "    </tr>\n",
       "    <tr>\n",
       "      <th>4</th>\n",
       "      <td>../d_cnn/datasets/animals/original/butterfly/b...</td>\n",
       "      <td>0</td>\n",
       "    </tr>\n",
       "    <tr>\n",
       "      <th>...</th>\n",
       "      <td>...</td>\n",
       "      <td>...</td>\n",
       "    </tr>\n",
       "    <tr>\n",
       "      <th>26174</th>\n",
       "      <td>../d_cnn/datasets/animals/original/squirrel/sq...</td>\n",
       "      <td>9</td>\n",
       "    </tr>\n",
       "    <tr>\n",
       "      <th>26175</th>\n",
       "      <td>../d_cnn/datasets/animals/original/squirrel/sq...</td>\n",
       "      <td>9</td>\n",
       "    </tr>\n",
       "    <tr>\n",
       "      <th>26176</th>\n",
       "      <td>../d_cnn/datasets/animals/original/squirrel/sq...</td>\n",
       "      <td>9</td>\n",
       "    </tr>\n",
       "    <tr>\n",
       "      <th>26177</th>\n",
       "      <td>../d_cnn/datasets/animals/original/squirrel/sq...</td>\n",
       "      <td>9</td>\n",
       "    </tr>\n",
       "    <tr>\n",
       "      <th>26178</th>\n",
       "      <td>../d_cnn/datasets/animals/original/squirrel/sq...</td>\n",
       "      <td>9</td>\n",
       "    </tr>\n",
       "  </tbody>\n",
       "</table>\n",
       "<p>26179 rows × 2 columns</p>\n",
       "</div>"
      ],
      "text/plain": [
       "                                              file_paths  targets\n",
       "0      ../d_cnn/datasets/animals/original/butterfly/b...        0\n",
       "1      ../d_cnn/datasets/animals/original/butterfly/b...        0\n",
       "2      ../d_cnn/datasets/animals/original/butterfly/b...        0\n",
       "3      ../d_cnn/datasets/animals/original/butterfly/b...        0\n",
       "4      ../d_cnn/datasets/animals/original/butterfly/b...        0\n",
       "...                                                  ...      ...\n",
       "26174  ../d_cnn/datasets/animals/original/squirrel/sq...        9\n",
       "26175  ../d_cnn/datasets/animals/original/squirrel/sq...        9\n",
       "26176  ../d_cnn/datasets/animals/original/squirrel/sq...        9\n",
       "26177  ../d_cnn/datasets/animals/original/squirrel/sq...        9\n",
       "26178  ../d_cnn/datasets/animals/original/squirrel/sq...        9\n",
       "\n",
       "[26179 rows x 2 columns]"
      ]
     },
     "execution_count": 44,
     "metadata": {},
     "output_type": "execute_result"
    }
   ],
   "source": [
    "a_df.loc[:, 'file_paths'] = a_df.file_paths.apply(lambda x: x.replace('\\\\', '/'))\n",
    "a_df"
   ]
  },
  {
   "cell_type": "code",
   "execution_count": 45,
   "id": "090a673c-6139-4677-9f9a-abe9ee44e9e9",
   "metadata": {},
   "outputs": [
    {
     "name": "stdout",
     "output_type": "stream",
     "text": [
      "targets\n",
      "4    3890\n",
      "8    3857\n",
      "2    2478\n",
      "6    2098\n",
      "0    1690\n",
      "3    1493\n",
      "9    1490\n",
      "7    1456\n",
      "1    1334\n",
      "5    1157\n",
      "Name: count, dtype: int64\n",
      "targets\n",
      "4    973\n",
      "8    964\n",
      "2    620\n",
      "6    525\n",
      "0    422\n",
      "3    373\n",
      "9    372\n",
      "7    364\n",
      "1    334\n",
      "5    289\n",
      "Name: count, dtype: int64\n"
     ]
    }
   ],
   "source": [
    "from sklearn.model_selection import train_test_split\n",
    "\n",
    "X_train, X_test, y_train, y_test =\\\n",
    "train_test_split(a_df.file_paths, a_df.targets, stratify=a_df.targets, test_size=0.2, random_state=124)\n",
    "\n",
    "print(y_train.value_counts())\n",
    "print(y_test.value_counts())"
   ]
  },
  {
   "cell_type": "code",
   "execution_count": 47,
   "id": "717c5a0d-4524-48e9-b4ce-beaffed88adb",
   "metadata": {},
   "outputs": [
    {
     "name": "stdout",
     "output_type": "stream",
     "text": [
      "targets\n",
      "4    3112\n",
      "8    3086\n",
      "2    1982\n",
      "6    1678\n",
      "0    1352\n",
      "3    1194\n",
      "9    1192\n",
      "7    1165\n",
      "1    1067\n",
      "5     926\n",
      "Name: count, dtype: int64\n",
      "targets\n",
      "4    778\n",
      "8    771\n",
      "2    496\n",
      "6    420\n",
      "0    338\n",
      "3    299\n",
      "9    298\n",
      "7    291\n",
      "1    267\n",
      "5    231\n",
      "Name: count, dtype: int64\n"
     ]
    }
   ],
   "source": [
    "from sklearn.model_selection import train_test_split\n",
    "\n",
    "X_train, X_val, y_train, y_val = \\\n",
    "train_test_split(X_train, y_train, stratify=y_train, test_size=0.2, random_state=124)\n",
    "\n",
    "print(y_train.value_counts())\n",
    "print(y_val.value_counts())"
   ]
  },
  {
   "cell_type": "code",
   "execution_count": 53,
   "id": "e7c0fa77-d751-44ba-a572-f25756ffacc3",
   "metadata": {},
   "outputs": [],
   "source": [
    "import shutil\n",
    "\n",
    "root = '../d_cnn/datasets/animals/'\n",
    "\n",
    "for file_path in X_train:\n",
    "    # animal_dir을 경로 구분자로 분할하여 추출\n",
    "    animal_dir = file_path[len(os.path.join(root, 'original')) + 1:file_path.rindex('/')]\n",
    "    destination = os.path.join(root, 'train', animal_dir)\n",
    "\n",
    "    # destination 디렉토리가 존재하지 않으면 생성\n",
    "    if not os.path.exists(destination):\n",
    "        os.makedirs(destination)\n",
    "\n",
    "    # 파일을 destination 디렉토리로 복사\n",
    "    shutil.copy2(file_path, destination)\n"
   ]
  },
  {
   "cell_type": "code",
   "execution_count": 54,
   "id": "a54fe97d-1522-4983-b54f-0ad2c1c9edf8",
   "metadata": {},
   "outputs": [],
   "source": [
    "import shutil\n",
    "\n",
    "root = '../d_cnn/datasets/animals/'\n",
    "\n",
    "for file_path in X_val:\n",
    "    # animal_dir을 경로 구분자로 분할하여 추출\n",
    "    animal_dir = file_path[len(os.path.join(root, 'original')) + 1:file_path.rindex('/')]\n",
    "    destination = os.path.join(root, 'validation', animal_dir)\n",
    "\n",
    "    # destination 디렉토리가 존재하지 않으면 생성\n",
    "    if not os.path.exists(destination):\n",
    "        os.makedirs(destination)\n",
    "\n",
    "    # 파일을 destination 디렉토리로 복사\n",
    "    shutil.copy2(file_path, destination)\n"
   ]
  },
  {
   "cell_type": "code",
   "execution_count": 55,
   "id": "348fefc7-9d6d-4286-9a25-fba68834c57d",
   "metadata": {},
   "outputs": [],
   "source": [
    "import shutil\n",
    "\n",
    "root = '../d_cnn/datasets/animals/'\n",
    "\n",
    "for file_path in X_test:\n",
    "    # animal_dir을 경로 구분자로 분할하여 추출\n",
    "    animal_dir = file_path[len(os.path.join(root, 'original')) + 1:file_path.rindex('/')]\n",
    "    destination = os.path.join(root, 'test', animal_dir)\n",
    "\n",
    "    # destination 디렉토리가 존재하지 않으면 생성\n",
    "    if not os.path.exists(destination):\n",
    "        os.makedirs(destination)\n",
    "\n",
    "    # 파일을 destination 디렉토리로 복사\n",
    "    shutil.copy2(file_path, destination)\n"
   ]
  }
 ],
 "metadata": {
  "kernelspec": {
   "display_name": "Python 3 (ipykernel)",
   "language": "python",
   "name": "python3"
  },
  "language_info": {
   "codemirror_mode": {
    "name": "ipython",
    "version": 3
   },
   "file_extension": ".py",
   "mimetype": "text/x-python",
   "name": "python",
   "nbconvert_exporter": "python",
   "pygments_lexer": "ipython3",
   "version": "3.11.7"
  }
 },
 "nbformat": 4,
 "nbformat_minor": 5
}
