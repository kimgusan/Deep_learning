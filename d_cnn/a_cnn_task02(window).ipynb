{
 "cells": [
  {
   "cell_type": "markdown",
   "id": "34acb4db-68d5-4898-a8be-0efd25705b7e",
   "metadata": {},
   "source": [
    "### 동물 분류\n",
    "https://drive.google.com/file/d/1_d8RcCM21XneorFe_m4939erMkCnccS1/view?usp=drive_link"
   ]
  },
  {
   "cell_type": "code",
   "execution_count": 5,
   "id": "d5768d82-1456-4fce-8a48-d54402a48dc9",
   "metadata": {},
   "outputs": [
    {
     "name": "stdout",
     "output_type": "stream",
     "text": [
      "{'cane': 'dog', 'cavallo': 'horse', 'elefante': 'elephant', 'farfalla': 'butterfly', 'gallina': 'chicken', 'gatto': 'cat', 'mucca': 'cow', 'pecora': 'sheep', 'scoiattolo': 'squirrel', 'dog': 'cane', 'elephant': 'elefante', 'butterfly': 'farfalla', 'chicken': 'gallina', 'cat': 'gatto', 'cow': 'mucca', 'spider': 'ragno', 'squirrel': 'scoiattolo'}\n",
      "{'dog': 'cane', 'horse': 'cavallo', 'elephant': 'elefante', 'butterfly': 'farfalla', 'chicken': 'gallina', 'cat': 'gatto', 'cow': 'mucca', 'sheep': 'pecora', 'squirrel': 'scoiattolo', 'cane': 'dog', 'elefante': 'elephant', 'farfalla': 'butterfly', 'gallina': 'chicken', 'gatto': 'cat', 'mucca': 'cow', 'ragno': 'spider', 'scoiattolo': 'squirrel'}\n"
     ]
    }
   ],
   "source": [
    "with open('./datasets/animals/translate.py') as f:\n",
    "    content = f.readline()\n",
    "    contents1 = eval(content[content.index('{'):content.index('}') + 1])\n",
    "    contents2 = {v : k for k, v in contents1.items()}\n",
    "\n",
    "print(contents1, contents2, sep='\\n')"
   ]
  },
  {
   "cell_type": "code",
   "execution_count": 12,
   "id": "bc6f29b0-1de4-496d-97fa-463a050efb80",
   "metadata": {},
   "outputs": [],
   "source": [
    "from glob import glob\n",
    "import os\n",
    "\n",
    "root = './datasets/animals/original/'\n",
    "\n",
    "directories = glob(os.path.join(root, '*'))\n",
    "\n",
    "for directory in directories:\n",
    "    try:\n",
    "        os.rename(directory, os.path.join(root, contents1[directory[directory.rindex('\\\\') + 1:]]))\n",
    "    except KeyError as e:\n",
    "        os.rename(directory, os.path.join(root, contents2[directory[directory.rindex('\\\\') + 1:]]))"
   ]
  },
  {
   "cell_type": "code",
   "execution_count": 15,
   "id": "91c55a78-2fc6-4661-bfb4-4bca31d91413",
   "metadata": {},
   "outputs": [
    {
     "name": "stdout",
     "output_type": "stream",
     "text": [
      "['butterfly', 'cat', 'chicken', 'cow', 'dog', 'elephant', 'horse', 'sheep', 'spider', 'squirrel']\n"
     ]
    }
   ],
   "source": [
    "root = './datasets/animals/original/'\n",
    "\n",
    "directories = glob(os.path.join(root, '*'))\n",
    "directory_names = []\n",
    "for directory in directories:\n",
    "    directory_names.append(directory[directory.rindex('\\\\') + 1:])\n",
    "\n",
    "print(directory_names)"
   ]
  },
  {
   "cell_type": "code",
   "execution_count": 16,
   "id": "53c7797f-74e1-4578-83b9-5a22364870c6",
   "metadata": {},
   "outputs": [],
   "source": [
    "root = './datasets/animals/original/'\n",
    "\n",
    "for name in directory_names:\n",
    "    for i, file_name in enumerate(os.listdir(os.path.join(root, name))):\n",
    "        old_file = os.path.join(root + name + '/', file_name)\n",
    "        new_file = os.path.join(root + name + '/', name + str(i + 1) + '.png')\n",
    "\n",
    "        os.rename(old_file, new_file)"
   ]
  },
  {
   "cell_type": "code",
   "execution_count": 17,
   "id": "fd7efdbc-539f-4daf-a681-adb904d3a702",
   "metadata": {},
   "outputs": [
    {
     "name": "stdout",
     "output_type": "stream",
     "text": [
      "Found 26179 images belonging to 10 classes.\n",
      "{'butterfly': 0, 'cat': 1, 'chicken': 2, 'cow': 3, 'dog': 4, 'elephant': 5, 'horse': 6, 'sheep': 7, 'spider': 8, 'squirrel': 9}\n"
     ]
    }
   ],
   "source": [
    "from tensorflow.keras.preprocessing.image import ImageDataGenerator\n",
    "\n",
    "image_data_generator = ImageDataGenerator(rescale=1./255)\n",
    "\n",
    "generator = image_data_generator.flow_from_directory(root, target_size=(150, 150), batch_size=32, class_mode='categorical')\n",
    "print(generator.class_indices)"
   ]
  },
  {
   "cell_type": "code",
   "execution_count": 18,
   "id": "bff28422-d565-46f8-9695-966c312b37a4",
   "metadata": {},
   "outputs": [
    {
     "data": {
      "text/html": [
       "<div>\n",
       "<style scoped>\n",
       "    .dataframe tbody tr th:only-of-type {\n",
       "        vertical-align: middle;\n",
       "    }\n",
       "\n",
       "    .dataframe tbody tr th {\n",
       "        vertical-align: top;\n",
       "    }\n",
       "\n",
       "    .dataframe thead th {\n",
       "        text-align: right;\n",
       "    }\n",
       "</style>\n",
       "<table border=\"1\" class=\"dataframe\">\n",
       "  <thead>\n",
       "    <tr style=\"text-align: right;\">\n",
       "      <th></th>\n",
       "      <th>file_paths</th>\n",
       "      <th>targets</th>\n",
       "    </tr>\n",
       "  </thead>\n",
       "  <tbody>\n",
       "    <tr>\n",
       "      <th>0</th>\n",
       "      <td>./datasets/animals/original/butterfly\\butterfl...</td>\n",
       "      <td>0</td>\n",
       "    </tr>\n",
       "    <tr>\n",
       "      <th>1</th>\n",
       "      <td>./datasets/animals/original/butterfly\\butterfl...</td>\n",
       "      <td>0</td>\n",
       "    </tr>\n",
       "    <tr>\n",
       "      <th>2</th>\n",
       "      <td>./datasets/animals/original/butterfly\\butterfl...</td>\n",
       "      <td>0</td>\n",
       "    </tr>\n",
       "    <tr>\n",
       "      <th>3</th>\n",
       "      <td>./datasets/animals/original/butterfly\\butterfl...</td>\n",
       "      <td>0</td>\n",
       "    </tr>\n",
       "    <tr>\n",
       "      <th>4</th>\n",
       "      <td>./datasets/animals/original/butterfly\\butterfl...</td>\n",
       "      <td>0</td>\n",
       "    </tr>\n",
       "    <tr>\n",
       "      <th>...</th>\n",
       "      <td>...</td>\n",
       "      <td>...</td>\n",
       "    </tr>\n",
       "    <tr>\n",
       "      <th>26174</th>\n",
       "      <td>./datasets/animals/original/squirrel\\squirrel9...</td>\n",
       "      <td>9</td>\n",
       "    </tr>\n",
       "    <tr>\n",
       "      <th>26175</th>\n",
       "      <td>./datasets/animals/original/squirrel\\squirrel9...</td>\n",
       "      <td>9</td>\n",
       "    </tr>\n",
       "    <tr>\n",
       "      <th>26176</th>\n",
       "      <td>./datasets/animals/original/squirrel\\squirrel9...</td>\n",
       "      <td>9</td>\n",
       "    </tr>\n",
       "    <tr>\n",
       "      <th>26177</th>\n",
       "      <td>./datasets/animals/original/squirrel\\squirrel9...</td>\n",
       "      <td>9</td>\n",
       "    </tr>\n",
       "    <tr>\n",
       "      <th>26178</th>\n",
       "      <td>./datasets/animals/original/squirrel\\squirrel9...</td>\n",
       "      <td>9</td>\n",
       "    </tr>\n",
       "  </tbody>\n",
       "</table>\n",
       "<p>26179 rows × 2 columns</p>\n",
       "</div>"
      ],
      "text/plain": [
       "                                              file_paths  targets\n",
       "0      ./datasets/animals/original/butterfly\\butterfl...        0\n",
       "1      ./datasets/animals/original/butterfly\\butterfl...        0\n",
       "2      ./datasets/animals/original/butterfly\\butterfl...        0\n",
       "3      ./datasets/animals/original/butterfly\\butterfl...        0\n",
       "4      ./datasets/animals/original/butterfly\\butterfl...        0\n",
       "...                                                  ...      ...\n",
       "26174  ./datasets/animals/original/squirrel\\squirrel9...        9\n",
       "26175  ./datasets/animals/original/squirrel\\squirrel9...        9\n",
       "26176  ./datasets/animals/original/squirrel\\squirrel9...        9\n",
       "26177  ./datasets/animals/original/squirrel\\squirrel9...        9\n",
       "26178  ./datasets/animals/original/squirrel\\squirrel9...        9\n",
       "\n",
       "[26179 rows x 2 columns]"
      ]
     },
     "execution_count": 18,
     "metadata": {},
     "output_type": "execute_result"
    }
   ],
   "source": [
    "import pandas as pd\n",
    "\n",
    "a_df = pd.DataFrame({'file_paths': generator.filepaths, 'targets': generator.classes})\n",
    "a_df"
   ]
  },
  {
   "cell_type": "code",
   "execution_count": 19,
   "id": "ff8fa219-49db-4023-8990-5a026ad23f23",
   "metadata": {},
   "outputs": [
    {
     "data": {
      "text/html": [
       "<div>\n",
       "<style scoped>\n",
       "    .dataframe tbody tr th:only-of-type {\n",
       "        vertical-align: middle;\n",
       "    }\n",
       "\n",
       "    .dataframe tbody tr th {\n",
       "        vertical-align: top;\n",
       "    }\n",
       "\n",
       "    .dataframe thead th {\n",
       "        text-align: right;\n",
       "    }\n",
       "</style>\n",
       "<table border=\"1\" class=\"dataframe\">\n",
       "  <thead>\n",
       "    <tr style=\"text-align: right;\">\n",
       "      <th></th>\n",
       "      <th>file_paths</th>\n",
       "      <th>targets</th>\n",
       "    </tr>\n",
       "  </thead>\n",
       "  <tbody>\n",
       "    <tr>\n",
       "      <th>0</th>\n",
       "      <td>./datasets/animals/original/butterfly/butterfl...</td>\n",
       "      <td>0</td>\n",
       "    </tr>\n",
       "    <tr>\n",
       "      <th>1</th>\n",
       "      <td>./datasets/animals/original/butterfly/butterfl...</td>\n",
       "      <td>0</td>\n",
       "    </tr>\n",
       "    <tr>\n",
       "      <th>2</th>\n",
       "      <td>./datasets/animals/original/butterfly/butterfl...</td>\n",
       "      <td>0</td>\n",
       "    </tr>\n",
       "    <tr>\n",
       "      <th>3</th>\n",
       "      <td>./datasets/animals/original/butterfly/butterfl...</td>\n",
       "      <td>0</td>\n",
       "    </tr>\n",
       "    <tr>\n",
       "      <th>4</th>\n",
       "      <td>./datasets/animals/original/butterfly/butterfl...</td>\n",
       "      <td>0</td>\n",
       "    </tr>\n",
       "    <tr>\n",
       "      <th>...</th>\n",
       "      <td>...</td>\n",
       "      <td>...</td>\n",
       "    </tr>\n",
       "    <tr>\n",
       "      <th>26174</th>\n",
       "      <td>./datasets/animals/original/squirrel/squirrel9...</td>\n",
       "      <td>9</td>\n",
       "    </tr>\n",
       "    <tr>\n",
       "      <th>26175</th>\n",
       "      <td>./datasets/animals/original/squirrel/squirrel9...</td>\n",
       "      <td>9</td>\n",
       "    </tr>\n",
       "    <tr>\n",
       "      <th>26176</th>\n",
       "      <td>./datasets/animals/original/squirrel/squirrel9...</td>\n",
       "      <td>9</td>\n",
       "    </tr>\n",
       "    <tr>\n",
       "      <th>26177</th>\n",
       "      <td>./datasets/animals/original/squirrel/squirrel9...</td>\n",
       "      <td>9</td>\n",
       "    </tr>\n",
       "    <tr>\n",
       "      <th>26178</th>\n",
       "      <td>./datasets/animals/original/squirrel/squirrel9...</td>\n",
       "      <td>9</td>\n",
       "    </tr>\n",
       "  </tbody>\n",
       "</table>\n",
       "<p>26179 rows × 2 columns</p>\n",
       "</div>"
      ],
      "text/plain": [
       "                                              file_paths  targets\n",
       "0      ./datasets/animals/original/butterfly/butterfl...        0\n",
       "1      ./datasets/animals/original/butterfly/butterfl...        0\n",
       "2      ./datasets/animals/original/butterfly/butterfl...        0\n",
       "3      ./datasets/animals/original/butterfly/butterfl...        0\n",
       "4      ./datasets/animals/original/butterfly/butterfl...        0\n",
       "...                                                  ...      ...\n",
       "26174  ./datasets/animals/original/squirrel/squirrel9...        9\n",
       "26175  ./datasets/animals/original/squirrel/squirrel9...        9\n",
       "26176  ./datasets/animals/original/squirrel/squirrel9...        9\n",
       "26177  ./datasets/animals/original/squirrel/squirrel9...        9\n",
       "26178  ./datasets/animals/original/squirrel/squirrel9...        9\n",
       "\n",
       "[26179 rows x 2 columns]"
      ]
     },
     "execution_count": 19,
     "metadata": {},
     "output_type": "execute_result"
    }
   ],
   "source": [
    "a_df.loc[:, 'file_paths'] = a_df.file_paths.apply(lambda x: x.replace('\\\\', '/'))\n",
    "a_df"
   ]
  },
  {
   "cell_type": "code",
   "execution_count": 21,
   "id": "6712a7ea-f028-4a50-ac73-5ddb256b7cb7",
   "metadata": {},
   "outputs": [
    {
     "name": "stdout",
     "output_type": "stream",
     "text": [
      "targets\n",
      "4    3890\n",
      "8    3857\n",
      "2    2478\n",
      "6    2098\n",
      "0    1690\n",
      "3    1493\n",
      "9    1490\n",
      "7    1456\n",
      "1    1334\n",
      "5    1157\n",
      "Name: count, dtype: int64\n",
      "targets\n",
      "4    973\n",
      "8    964\n",
      "2    620\n",
      "6    525\n",
      "0    422\n",
      "3    373\n",
      "9    372\n",
      "7    364\n",
      "1    334\n",
      "5    289\n",
      "Name: count, dtype: int64\n"
     ]
    }
   ],
   "source": [
    "from sklearn.model_selection import train_test_split\n",
    "\n",
    "X_train, X_test, y_train, y_test = \\\n",
    "train_test_split(a_df.file_paths, a_df.targets, stratify=a_df.targets, test_size=0.2, random_state=124)\n",
    "\n",
    "print(y_train.value_counts())\n",
    "print(y_test.value_counts())"
   ]
  },
  {
   "cell_type": "code",
   "execution_count": 22,
   "id": "edd20486-e678-4efc-8244-27c86f23467d",
   "metadata": {},
   "outputs": [
    {
     "name": "stdout",
     "output_type": "stream",
     "text": [
      "targets\n",
      "4    3112\n",
      "8    3086\n",
      "2    1982\n",
      "6    1678\n",
      "0    1352\n",
      "3    1194\n",
      "9    1192\n",
      "7    1165\n",
      "1    1067\n",
      "5     926\n",
      "Name: count, dtype: int64\n",
      "targets\n",
      "4    778\n",
      "8    771\n",
      "2    496\n",
      "6    420\n",
      "0    338\n",
      "3    299\n",
      "9    298\n",
      "7    291\n",
      "1    267\n",
      "5    231\n",
      "Name: count, dtype: int64\n"
     ]
    }
   ],
   "source": [
    "from sklearn.model_selection import train_test_split\n",
    "\n",
    "X_train, X_val, y_train, y_val = \\\n",
    "train_test_split(X_train, y_train, stratify=y_train, test_size=0.2, random_state=124)\n",
    "\n",
    "print(y_train.value_counts())\n",
    "print(y_val.value_counts())"
   ]
  },
  {
   "cell_type": "code",
   "execution_count": 31,
   "id": "cb58327b-e6b8-471d-ba2a-13fc4afb1817",
   "metadata": {},
   "outputs": [],
   "source": [
    "import shutil\n",
    "\n",
    "root = './datasets/animals/'\n",
    "\n",
    "for file_path in X_train:\n",
    "    animal_dir = file_path[len(root + 'original/'): file_path.rindex('/')]\n",
    "    destination = os.path.join(root, 'train/' + animal_dir)\n",
    "\n",
    "    if not os.path.exists(destination):\n",
    "        os.makedirs(destination)\n",
    "\n",
    "    shutil.copy2(file_path, destination)"
   ]
  },
  {
   "cell_type": "code",
   "execution_count": 32,
   "id": "66f9f031-67b6-41fe-83b3-d5331b644044",
   "metadata": {},
   "outputs": [],
   "source": [
    "import shutil\n",
    "\n",
    "root = './datasets/animals/'\n",
    "\n",
    "for file_path in X_val:\n",
    "    animal_dir = file_path[len(root + 'original/'): file_path.rindex('/')]\n",
    "    destination = os.path.join(root, 'validation/' + animal_dir)\n",
    "\n",
    "    if not os.path.exists(destination):\n",
    "        os.makedirs(destination)\n",
    "\n",
    "    shutil.copy2(file_path, destination)"
   ]
  },
  {
   "cell_type": "code",
   "execution_count": 33,
   "id": "6c42e60c-9dc1-4ae9-9a66-a9b579ad4601",
   "metadata": {},
   "outputs": [],
   "source": [
    "import shutil\n",
    "\n",
    "root = './datasets/animals/'\n",
    "\n",
    "for file_path in X_test:\n",
    "    animal_dir = file_path[len(root + 'original/'): file_path.rindex('/')]\n",
    "    destination = os.path.join(root, 'test/' + animal_dir)\n",
    "\n",
    "    if not os.path.exists(destination):\n",
    "        os.makedirs(destination)\n",
    "\n",
    "    shutil.copy2(file_path, destination)"
   ]
  }
 ],
 "metadata": {
  "kernelspec": {
   "display_name": "Python 3 (ipykernel)",
   "language": "python",
   "name": "python3"
  },
  "language_info": {
   "codemirror_mode": {
    "name": "ipython",
    "version": 3
   },
   "file_extension": ".py",
   "mimetype": "text/x-python",
   "name": "python",
   "nbconvert_exporter": "python",
   "pygments_lexer": "ipython3",
   "version": "3.11.8"
  }
 },
 "nbformat": 4,
 "nbformat_minor": 5
}
