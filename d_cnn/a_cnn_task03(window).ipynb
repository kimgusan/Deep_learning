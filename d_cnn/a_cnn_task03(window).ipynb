{
 "cells": [
  {
   "cell_type": "markdown",
   "id": "6f8ebf20-d47c-4a06-a47f-6d5ed42edd4b",
   "metadata": {},
   "source": [
    "### 표정 분류\n",
    "\n",
    "https://drive.google.com/file/d/1lpwQNwijBfaSr8knSNHKWu5KUmzYWU9d/view?usp=drive_link"
   ]
  }
 ],
 "metadata": {
  "kernelspec": {
   "display_name": "Python 3 (ipykernel)",
   "language": "python",
   "name": "python3"
  },
  "language_info": {
   "codemirror_mode": {
    "name": "ipython",
    "version": 3
   },
   "file_extension": ".py",
   "mimetype": "text/x-python",
   "name": "python",
   "nbconvert_exporter": "python",
   "pygments_lexer": "ipython3",
   "version": "3.11.8"
  }
 },
 "nbformat": 4,
 "nbformat_minor": 5
}
