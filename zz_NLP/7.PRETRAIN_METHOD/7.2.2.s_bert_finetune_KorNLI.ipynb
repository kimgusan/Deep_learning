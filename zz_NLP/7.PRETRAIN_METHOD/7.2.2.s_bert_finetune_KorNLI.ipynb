{
 "cells": [
  {
   "cell_type": "code",
   "execution_count": 1,
   "metadata": {},
   "outputs": [],
   "source": [
    "import os\n",
    "import tensorflow as tf\n",
    "from transformers import BertTokenizer, TFBertModel\n",
    "\n",
    "import numpy as np\n",
    "import pandas as pd\n",
    "\n",
    "from tensorflow.keras.preprocessing.sequence import pad_sequences\n",
    "from tensorflow.keras.callbacks import EarlyStopping, ModelCheckpoint\n",
    "\n",
    "import matplotlib.pyplot as plt"
   ]
  },
  {
   "cell_type": "code",
   "execution_count": 2,
   "metadata": {},
   "outputs": [],
   "source": [
    "# 시각화\n",
    "\n",
    "def plot_graphs(history, string):\n",
    "    plt.plot(history.history[string])\n",
    "    plt.plot(history.history['val_'+string], '')\n",
    "    plt.xlabel(\"Epochs\")\n",
    "    plt.ylabel(string)\n",
    "    plt.legend([string, 'val_'+string])\n",
    "    plt.show()"
   ]
  },
  {
   "cell_type": "code",
   "execution_count": 3,
   "metadata": {},
   "outputs": [],
   "source": [
    "#random seed 고정\n",
    "\n",
    "tf.random.set_seed(1234)\n",
    "np.random.seed(1234)\n",
    "\n",
    "# BASE PARAM\n",
    "\n",
    "BATCH_SIZE = 32\n",
    "NUM_EPOCHS = 3\n",
    "MAX_LEN = 24 * 2 # Average total * 2\n",
    "\n",
    "DATA_IN_PATH = './data_in/KOR'\n",
    "DATA_OUT_PATH = \"./data_out/KOR\""
   ]
  },
  {
   "cell_type": "markdown",
   "metadata": {},
   "source": [
    "# KorNLI Dataset\n",
    "\n",
    "Data from Kakaobrain:  https://github.com/kakaobrain/KorNLUDatasets"
   ]
  },
  {
   "cell_type": "code",
   "execution_count": 4,
   "metadata": {},
   "outputs": [
    {
     "name": "stderr",
     "output_type": "stream",
     "text": [
      "/var/folders/f7/gl6wpvqx5z596rbpjsq5n3tc0000gn/T/ipykernel_93588/888874208.py:11: FutureWarning: The frame.append method is deprecated and will be removed from pandas in a future version. Use pandas.concat instead.\n",
      "  train_data_snli_xnli = train_data_snli.append(train_data_xnli)\n"
     ]
    },
    {
     "name": "stdout",
     "output_type": "stream",
     "text": [
      "Total # dataset: train - 942808, dev - 2490\n"
     ]
    }
   ],
   "source": [
    "# Load Train dataset\n",
    "\n",
    "TRAIN_SNLI_DF = os.path.join(DATA_IN_PATH, 'KorNLI', 'snli_1.0_train.kor.tsv')\n",
    "TRAIN_XNLI_DF = os.path.join(DATA_IN_PATH, 'KorNLI', 'multinli.train.ko.tsv')\n",
    "DEV_XNLI_DF = os.path.join(DATA_IN_PATH, 'KorNLI', 'xnli.dev.ko.tsv')\n",
    "\n",
    "train_data_snli = pd.read_csv(TRAIN_SNLI_DF, header=0, delimiter = '\\t', quoting = 3)\n",
    "train_data_xnli = pd.read_csv(TRAIN_XNLI_DF, header=0, delimiter = '\\t', quoting = 3)\n",
    "dev_data_xnli = pd.read_csv(DEV_XNLI_DF, header=0, delimiter = '\\t', quoting = 3)\n",
    "\n",
    "train_data_snli_xnli = train_data_snli.append(train_data_xnli)\n",
    "# 중복값 제거\n",
    "train_data_snli_xnli = train_data_snli_xnli.dropna()\n",
    "# 인덱스 초기화\n",
    "train_data_snli_xnli = train_data_snli_xnli.reset_index()\n",
    "\n",
    "dev_data_xnli = dev_data_xnli.dropna()\n",
    "\n",
    "print(\"Total # dataset: train - {}, dev - {}\".format(len(train_data_snli_xnli), len(dev_data_xnli)))"
   ]
  },
  {
   "cell_type": "code",
   "execution_count": 5,
   "metadata": {},
   "outputs": [
    {
     "data": {
      "text/html": [
       "<div>\n",
       "<style scoped>\n",
       "    .dataframe tbody tr th:only-of-type {\n",
       "        vertical-align: middle;\n",
       "    }\n",
       "\n",
       "    .dataframe tbody tr th {\n",
       "        vertical-align: top;\n",
       "    }\n",
       "\n",
       "    .dataframe thead th {\n",
       "        text-align: right;\n",
       "    }\n",
       "</style>\n",
       "<table border=\"1\" class=\"dataframe\">\n",
       "  <thead>\n",
       "    <tr style=\"text-align: right;\">\n",
       "      <th></th>\n",
       "      <th>index</th>\n",
       "      <th>sentence1</th>\n",
       "      <th>sentence2</th>\n",
       "      <th>gold_label</th>\n",
       "    </tr>\n",
       "  </thead>\n",
       "  <tbody>\n",
       "    <tr>\n",
       "      <th>0</th>\n",
       "      <td>0</td>\n",
       "      <td>말을 탄 사람이 고장난 비행기 위로 뛰어오른다.</td>\n",
       "      <td>한 사람이 경쟁을 위해 말을 훈련시키고 있다.</td>\n",
       "      <td>neutral</td>\n",
       "    </tr>\n",
       "    <tr>\n",
       "      <th>1</th>\n",
       "      <td>1</td>\n",
       "      <td>말을 탄 사람이 고장난 비행기 위로 뛰어오른다.</td>\n",
       "      <td>한 사람이 식당에서 오믈렛을 주문하고 있다.</td>\n",
       "      <td>contradiction</td>\n",
       "    </tr>\n",
       "    <tr>\n",
       "      <th>2</th>\n",
       "      <td>2</td>\n",
       "      <td>말을 탄 사람이 고장난 비행기 위로 뛰어오른다.</td>\n",
       "      <td>사람은 야외에서 말을 타고 있다.</td>\n",
       "      <td>entailment</td>\n",
       "    </tr>\n",
       "    <tr>\n",
       "      <th>3</th>\n",
       "      <td>3</td>\n",
       "      <td>카메라에 웃고 손을 흔드는 아이들</td>\n",
       "      <td>그들은 부모님을 보고 웃고 있다</td>\n",
       "      <td>neutral</td>\n",
       "    </tr>\n",
       "    <tr>\n",
       "      <th>4</th>\n",
       "      <td>4</td>\n",
       "      <td>카메라에 웃고 손을 흔드는 아이들</td>\n",
       "      <td>아이들이 있다</td>\n",
       "      <td>entailment</td>\n",
       "    </tr>\n",
       "    <tr>\n",
       "      <th>...</th>\n",
       "      <td>...</td>\n",
       "      <td>...</td>\n",
       "      <td>...</td>\n",
       "      <td>...</td>\n",
       "    </tr>\n",
       "    <tr>\n",
       "      <th>942803</th>\n",
       "      <td>392697</td>\n",
       "      <td>분명히, 캘리포니아는 더 잘 할 수 있고, 더 잘해야 한다.</td>\n",
       "      <td>캘리포니아는 더 잘할 수 없다.</td>\n",
       "      <td>contradiction</td>\n",
       "    </tr>\n",
       "    <tr>\n",
       "      <th>942804</th>\n",
       "      <td>392698</td>\n",
       "      <td>한때 유럽에서 가장 아름다운 거리로 여겨졌는데, 이는 원래의 많은 건물들이 교체되었...</td>\n",
       "      <td>그래서 원래의 많은 건물들이 편의점으로 대체되었다.</td>\n",
       "      <td>neutral</td>\n",
       "    </tr>\n",
       "    <tr>\n",
       "      <th>942805</th>\n",
       "      <td>392699</td>\n",
       "      <td>하우스보트는 영국 라지의 전성기의 아름답게 보존된 전통이다.</td>\n",
       "      <td>하우스보트의 전통은 영국 라지가 여전히 강해지는 동안 시작되었다.</td>\n",
       "      <td>entailment</td>\n",
       "    </tr>\n",
       "    <tr>\n",
       "      <th>942806</th>\n",
       "      <td>392700</td>\n",
       "      <td>사망 기사는 그의 평론가의 신디케이트 TV 쇼에서 동료 검토 자 Roger Eber...</td>\n",
       "      <td>부고문은 아름다웠고 연예계에서의 그의 업적에 대해 현물로 쓰여졌다.</td>\n",
       "      <td>neutral</td>\n",
       "    </tr>\n",
       "    <tr>\n",
       "      <th>942807</th>\n",
       "      <td>392701</td>\n",
       "      <td>내가 해야 한다는 걸 알거나, 아니면 누가 하라고 하는 것보다 그녀를 밀고하는 것에...</td>\n",
       "      <td>남편이 요즘 너무 과로해서 이 근처에서 많은 일을 부탁할 용기가 나지 않는다.</td>\n",
       "      <td>neutral</td>\n",
       "    </tr>\n",
       "  </tbody>\n",
       "</table>\n",
       "<p>942808 rows × 4 columns</p>\n",
       "</div>"
      ],
      "text/plain": [
       "         index                                          sentence1  \\\n",
       "0            0                         말을 탄 사람이 고장난 비행기 위로 뛰어오른다.   \n",
       "1            1                         말을 탄 사람이 고장난 비행기 위로 뛰어오른다.   \n",
       "2            2                         말을 탄 사람이 고장난 비행기 위로 뛰어오른다.   \n",
       "3            3                                 카메라에 웃고 손을 흔드는 아이들   \n",
       "4            4                                 카메라에 웃고 손을 흔드는 아이들   \n",
       "...        ...                                                ...   \n",
       "942803  392697                  분명히, 캘리포니아는 더 잘 할 수 있고, 더 잘해야 한다.   \n",
       "942804  392698  한때 유럽에서 가장 아름다운 거리로 여겨졌는데, 이는 원래의 많은 건물들이 교체되었...   \n",
       "942805  392699                  하우스보트는 영국 라지의 전성기의 아름답게 보존된 전통이다.   \n",
       "942806  392700  사망 기사는 그의 평론가의 신디케이트 TV 쇼에서 동료 검토 자 Roger Eber...   \n",
       "942807  392701  내가 해야 한다는 걸 알거나, 아니면 누가 하라고 하는 것보다 그녀를 밀고하는 것에...   \n",
       "\n",
       "                                          sentence2     gold_label  \n",
       "0                         한 사람이 경쟁을 위해 말을 훈련시키고 있다.        neutral  \n",
       "1                          한 사람이 식당에서 오믈렛을 주문하고 있다.  contradiction  \n",
       "2                                사람은 야외에서 말을 타고 있다.     entailment  \n",
       "3                                 그들은 부모님을 보고 웃고 있다        neutral  \n",
       "4                                           아이들이 있다     entailment  \n",
       "...                                             ...            ...  \n",
       "942803                            캘리포니아는 더 잘할 수 없다.  contradiction  \n",
       "942804                 그래서 원래의 많은 건물들이 편의점으로 대체되었다.        neutral  \n",
       "942805         하우스보트의 전통은 영국 라지가 여전히 강해지는 동안 시작되었다.     entailment  \n",
       "942806        부고문은 아름다웠고 연예계에서의 그의 업적에 대해 현물로 쓰여졌다.        neutral  \n",
       "942807  남편이 요즘 너무 과로해서 이 근처에서 많은 일을 부탁할 용기가 나지 않는다.        neutral  \n",
       "\n",
       "[942808 rows x 4 columns]"
      ]
     },
     "execution_count": 5,
     "metadata": {},
     "output_type": "execute_result"
    }
   ],
   "source": [
    "train_data_snli_xnli"
   ]
  },
  {
   "cell_type": "code",
   "execution_count": 6,
   "metadata": {},
   "outputs": [],
   "source": [
    "# Bert Tokenizer\n",
    "\n",
    "# 참조: https://huggingface.co/transformers/main_classes/tokenizer.html?highlight=encode_plus#transformers.PreTrainedTokenizer.encode_plus\n",
    "\n",
    "# 사용할 토크나이저 결정\n",
    "tokenizer = BertTokenizer.from_pretrained(\"bert-base-multilingual-cased\", cache_dir='bert_ckpt', do_lower_case=False,\n",
    "                                          clean_up_tokenization_spaces = True)\n",
    "\n",
    "def bert_tokenizer_v2(sent1, sent2, MAX_LEN):\n",
    "    \n",
    "    # For Two setenece input\n",
    "    encoded_dict = tokenizer.encode_plus(\n",
    "        text=sent1,\n",
    "        text_pair=sent2,\n",
    "        add_special_tokens=True,  # '[CLS]' 및 '[SEP]' 토큰 추가\n",
    "        max_length=MAX_LEN,       # 문장 패딩 및 자르기 설정\n",
    "        padding='max_length',     # 'pad_to_max_length' 대신 사용\n",
    "        truncation=True,          # 잘라내기 설정\n",
    "        return_attention_mask=True # 어텐션 마스크 반환\n",
    "    )\n",
    "    \n",
    "    \n",
    "    input_id = encoded_dict['input_ids']\n",
    "    attention_mask = encoded_dict['attention_mask'] # And its attention mask (simply differentiates padding from non-padding).\n",
    "    token_type_id = encoded_dict['token_type_ids'] # differentiate two sentences\n",
    "    \n",
    "    return input_id, attention_mask, token_type_id\n"
   ]
  },
  {
   "cell_type": "markdown",
   "metadata": {},
   "source": [
    "## 트러블슈팅\n",
    "- jupyter notebook 출력 문제로 인한 경고 발생  \n",
    "(jupyter notebook config.py 문구 수정)\n",
    "> c.ServerApp.iopub_data_rate_limit = 10000000  # 기본값보다 크게 설정  \n",
    "> c.ServerApp.rate_limit_window = 10.0  # 시간 창을 넓혀 출력 속도 제한을 늘림\n",
    "- 잘려진 토큰에 대해서 반환이 되지 않는 다는 경고 발생  \n",
    "(return_overflowing_tokens = False)   "
   ]
  },
  {
   "cell_type": "code",
   "execution_count": 7,
   "metadata": {},
   "outputs": [
    {
     "name": "stdout",
     "output_type": "stream",
     "text": [
      "942808\n",
      "942808\n"
     ]
    }
   ],
   "source": [
    "print(len(train_data_snli_xnli['sentence1']))\n",
    "print(len(train_data_snli_xnli['sentence2']))"
   ]
  },
  {
   "cell_type": "code",
   "execution_count": 8,
   "metadata": {},
   "outputs": [
    {
     "name": "stdout",
     "output_type": "stream",
     "text": [
      "말을 탄 사람이 고장난 비행기 위로 뛰어오른다. 한 사람이 경쟁을 위해 말을 훈련시키고 있다.\n"
     ]
    }
   ],
   "source": [
    "print(train_data_snli_xnli.sentence1[0], train_data_snli_xnli.sentence2[0])"
   ]
  },
  {
   "cell_type": "code",
   "execution_count": 9,
   "metadata": {
    "scrolled": true
   },
   "outputs": [],
   "source": [
    "# input_test = bert_tokenizer_v2(train_data_snli_xnli.sentence1[0],train_data_snli_xnli.sentence2[0] , 128)\n",
    "# input_test"
   ]
  },
  {
   "cell_type": "code",
   "execution_count": 30,
   "metadata": {
    "scrolled": true
   },
   "outputs": [
    {
     "name": "stdout",
     "output_type": "stream",
     "text": [
      "말을 탄 사람이 고장난 비행기 위로 뛰어오른다. 한 사람이 경쟁을 위해 말을 훈련시키고 있다.\n",
      "말을 탄 사람이 고장난 비행기 위로 뛰어오른다. 한 사람이 식당에서 오믈렛을 주문하고 있다.\n",
      "말을 탄 사람이 고장난 비행기 위로 뛰어오른다. 사람은 야외에서 말을 타고 있다.\n",
      "카메라에 웃고 손을 흔드는 아이들 그들은 부모님을 보고 웃고 있다\n",
      "카메라에 웃고 손을 흔드는 아이들 아이들이 있다\n",
      "카메라에 웃고 손을 흔드는 아이들 아이들이 얼굴을 찌푸리고 있다\n",
      "한 소년이 빨간 다리 한가운데 스케이트보드에 뛰어오르고 있다. 소년은 인도를 따라 스케이트를 탄다.\n",
      "한 소년이 빨간 다리 한가운데 스케이트보드에 뛰어오르고 있다. 그 소년은 스케이트보드를 타는 묘기를 부린다.\n",
      "한 소년이 빨간 다리 한가운데 스케이트보드에 뛰어오르고 있다. 소년이 안전 장비를 착용하고 있다.\n",
      "나이 든 남자가 커피숍의 작은 테이블에 오렌지 주스를 들고 앉아 있고 밝은 색 셔츠를 입은 직원들은 뒤에서 미소를 짓고 있다. 나이 든 남자가 딸이 퇴근하기를 기다리면서 주스를 마신다.\n",
      "나이 든 남자가 커피숍의 작은 테이블에 오렌지 주스를 들고 앉아 있고 밝은 색 셔츠를 입은 직원들은 뒤에서 미소를 짓고 있다. 한 소년이 햄버거를 뒤집는다.\n",
      "나이 든 남자가 커피숍의 작은 테이블에 오렌지 주스를 들고 앉아 있고 밝은 색 셔츠를 입은 직원들은 뒤에서 미소를 짓고 있다. 한 노인이 작은 가게에 앉아 있다.\n",
      "금발 여자 둘이 서로 껴안고 있다. 몇몇 여성들은 휴가 때 포옹을 하고 있다.\n",
      "금발 여자 둘이 서로 껴안고 있다. 여자들이 자고 있다.\n",
      "금발 여자 둘이 서로 껴안고 있다. 애정을 보이는 여자들이 있다.\n",
      "식당에 있는 몇몇 사람들, 그들 중 한 명은 오렌지 주스를 마시고 있다. 사람들이 오믈렛을 먹고 있다.\n",
      "식당에 있는 몇몇 사람들, 그들 중 한 명은 오렌지 주스를 마시고 있다. 사람들이 학교 책상에 앉아 있다.\n",
      "식당에 있는 몇몇 사람들, 그들 중 한 명은 오렌지 주스를 마시고 있다. 손님들이 식당에 있다.\n",
      "한 나이든 남자가 식당에서 오렌지 주스를 마시고 있다. 남자가 주스를 마시고 있다.\n",
      "한 나이든 남자가 식당에서 오렌지 주스를 마시고 있다. 두 여자가 식당에서 와인을 마시고 있다.\n",
      "한 나이든 남자가 식당에서 오렌지 주스를 마시고 있다. 식당에서 한 남자가 식사가 도착하기를 기다리고 있다.\n",
      "금발의 남자, 그리고 공공 분수대에서 술을 마시는 갈색 셔츠. 공원의 분수대에서 물을 마시는 금발의 남자.\n",
      "금발의 남자, 그리고 공공 분수대에서 술을 마시는 갈색 셔츠. 갈색 셔츠를 입은 금발 남자가 공원의 벤치에서 책을 읽고 있다.\n",
      "금발의 남자, 그리고 공공 분수대에서 술을 마시는 갈색 셔츠. 분수대에서 물을 마시는 금발 남자.\n",
      "방금 점심을 먹고 작별인사를 한 두 여자. 친구들은 저녁 식탁을 가득 채우고 서로를 노려본다.\n",
      "방금 점심을 먹고 작별인사를 한 두 여자. 이 사진에는 두 여자가 있습니다.\n",
      "방금 점심을 먹고 작별인사를 한 두 여자. 친구들은 20년 만에 처음 만났고, 따라잡는 데 즐거운 시간을 보냈다.\n",
      "두 여자가 음식 운반 용기를 들고 포옹을 했다. 두 자매는 붐비는 식당을 가로질러 서로를 보고 포옹을 나누며 둘 다 개 가방을 움켜잡았다.\n",
      "두 여자가 음식 운반 용기를 들고 포옹을 했다. 두 그룹의 라이벌 갱단원들이 서로를 배신했다.\n",
      "두 여자가 음식 운반 용기를 들고 포옹을 했다. 두 여자가 서로 껴안는다.\n",
      "리틀리그 팀이 오후 경기에서 베이스로 미끄러지는 주자를 잡으려고 한다. 한 팀이 승리를 거두기 위해 득점을 시도하고 있다.\n",
      "리틀리그 팀이 오후 경기에서 베이스로 미끄러지는 주자를 잡으려고 한다. 한 팀이 주자를 따돌리려 하고 있다.\n",
      "리틀리그 팀이 오후 경기에서 베이스로 미끄러지는 주자를 잡으려고 한다. 한 팀이 토성에서 야구를 하고 있다.\n",
      "이 학교는 다른 문화들이 파티에서 어떻게 다루어지는지에 대한 미국 문화를 보여주기 위해 특별한 행사를 열고 있다. 한 학교가 농구 경기를 주최한다.\n",
      "이 학교는 다른 문화들이 파티에서 어떻게 다루어지는지에 대한 미국 문화를 보여주기 위해 특별한 행사를 열고 있다. 한 고등학교가 행사를 주최하고 있다.\n",
      "이 학교는 다른 문화들이 파티에서 어떻게 다루어지는지에 대한 미국 문화를 보여주기 위해 특별한 행사를 열고 있다. 한 학교가 행사를 주최하고 있다.\n",
      "고급 패션 아가씨들이 도시의 사람들 옆에서 전차 밖에서 기다리고 있다. 여자들은 어떤 옷을 입든 상관하지 않는다.\n",
      "고급 패션 아가씨들이 도시의 사람들 옆에서 전차 밖에서 기다리고 있다. 여자들이 전차 옆에서 기다리고 있다.\n",
      "고급 패션 아가씨들이 도시의 사람들 옆에서 전차 밖에서 기다리고 있다. 여성들은 좋은 패션 감각을 갖는 것을 즐긴다.\n",
      "해변에서 즐기는 남자, 여자, 아이. 여름방학 때 해변에서 엄마 아빠와 함께 있는 아이.\n",
      "해변에서 즐기는 남자, 여자, 아이. 세 가족이 해변에 있다.\n",
      "해변에서 즐기는 남자, 여자, 아이. 3명의 가족이 쇼핑몰 쇼핑에 있다.\n",
      "기차를 타려고 기다리거나 그냥 내리는 사람들. 기차에서 기다리고 있는 사람들이 앉아 있다.\n",
      "기차를 타려고 기다리거나 그냥 내리는 사람들. 사람들이 기차를 타고 있다\n",
      "기차를 타려고 기다리거나 그냥 내리는 사람들. 기차에서 기다리는 사람들이 있다.\n",
      "해변에서 어린 소년과 놀고 있는 커플. 한 커플이 밖에서 어린 아이와 놀고 있다.\n",
      "해변에서 어린 소년과 놀고 있는 커플. 한 커플이 해변에서 어린 아이와 프리스비를 하고 있다.\n",
      "해변에서 어린 소년과 놀고 있는 커플. 한 커플이 해변에서 혼자 노는 어린 소녀를 본다.\n",
      "한 커플이 어린 아들과 함께 조수에서 논다. 가족들이 저녁 식사를 위해 자리에 앉아 있다.\n",
      "한 커플이 어린 아들과 함께 조수에서 논다. 가족이 밖에 있다.\n",
      "한 커플이 어린 아들과 함께 조수에서 논다. 그 가족은 휴가 중이다.\n",
      "한 남자와 한 여자가 피자와 자이로 레스토랑 앞에서 길을 건넌다. 사람들이 길가에 가만히 서 있다.\n",
      "한 남자와 한 여자가 피자와 자이로 레스토랑 앞에서 길을 건넌다. 식당 두어 곳 근처에서 두 사람이 길을 건넌다.\n",
      "한 남자와 한 여자가 피자와 자이로 레스토랑 앞에서 길을 건넌다. 그 커플은 함께 길을 건너고 있다.\n",
      "초록색 재킷을 입고 두건을 쓴 여자가 골짜기를 바라보고 있다. 여자는 제정신이 아니다.\n",
      "초록색 재킷을 입고 두건을 쓴 여자가 골짜기를 바라보고 있다. 여자는 차갑다.\n",
      "초록색 재킷을 입고 두건을 쓴 여자가 골짜기를 바라보고 있다. 여자가 녹색 옷을 입고 있다.\n",
      "전경에 흰 옷을 입은 여자와 존의 피자와 자이로를 배경으로 간판을 들고 약간 뒤에 있는 남자. 간판을 가진 남자는 백인이다.\n",
      "전경에 흰 옷을 입은 여자와 존의 피자와 자이로를 배경으로 간판을 들고 약간 뒤에 있는 남자. 그들은 수도 밖에서 항의하고 있다.\n",
      "전경에 흰 옷을 입은 여자와 존의 피자와 자이로를 배경으로 간판을 들고 약간 뒤에 있는 남자. 흰 옷을 입은 여자.\n",
      "전경에 흰 옷을 입은 여자와 존의 피자와 자이로를 배경으로 간판을 들고 약간 뒤에 있는 남자. 남자가 식당 광고를 하고 있다.\n",
      "전경에 흰 옷을 입은 여자와 존의 피자와 자이로를 배경으로 간판을 들고 약간 뒤에 있는 남자. 여자가 검은 옷을 입고 있다.\n",
      "전경에 흰 옷을 입은 여자와 존의 피자와 자이로를 배경으로 간판을 들고 약간 뒤에 있는 남자. 한 남자와 한 여자가 붐비는 도시 거리를 걷고 있다.\n",
      "전경에 흰 옷을 입은 여자와 존의 피자와 자이로를 배경으로 간판을 들고 약간 뒤에 있는 남자. 여자가 흰 옷을 입고 있다.\n",
      "전경에 흰 옷을 입은 여자와 존의 피자와 자이로를 배경으로 간판을 들고 약간 뒤에 있는 남자. 그들은 John's Pizza에서 일하고 있다.\n",
      "전경에 흰 옷을 입은 여자와 존의 피자와 자이로를 배경으로 간판을 들고 약간 뒤에 있는 남자. 올림픽 수영.\n",
      "전경에 흰 옷을 입은 여자와 존의 피자와 자이로를 배경으로 간판을 들고 약간 뒤에 있는 남자. 한 남자와 소만이 존의 피자와 자이로에서 함께 식사를 하고 있다.\n",
      "전경에 흰 옷을 입은 여자와 존의 피자와 자이로를 배경으로 간판을 들고 약간 뒤에 있는 남자. 그들은 간판을 들고 걷고 있다.\n",
      "전경에 흰 옷을 입은 여자와 존의 피자와 자이로를 배경으로 간판을 들고 약간 뒤에 있는 남자. 여자가 친구를 기다리고 있다.\n",
      "전경에 흰 옷을 입은 여자와 존의 피자와 자이로를 배경으로 간판을 들고 약간 뒤에 있는 남자. 그 남자는 존의 피자와 자이로를 품에 안고 있는 동안 앉아 있다.\n",
      "전경에 흰 옷을 입은 여자와 존의 피자와 자이로를 배경으로 간판을 들고 약간 뒤에 있는 남자. 여자와 남자는 야외에 있다.\n",
      "전경에 흰 옷을 입은 여자와 존의 피자와 자이로를 배경으로 간판을 들고 약간 뒤에 있는 남자. 피자를 주문하는 여자.\n",
      "어른 두 명, 흰 옷을 입은 여자 한 명, 그늘진 남자 한 명, 회색 옷을 입은 남자 한 명이 전경에 짙은 색의 붉은 셔츠를 입은 사람의 흐릿한 이미지가 있는 식당에서 길을 건너고 있다. 사람들은 친척이다.\n",
      "어른 두 명, 흰 옷을 입은 여자 한 명, 그늘진 남자 한 명, 회색 옷을 입은 남자 한 명이 전경에 짙은 색의 붉은 셔츠를 입은 사람의 흐릿한 이미지가 있는 식당에서 길을 건너고 있다. 두 명의 성인이 그들을 쫓는 빨간 셔츠를 입은 사람으로부터 벗어나기 위해 길을 가로질러 달려간다.\n",
      "어른 두 명, 흰 옷을 입은 여자 한 명, 그늘진 남자 한 명, 회색 옷을 입은 남자 한 명이 전경에 짙은 색의 붉은 셔츠를 입은 사람의 흐릿한 이미지가 있는 식당에서 길을 건너고 있다. 어른들은 남성과 여성이다.\n",
      "어른 두 명, 흰 옷을 입은 여자 한 명, 그늘진 남자 한 명, 회색 옷을 입은 남자 한 명이 전경에 짙은 색의 붉은 셔츠를 입은 사람의 흐릿한 이미지가 있는 식당에서 길을 건너고 있다. 맛있는 스테이크를 먹고 두 사람이 집으로 걸어간다.\n",
      "어른 두 명, 흰 옷을 입은 여자 한 명, 그늘진 남자 한 명, 회색 옷을 입은 남자 한 명이 전경에 짙은 색의 붉은 셔츠를 입은 사람의 흐릿한 이미지가 있는 식당에서 길을 건너고 있다. 물에서 수영하는 두 명의 성인\n",
      "어른 두 명, 흰 옷을 입은 여자 한 명, 그늘진 남자 한 명, 회색 옷을 입은 남자 한 명이 전경에 짙은 색의 붉은 셔츠를 입은 사람의 흐릿한 이미지가 있는 식당에서 길을 건너고 있다. 어른 두 명이 길을 건넌다.\n",
      "어른 두 명, 흰 옷을 입은 여자 한 명, 그늘진 남자 한 명, 회색 옷을 입은 남자 한 명이 전경에 짙은 색의 붉은 셔츠를 입은 사람의 흐릿한 이미지가 있는 식당에서 길을 건너고 있다. 두 사람이 자전거를 타고 터널로 들어간다.\n",
      "어른 두 명, 흰 옷을 입은 여자 한 명, 그늘진 남자 한 명, 회색 옷을 입은 남자 한 명이 전경에 짙은 색의 붉은 셔츠를 입은 사람의 흐릿한 이미지가 있는 식당에서 길을 건너고 있다. 두 사람이 길 건너 식당에서 걸어 나간다.\n",
      "어른 두 명, 흰 옷을 입은 여자 한 명, 그늘진 남자 한 명, 회색 옷을 입은 남자 한 명이 전경에 짙은 색의 붉은 셔츠를 입은 사람의 흐릿한 이미지가 있는 식당에서 길을 건너고 있다. 빨간 옷을 입은 유죄판결을 받은 죄수 근처 도로를 걸어가는 두 명의 성인\n",
      "어른 두 명, 흰 옷을 입은 여자 한 명, 그늘진 남자 한 명, 회색 옷을 입은 남자 한 명이 전경에 짙은 색의 붉은 셔츠를 입은 사람의 흐릿한 이미지가 있는 식당에서 길을 건너고 있다. 두 친구가 길을 건넌다.\n",
      "어른 두 명, 흰 옷을 입은 여자 한 명, 그늘진 남자 한 명, 회색 옷을 입은 남자 한 명이 전경에 짙은 색의 붉은 셔츠를 입은 사람의 흐릿한 이미지가 있는 식당에서 길을 건너고 있다. 어떤 사람들은 기차에 탄다.\n",
      "어른 두 명, 흰 옷을 입은 여자 한 명, 그늘진 남자 한 명, 회색 옷을 입은 남자 한 명이 전경에 짙은 색의 붉은 셔츠를 입은 사람의 흐릿한 이미지가 있는 식당에서 길을 건너고 있다. 두 명의 성인이 길을 건넌다.\n",
      "어른 두 명, 흰 옷을 입은 여자 한 명, 그늘진 남자 한 명, 회색 옷을 입은 남자 한 명이 전경에 짙은 색의 붉은 셔츠를 입은 사람의 흐릿한 이미지가 있는 식당에서 길을 건너고 있다. 길을 건너는 두 명의 성인\n",
      "어른 두 명, 흰 옷을 입은 여자 한 명, 그늘진 남자 한 명, 회색 옷을 입은 남자 한 명이 전경에 짙은 색의 붉은 셔츠를 입은 사람의 흐릿한 이미지가 있는 식당에서 길을 건너고 있다. 사진 속에는 여자가 없다.\n",
      "어른 두 명, 흰 옷을 입은 여자 한 명, 그늘진 남자 한 명, 회색 옷을 입은 남자 한 명이 전경에 짙은 색의 붉은 셔츠를 입은 사람의 흐릿한 이미지가 있는 식당에서 길을 건너고 있다. 두 명의 성인이 그들을 쫓고 있는 빨간 셔츠를 입은 사람으로부터 벗어나기 위해 길을 건넌다.\n",
      "흰 옷을 입고 식사를 하는 여자가 서류가방을 들고 있는 남자 옆을 걷는다. 결혼한 부부가 자고 있다.\n",
      "흰 옷을 입고 식사를 하는 여자가 서류가방을 들고 있는 남자 옆을 걷는다. 여자가 남자 옆에 있다.\n",
      "흰 옷을 입고 식사를 하는 여자가 서류가방을 들고 있는 남자 옆을 걷는다. 한 결혼한 커플이 옆에서 걷고 있다.\n",
      "남자가 서류가방을 들고 따라가는 동안 한 여자가 바나나를 먹으며 길을 건너고 있다. 아무도 음식을 가지고 있지 않다.\n",
      "남자가 서류가방을 들고 따라가는 동안 한 여자가 바나나를 먹으며 길을 건너고 있다. 여자가 바나나를 먹고 길을 건너는데, 그 뒤에 한 남자가 따라오고 있다.\n",
      "남자가 서류가방을 들고 따라가는 동안 한 여자가 바나나를 먹으며 길을 건너고 있다. 여자와 남자가 함께 야구를 하고 있다.\n",
      "남자가 서류가방을 들고 따라가는 동안 한 여자가 바나나를 먹으며 길을 건너고 있다. 두 동료가 길에서 길을 건너다\n",
      "남자가 서류가방을 들고 따라가는 동안 한 여자가 바나나를 먹으며 길을 건너고 있다. 한 여자가 인도를 걸어가며 아이스크림을 먹고, 지갑을 들고 앞에 또 다른 여자가 있다.\n",
      "남자가 서류가방을 들고 따라가는 동안 한 여자가 바나나를 먹으며 길을 건너고 있다. 남자 서류가방은 일용이다.\n",
      "남자가 서류가방을 들고 따라가는 동안 한 여자가 바나나를 먹으며 길을 건너고 있다. 먹는 사람.\n",
      "남자가 서류가방을 들고 따라가는 동안 한 여자가 바나나를 먹으며 길을 건너고 있다. 배고픈 사람.\n",
      "남자가 서류가방을 들고 따라가는 동안 한 여자가 바나나를 먹으며 길을 건너고 있다. 한 여배우와 그녀가 가장 좋아하는 조수가 도시에서 산책을 한다.\n",
      "남자가 서류가방을 들고 따라가는 동안 한 여자가 바나나를 먹으며 길을 건너고 있다. 바나나를 먹는 여자가 길을 건넌다\n"
     ]
    }
   ],
   "source": [
    "count = 0\n",
    "for sent1, sent2 in zip(train_data_snli_xnli['sentence1'], train_data_snli_xnli['sentence2']):\n",
    "    print(sent1, sent2)\n",
    "    count += 1\n",
    "    if count ==100:\n",
    "        break"
   ]
  },
  {
   "cell_type": "code",
   "execution_count": 31,
   "metadata": {},
   "outputs": [],
   "source": [
    "# pip show transformers"
   ]
  },
  {
   "cell_type": "code",
   "execution_count": 32,
   "metadata": {},
   "outputs": [],
   "source": [
    "# pip install --upgrade transformers"
   ]
  },
  {
   "cell_type": "code",
   "execution_count": null,
   "metadata": {},
   "outputs": [],
   "source": [
    "input_ids = []\n",
    "attention_masks = []\n",
    "token_type_ids = []\n",
    "\n",
    "for sent1, sent2 in zip(train_data_snli_xnli['sentence1'], train_data_snli_xnli['sentence2']):\n",
    "        try:\n",
    "            input_id, attention_mask, token_type_id = bert_tokenizer_v2(sent1, sent2, MAX_LEN,\n",
    "                                                                       return_overflowing_tokens=False)  # 잘려진 토큰 반환하지 않도록 설정)\n",
    "    \n",
    "            input_ids.append(input_id)\n",
    "            attention_masks.append(attention_mask)\n",
    "            token_type_ids.append(token_type_id)\n",
    "        except Exception as e:\n",
    "            print(e)\n",
    "            print(sent1, sent2)\n",
    "            break\n",
    "\n",
    "# bert_tkenizer 의 형태가 리스트 형태로 반환되기 때문에 직접 변경\n",
    "train_snli_xnli_input_ids = np.array(input_ids, dtype=int)\n",
    "train_snli_xnli_attention_masks = np.array(attention_masks, dtype=int)\n",
    "train_snli_xnli_type_ids = np.array(token_type_ids, dtype=int)\n",
    "train_snli_xnli_inputs = (train_snli_xnli_input_ids, train_snli_xnli_attention_masks, train_snli_xnli_type_ids)"
   ]
  },
  {
   "cell_type": "code",
   "execution_count": null,
   "metadata": {},
   "outputs": [],
   "source": [
    "input_id = train_snli_xnli_input_ids[2]\n",
    "attention_mask = train_snli_xnli_attention_masks[2]\n",
    "token_type_id = train_snli_xnli_type_ids[2]\n",
    "\n",
    "print(input_id)\n",
    "print(attention_mask)\n",
    "print(token_type_id)\n",
    "print(tokenizer.decode(input_id))"
   ]
  },
  {
   "cell_type": "code",
   "execution_count": null,
   "metadata": {},
   "outputs": [],
   "source": []
  }
 ],
 "metadata": {
  "kernelspec": {
   "display_name": "Python 3 (ipykernel)",
   "language": "python",
   "name": "python3"
  },
  "language_info": {
   "codemirror_mode": {
    "name": "ipython",
    "version": 3
   },
   "file_extension": ".py",
   "mimetype": "text/x-python",
   "name": "python",
   "nbconvert_exporter": "python",
   "pygments_lexer": "ipython3",
   "version": "3.11.8"
  }
 },
 "nbformat": 4,
 "nbformat_minor": 4
}
