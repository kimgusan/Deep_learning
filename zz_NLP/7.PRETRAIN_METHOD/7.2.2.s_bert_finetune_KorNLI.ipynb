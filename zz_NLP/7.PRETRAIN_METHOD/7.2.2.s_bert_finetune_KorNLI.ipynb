{
 "cells": [
  {
   "cell_type": "markdown",
   "metadata": {},
   "source": [
    "# 버트를 활용한 자연어 추론 모델"
   ]
  },
  {
   "cell_type": "code",
   "execution_count": 22,
   "metadata": {},
   "outputs": [],
   "source": [
    "import os\n",
    "import tensorflow as tf\n",
    "from transformers import BertTokenizer, TFBertModel\n",
    "\n",
    "import numpy as np\n",
    "import pandas as pd\n",
    "\n",
    "from tensorflow.keras.preprocessing.sequence import pad_sequences\n",
    "from tensorflow.keras.callbacks import EarlyStopping, ModelCheckpoint\n",
    "\n",
    "import matplotlib.pyplot as plt"
   ]
  },
  {
   "cell_type": "code",
   "execution_count": 23,
   "metadata": {},
   "outputs": [],
   "source": [
    "# 시각화\n",
    "\n",
    "def plot_graphs(history, string):\n",
    "    plt.plot(history.history[string])\n",
    "    plt.plot(history.history['val_'+string], '')\n",
    "    plt.xlabel(\"Epochs\")\n",
    "    plt.ylabel(string)\n",
    "    plt.legend([string, 'val_'+string])\n",
    "    plt.show()"
   ]
  },
  {
   "cell_type": "code",
   "execution_count": 24,
   "metadata": {},
   "outputs": [],
   "source": [
    "#random seed 고정\n",
    "\n",
    "tf.random.set_seed(1234)\n",
    "np.random.seed(1234)\n",
    "\n",
    "# BASE PARAM\n",
    "\n",
    "BATCH_SIZE = 32\n",
    "NUM_EPOCHS = 3\n",
    "MAX_LEN = 24 * 2 # Average total * 2\n",
    "\n",
    "DATA_IN_PATH = './data_in/KOR'\n",
    "DATA_OUT_PATH = \"./data_out/KOR\""
   ]
  },
  {
   "cell_type": "markdown",
   "metadata": {},
   "source": [
    "# KorNLI Dataset\n",
    "\n",
    "Data from Kakaobrain:  https://github.com/kakaobrain/KorNLUDatasets"
   ]
  },
  {
   "cell_type": "code",
   "execution_count": 25,
   "metadata": {},
   "outputs": [
    {
     "name": "stderr",
     "output_type": "stream",
     "text": [
      "/var/folders/f7/gl6wpvqx5z596rbpjsq5n3tc0000gn/T/ipykernel_13912/1608151549.py:12: FutureWarning: The frame.append method is deprecated and will be removed from pandas in a future version. Use pandas.concat instead.\n",
      "  train_data_snli_xnli = train_data_snli.append(train_data_xnli)\n"
     ]
    },
    {
     "name": "stdout",
     "output_type": "stream",
     "text": [
      "Total # dataset: train - 942808, dev - 2490\n"
     ]
    }
   ],
   "source": [
    "# Load Train dataset\n",
    "\n",
    "TRAIN_SNLI_DF = os.path.join(DATA_IN_PATH, 'KorNLI', 'snli_1.0_train.kor.tsv')\n",
    "TRAIN_XNLI_DF = os.path.join(DATA_IN_PATH, 'KorNLI', 'multinli.train.ko.tsv')\n",
    "DEV_XNLI_DF = os.path.join(DATA_IN_PATH, 'KorNLI', 'xnli.dev.ko.tsv')\n",
    "\n",
    "train_data_snli = pd.read_csv(TRAIN_SNLI_DF, header=0, delimiter = '\\t', quoting = 3)\n",
    "train_data_xnli = pd.read_csv(TRAIN_XNLI_DF, header=0, delimiter = '\\t', quoting = 3)\n",
    "# 검증데이터\n",
    "dev_data_xnli = pd.read_csv(DEV_XNLI_DF, header=0, delimiter = '\\t', quoting = 3)\n",
    "\n",
    "train_data_snli_xnli = train_data_snli.append(train_data_xnli)\n",
    "# 중복값 제거\n",
    "train_data_snli_xnli = train_data_snli_xnli.dropna()\n",
    "# 인덱스 초기화\n",
    "train_data_snli_xnli = train_data_snli_xnli.reset_index(drop=True)\n",
    "\n",
    "dev_data_xnli = dev_data_xnli.dropna()\n",
    "\n",
    "print(\"Total # dataset: train - {}, dev - {}\".format(len(train_data_snli_xnli), len(dev_data_xnli)))"
   ]
  },
  {
   "cell_type": "code",
   "execution_count": 26,
   "metadata": {},
   "outputs": [
    {
     "data": {
      "text/html": [
       "<div>\n",
       "<style scoped>\n",
       "    .dataframe tbody tr th:only-of-type {\n",
       "        vertical-align: middle;\n",
       "    }\n",
       "\n",
       "    .dataframe tbody tr th {\n",
       "        vertical-align: top;\n",
       "    }\n",
       "\n",
       "    .dataframe thead th {\n",
       "        text-align: right;\n",
       "    }\n",
       "</style>\n",
       "<table border=\"1\" class=\"dataframe\">\n",
       "  <thead>\n",
       "    <tr style=\"text-align: right;\">\n",
       "      <th></th>\n",
       "      <th>sentence1</th>\n",
       "      <th>sentence2</th>\n",
       "      <th>gold_label</th>\n",
       "    </tr>\n",
       "  </thead>\n",
       "  <tbody>\n",
       "    <tr>\n",
       "      <th>0</th>\n",
       "      <td>말을 탄 사람이 고장난 비행기 위로 뛰어오른다.</td>\n",
       "      <td>한 사람이 경쟁을 위해 말을 훈련시키고 있다.</td>\n",
       "      <td>neutral</td>\n",
       "    </tr>\n",
       "    <tr>\n",
       "      <th>1</th>\n",
       "      <td>말을 탄 사람이 고장난 비행기 위로 뛰어오른다.</td>\n",
       "      <td>한 사람이 식당에서 오믈렛을 주문하고 있다.</td>\n",
       "      <td>contradiction</td>\n",
       "    </tr>\n",
       "    <tr>\n",
       "      <th>2</th>\n",
       "      <td>말을 탄 사람이 고장난 비행기 위로 뛰어오른다.</td>\n",
       "      <td>사람은 야외에서 말을 타고 있다.</td>\n",
       "      <td>entailment</td>\n",
       "    </tr>\n",
       "    <tr>\n",
       "      <th>3</th>\n",
       "      <td>카메라에 웃고 손을 흔드는 아이들</td>\n",
       "      <td>그들은 부모님을 보고 웃고 있다</td>\n",
       "      <td>neutral</td>\n",
       "    </tr>\n",
       "    <tr>\n",
       "      <th>4</th>\n",
       "      <td>카메라에 웃고 손을 흔드는 아이들</td>\n",
       "      <td>아이들이 있다</td>\n",
       "      <td>entailment</td>\n",
       "    </tr>\n",
       "    <tr>\n",
       "      <th>...</th>\n",
       "      <td>...</td>\n",
       "      <td>...</td>\n",
       "      <td>...</td>\n",
       "    </tr>\n",
       "    <tr>\n",
       "      <th>942803</th>\n",
       "      <td>분명히, 캘리포니아는 더 잘 할 수 있고, 더 잘해야 한다.</td>\n",
       "      <td>캘리포니아는 더 잘할 수 없다.</td>\n",
       "      <td>contradiction</td>\n",
       "    </tr>\n",
       "    <tr>\n",
       "      <th>942804</th>\n",
       "      <td>한때 유럽에서 가장 아름다운 거리로 여겨졌는데, 이는 원래의 많은 건물들이 교체되었...</td>\n",
       "      <td>그래서 원래의 많은 건물들이 편의점으로 대체되었다.</td>\n",
       "      <td>neutral</td>\n",
       "    </tr>\n",
       "    <tr>\n",
       "      <th>942805</th>\n",
       "      <td>하우스보트는 영국 라지의 전성기의 아름답게 보존된 전통이다.</td>\n",
       "      <td>하우스보트의 전통은 영국 라지가 여전히 강해지는 동안 시작되었다.</td>\n",
       "      <td>entailment</td>\n",
       "    </tr>\n",
       "    <tr>\n",
       "      <th>942806</th>\n",
       "      <td>사망 기사는 그의 평론가의 신디케이트 TV 쇼에서 동료 검토 자 Roger Eber...</td>\n",
       "      <td>부고문은 아름다웠고 연예계에서의 그의 업적에 대해 현물로 쓰여졌다.</td>\n",
       "      <td>neutral</td>\n",
       "    </tr>\n",
       "    <tr>\n",
       "      <th>942807</th>\n",
       "      <td>내가 해야 한다는 걸 알거나, 아니면 누가 하라고 하는 것보다 그녀를 밀고하는 것에...</td>\n",
       "      <td>남편이 요즘 너무 과로해서 이 근처에서 많은 일을 부탁할 용기가 나지 않는다.</td>\n",
       "      <td>neutral</td>\n",
       "    </tr>\n",
       "  </tbody>\n",
       "</table>\n",
       "<p>942808 rows × 3 columns</p>\n",
       "</div>"
      ],
      "text/plain": [
       "                                                sentence1  \\\n",
       "0                              말을 탄 사람이 고장난 비행기 위로 뛰어오른다.   \n",
       "1                              말을 탄 사람이 고장난 비행기 위로 뛰어오른다.   \n",
       "2                              말을 탄 사람이 고장난 비행기 위로 뛰어오른다.   \n",
       "3                                      카메라에 웃고 손을 흔드는 아이들   \n",
       "4                                      카메라에 웃고 손을 흔드는 아이들   \n",
       "...                                                   ...   \n",
       "942803                  분명히, 캘리포니아는 더 잘 할 수 있고, 더 잘해야 한다.   \n",
       "942804  한때 유럽에서 가장 아름다운 거리로 여겨졌는데, 이는 원래의 많은 건물들이 교체되었...   \n",
       "942805                  하우스보트는 영국 라지의 전성기의 아름답게 보존된 전통이다.   \n",
       "942806  사망 기사는 그의 평론가의 신디케이트 TV 쇼에서 동료 검토 자 Roger Eber...   \n",
       "942807  내가 해야 한다는 걸 알거나, 아니면 누가 하라고 하는 것보다 그녀를 밀고하는 것에...   \n",
       "\n",
       "                                          sentence2     gold_label  \n",
       "0                         한 사람이 경쟁을 위해 말을 훈련시키고 있다.        neutral  \n",
       "1                          한 사람이 식당에서 오믈렛을 주문하고 있다.  contradiction  \n",
       "2                                사람은 야외에서 말을 타고 있다.     entailment  \n",
       "3                                 그들은 부모님을 보고 웃고 있다        neutral  \n",
       "4                                           아이들이 있다     entailment  \n",
       "...                                             ...            ...  \n",
       "942803                            캘리포니아는 더 잘할 수 없다.  contradiction  \n",
       "942804                 그래서 원래의 많은 건물들이 편의점으로 대체되었다.        neutral  \n",
       "942805         하우스보트의 전통은 영국 라지가 여전히 강해지는 동안 시작되었다.     entailment  \n",
       "942806        부고문은 아름다웠고 연예계에서의 그의 업적에 대해 현물로 쓰여졌다.        neutral  \n",
       "942807  남편이 요즘 너무 과로해서 이 근처에서 많은 일을 부탁할 용기가 나지 않는다.        neutral  \n",
       "\n",
       "[942808 rows x 3 columns]"
      ]
     },
     "execution_count": 26,
     "metadata": {},
     "output_type": "execute_result"
    }
   ],
   "source": [
    "train_data_snli_xnli"
   ]
  },
  {
   "cell_type": "markdown",
   "metadata": {},
   "source": [
    "# 훈련시간의 효횰을 높이기 위해 훈련 데이터 1/10 축소"
   ]
  },
  {
   "cell_type": "code",
   "execution_count": 27,
   "metadata": {},
   "outputs": [],
   "source": [
    "drop_length = len(train_data_snli_xnli) // 10\n",
    "\n",
    "train_data_snli_xnli = train_data_snli_xnli.iloc[:drop_length]"
   ]
  },
  {
   "cell_type": "code",
   "execution_count": 28,
   "metadata": {},
   "outputs": [],
   "source": [
    "# Bert Tokenizer\n",
    "\n",
    "# 참조: https://huggingface.co/transformers/main_classes/tokenizer.html?highlight=encode_plus#transformers.PreTrainedTokenizer.encode_plus\n",
    "\n",
    "# 사용할 토크나이저 결정\n",
    "tokenizer = BertTokenizer.from_pretrained(\"bert-base-multilingual-cased\", cache_dir='bert_ckpt', do_lower_case=False,\n",
    "                                          clean_up_tokenization_spaces = True)\n",
    "\n",
    "def bert_tokenizer_v2(sent1, sent2, MAX_LEN):\n",
    "    \n",
    "    # For Two setenece input\n",
    "    encoded_dict = tokenizer.encode_plus(\n",
    "        text=sent1,\n",
    "        text_pair=sent2,\n",
    "        add_special_tokens=True,  # '[CLS]' 및 '[SEP]' 토큰 추가\n",
    "        max_length=MAX_LEN,       # 문장 패딩 및 자르기 설정\n",
    "        padding='max_length',     # 'pad_to_max_length' 대신 사용\n",
    "        truncation=True,          # 잘라내기 설정\n",
    "        return_attention_mask=True, # 어텐션 마스크 반환\n",
    "        return_overflowing_tokens=False # 경고 메시지를 없애기 위한 옵션 (기본값도 false이지만 경고 문구를 제거하기 위해 추가적으로 명시)\n",
    "    )\n",
    "    \n",
    "    \n",
    "    input_id = encoded_dict['input_ids']\n",
    "    attention_mask = encoded_dict['attention_mask'] # And its attention mask (simply differentiates padding from non-padding).\n",
    "    token_type_id = encoded_dict['token_type_ids'] # differentiate two sentences\n",
    "    \n",
    "    return input_id, attention_mask, token_type_id\n"
   ]
  },
  {
   "cell_type": "markdown",
   "metadata": {},
   "source": [
    "## 트러블슈팅\n",
    "- jupyter notebook 출력 문제로 인한 경고 발생  \n",
    "(jupyter notebook config.py 문구 수정)\n",
    "> c.ServerApp.iopub_data_rate_limit = 10000000  # 기본값보다 크게 설정  \n",
    "> c.ServerApp.rate_limit_window = 10.0  # 시간 창을 넓혀 출력 속도 제한을 늘림\n",
    "- 잘려진 토큰에 대해서 반환이 되지 않는 다는 경고 발생  \n",
    "(transformer의 자체 로깅레벨 변경)\n",
    "> 로깅 레벨을 Error로 설정  \n",
    "> logging.set_verbosity_error()"
   ]
  },
  {
   "cell_type": "code",
   "execution_count": 29,
   "metadata": {},
   "outputs": [
    {
     "name": "stdout",
     "output_type": "stream",
     "text": [
      "94280\n",
      "94280\n"
     ]
    }
   ],
   "source": [
    "print(len(train_data_snli_xnli['sentence1']))\n",
    "print(len(train_data_snli_xnli['sentence2']))"
   ]
  },
  {
   "cell_type": "code",
   "execution_count": 30,
   "metadata": {},
   "outputs": [
    {
     "name": "stdout",
     "output_type": "stream",
     "text": [
      "말을 탄 사람이 고장난 비행기 위로 뛰어오른다. 한 사람이 경쟁을 위해 말을 훈련시키고 있다.\n"
     ]
    }
   ],
   "source": [
    "print(train_data_snli_xnli.sentence1[0], train_data_snli_xnli.sentence2[0])"
   ]
  },
  {
   "cell_type": "code",
   "execution_count": 31,
   "metadata": {},
   "outputs": [],
   "source": [
    "# pip show transformers"
   ]
  },
  {
   "cell_type": "code",
   "execution_count": 11,
   "metadata": {},
   "outputs": [],
   "source": [
    "# pip install --upgrade transformers"
   ]
  },
  {
   "cell_type": "code",
   "execution_count": 32,
   "metadata": {},
   "outputs": [],
   "source": [
    "from transformers import logging\n",
    "\n",
    "# 로깅 레벨을 Error로 설정\n",
    "logging.set_verbosity_error()"
   ]
  },
  {
   "cell_type": "markdown",
   "metadata": {},
   "source": [
    "# TRAIN SET Preprocessing"
   ]
  },
  {
   "cell_type": "code",
   "execution_count": 33,
   "metadata": {},
   "outputs": [],
   "source": [
    "input_ids = []\n",
    "attention_masks = []\n",
    "token_type_ids = []\n",
    "\n",
    "for sent1, sent2 in zip(train_data_snli_xnli['sentence1'], train_data_snli_xnli['sentence2']):\n",
    "    try:\n",
    "        input_id, attention_mask, token_type_id = bert_tokenizer_v2(sent1, sent2, MAX_LEN)  # 잘려진 토큰 반환하지 않도록 설정)\n",
    "\n",
    "        input_ids.append(input_id)\n",
    "        attention_masks.append(attention_mask)\n",
    "        token_type_ids.append(token_type_id)\n",
    "    except Exception as e:\n",
    "        print(e)\n",
    "        print(sent1, sent2)\n",
    "        break\n",
    "\n",
    "# bert_tkenizer 의 형태가 리스트 형태로 반환되기 때문에 직접 변경\n",
    "train_snli_xnli_input_ids = np.array(input_ids, dtype=int)\n",
    "train_snli_xnli_attention_masks = np.array(attention_masks, dtype=int)\n",
    "train_snli_xnli_type_ids = np.array(token_type_ids, dtype=int)\n",
    "train_snli_xnli_inputs = (train_snli_xnli_input_ids, train_snli_xnli_attention_masks, train_snli_xnli_type_ids)"
   ]
  },
  {
   "cell_type": "code",
   "execution_count": 34,
   "metadata": {},
   "outputs": [],
   "source": [
    "# 로깅 레벨을 기본값인 WARNING으로 원복\n",
    "logging.set_verbosity_warning()"
   ]
  },
  {
   "cell_type": "code",
   "execution_count": 35,
   "metadata": {},
   "outputs": [
    {
     "name": "stdout",
     "output_type": "stream",
     "text": [
      "[  101  9251 10622  9847 97802  8888 13890 33305  9379 25549 12310  9619\n",
      " 11261  9150 12965 28188 66346   119   102  9405 61250 10892  9538 78705\n",
      " 11489  9251 10622  9845 11664 11506   119   102     0     0     0     0\n",
      "     0     0     0     0     0     0     0     0     0     0     0     0]\n",
      "[1 1 1 1 1 1 1 1 1 1 1 1 1 1 1 1 1 1 1 1 1 1 1 1 1 1 1 1 1 1 1 1 0 0 0 0 0\n",
      " 0 0 0 0 0 0 0 0 0 0 0]\n",
      "[0 0 0 0 0 0 0 0 0 0 0 0 0 0 0 0 0 0 0 1 1 1 1 1 1 1 1 1 1 1 1 1 0 0 0 0 0\n",
      " 0 0 0 0 0 0 0 0 0 0 0]\n",
      "[CLS] 말을 탄 사람이 고장난 비행기 위로 뛰어오른다. [SEP] 사람은 야외에서 말을 타고 있다. [SEP] [PAD] [PAD] [PAD] [PAD] [PAD] [PAD] [PAD] [PAD] [PAD] [PAD] [PAD] [PAD] [PAD] [PAD] [PAD] [PAD]\n"
     ]
    }
   ],
   "source": [
    "input_id = train_snli_xnli_input_ids[2]\n",
    "attention_mask = train_snli_xnli_attention_masks[2]\n",
    "token_type_id = train_snli_xnli_type_ids[2]\n",
    "\n",
    "print(input_id)\n",
    "print(attention_mask)\n",
    "print(token_type_id)\n",
    "print(tokenizer.decode(input_id))"
   ]
  },
  {
   "cell_type": "markdown",
   "metadata": {},
   "source": [
    "# DEV SET Preprocessing"
   ]
  },
  {
   "cell_type": "code",
   "execution_count": 36,
   "metadata": {},
   "outputs": [],
   "source": [
    "# transformer 로깅 레벨을 Error로 설정\n",
    "logging.set_verbosity_error()\n",
    "\n",
    "# 토크나이저를 제외하고는 5장에서 처리한 방식과 유사하게 접근\n",
    "input_ids = []\n",
    "attention_masks = []\n",
    "token_type_ids = []\n",
    "\n",
    "for sent1, sent2 in zip(dev_data_xnli['sentence1'], dev_data_xnli['sentence2']):\n",
    "    try:\n",
    "        input_id, attention_mask, token_type_id = bert_tokenizer_v2(sent1, sent2, MAX_LEN)  # 잘려진 토큰 반환하지 않도록 설정)\n",
    "\n",
    "        input_ids.append(input_id)\n",
    "        attention_masks.append(attention_mask)\n",
    "        token_type_ids.append(token_type_id)\n",
    "    except Exception as e:\n",
    "        print(e)\n",
    "        print(sent1, sent2)\n",
    "        break\n",
    "\n",
    "# transformer 로깅 레벨을 warning 도 출력하도록 변경\n",
    "logging.set_verbosity_warning()\n",
    "\n",
    "# bert_tkenizer 의 형태가 리스트 형태로 반환되기 때문에 직접 변경\n",
    "dev_xnli_input_ids = np.array(input_ids, dtype=int)\n",
    "dev_xnli_attention_masks = np.array(attention_masks, dtype=int)\n",
    "dev_xnli_type_ids = np.array(token_type_ids, dtype=int)\n",
    "dev_xnli_inputs = (dev_xnli_input_ids, dev_xnli_attention_masks, dev_xnli_type_ids)"
   ]
  },
  {
   "cell_type": "code",
   "execution_count": 37,
   "metadata": {},
   "outputs": [
    {
     "name": "stdout",
     "output_type": "stream",
     "text": [
      "# train labels: 94280, # dev labels: 2490\n"
     ]
    },
    {
     "name": "stderr",
     "output_type": "stream",
     "text": [
      "/var/folders/f7/gl6wpvqx5z596rbpjsq5n3tc0000gn/T/ipykernel_13912/308362214.py:7: SettingWithCopyWarning: \n",
      "A value is trying to be set on a copy of a slice from a DataFrame.\n",
      "Try using .loc[row_indexer,col_indexer] = value instead\n",
      "\n",
      "See the caveats in the documentation: https://pandas.pydata.org/pandas-docs/stable/user_guide/indexing.html#returning-a-view-versus-a-copy\n",
      "  train_data_snli_xnli['gold_label_int'] = train_data_snli_xnli[\"gold_label\"].apply(convert_int)\n"
     ]
    }
   ],
   "source": [
    "# Label을 Netural, Contradiction, Entailment 에서 숫자 형으로 변경한다\n",
    "label_dict = {\"entailment\": 0, \"contradiction\": 1, \"neutral\": 2}\n",
    "def convert_int(label):\n",
    "    num_label = label_dict[label]\n",
    "    return num_label\n",
    "\n",
    "train_data_snli_xnli['gold_label_int'] = train_data_snli_xnli[\"gold_label\"].apply(convert_int)\n",
    "train_data_labels = np.array(train_data_snli_xnli['gold_label_int'], dtype=int)\n",
    "\n",
    "dev_data_xnli[\"gold_label_int\"] = dev_data_xnli[\"gold_label\"].apply(convert_int)\n",
    "dev_data_labels = np.array(dev_data_xnli['gold_label_int'], dtype=int)\n",
    "\n",
    "print(f\"# train labels: {len(train_data_labels)}, # dev labels: {len(dev_data_labels)}\" )"
   ]
  },
  {
   "cell_type": "code",
   "execution_count": 38,
   "metadata": {},
   "outputs": [
    {
     "name": "stderr",
     "output_type": "stream",
     "text": [
      "Some weights of the PyTorch model were not used when initializing the TF 2.0 model TFBertModel: ['cls.predictions.bias', 'cls.seq_relationship.bias', 'cls.predictions.transform.LayerNorm.bias', 'cls.predictions.transform.dense.bias', 'cls.predictions.transform.dense.weight', 'cls.predictions.transform.LayerNorm.weight', 'cls.seq_relationship.weight']\n",
      "- This IS expected if you are initializing TFBertModel from a PyTorch model trained on another task or with another architecture (e.g. initializing a TFBertForSequenceClassification model from a BertForPreTraining model).\n",
      "- This IS NOT expected if you are initializing TFBertModel from a PyTorch model that you expect to be exactly identical (e.g. initializing a TFBertForSequenceClassification model from a BertForSequenceClassification model).\n",
      "All the weights of TFBertModel were initialized from the PyTorch model.\n",
      "If your task is similar to the task the model of the checkpoint was trained on, you can already use TFBertModel for predictions without further training.\n"
     ]
    }
   ],
   "source": [
    "# 사전 학습된 모델을 가져와서 가중치를 로드하고, 클래스 수에 맞는 분류기 정의\n",
    "class TFBertClassifier(tf.keras.Model):\n",
    "    def __init__(self, model_name, dir_path, num_class):\n",
    "        super(TFBertClassifier, self).__init__()\n",
    "        # Transformers 라이브러리에서 제공하는 메서드로, 사전 학습된(pre-trained) BERT 모델을 불러오는 역할\n",
    "        # from_pretrained 메서드는 사전 학습된 가중치(weights)와 설정(config)을 가져와서 모델을 생성\n",
    "        # 이 과정에서 모델이 처음부터 학습되지 않고, 사전 학습된 BERT의 지식이 그대로 유지\n",
    "        self.bert = TFBertModel.from_pretrained(model_name, cache_dir = dir_path)\n",
    "        self.dropout = tf.keras.layers.Dropout(self.bert.config.hidden_dropout_prob)\n",
    "        # 중치 초기화 방식을 정의합니다 (initializer_range)\n",
    "        self.classifier = tf.keras.layers.Dense(num_class,\n",
    "                                                kernel_initializer=tf.keras.initializers.TruncatedNormal(self.bert.config.initializer_range), \n",
    "                                                name = \"classifier\")\n",
    "\n",
    "    def call(self, inputs, attention_mask=None, token_type_ids=None, training= False):\n",
    "        # output 값: # sequence_output, pooled_output, (hidden_states), (attentions)\n",
    "        outputs = self.bert(inputs, attention_mask = attention_mask, token_type_ids = token_type_ids)\n",
    "        # BERT의 최종 출력 중, 첫 번째 [CLS] 토큰에 해당하는 임베딩 값을 의미합니다.\n",
    "        # 이는 주로 문장 수준의 분류 작업에 사용됩니다\n",
    "        pooled_output = outputs[1]\n",
    "        pooled_output = self.dropout(pooled_output, training = training)\n",
    "        # 드롭아웃된 출력(pooled_output)을 Dense 레이어(분류기)에 통과시켜, \n",
    "        # 최종적인 로짓(logits)을 얻습니다. 이 값은 클래스별로 예측된 점수.\n",
    "        logits = self.classifier(pooled_output)\n",
    "\n",
    "        return logits\n",
    "\n",
    "cls_model = TFBertClassifier(model_name = 'bert-base-multilingual-cased',\n",
    "                             dir_path = 'bert_ckpt',\n",
    "                             num_class = 3\n",
    "                            )"
   ]
  },
  {
   "cell_type": "code",
   "execution_count": 39,
   "metadata": {},
   "outputs": [],
   "source": [
    "# 학습 준비하기\n",
    "optimizer = tf.keras.optimizers.Adam(3e-5)\n",
    "loss = tf.keras.losses.SparseCategoricalCrossentropy(from_logits=True)\n",
    "metrics = tf.keras.metrics.SparseCategoricalAccuracy('accuracy')\n",
    "cls_model.compile(optimizer = optimizer, loss = loss, metrics = [metrics])"
   ]
  },
  {
   "cell_type": "markdown",
   "metadata": {},
   "source": [
    "# !!!!노트북으로 훈련 시 너무 훈련시간의 소요가 높아 효율성을 높이기 위해 훈련 데이터를 약 1/10으로 변경  \n",
    "# (위쪽으로 다시 올라가서 훈련 데이터 업로드(전처리 다시 진행)"
   ]
  },
  {
   "cell_type": "code",
   "execution_count": 40,
   "metadata": {},
   "outputs": [
    {
     "name": "stdout",
     "output_type": "stream",
     "text": [
      "<class 'numpy.ndarray'> int64\n",
      "<class 'numpy.ndarray'> int64\n",
      "<class 'numpy.ndarray'> int64\n",
      "<class 'numpy.ndarray'> int64\n",
      "<class 'numpy.ndarray'> int64\n",
      "<class 'numpy.ndarray'> int64\n",
      "<class 'numpy.ndarray'> int64\n",
      "<class 'numpy.ndarray'> int64\n"
     ]
    }
   ],
   "source": [
    "# 데이터 타입 및 모양 확인\n",
    "print(type(train_snli_xnli_input_ids), train_snli_xnli_input_ids.dtype)\n",
    "print(type(train_snli_xnli_attention_masks), train_snli_xnli_attention_masks.dtype)\n",
    "print(type(train_snli_xnli_type_ids), train_snli_xnli_type_ids.dtype)\n",
    "print(type(train_data_labels), train_data_labels.dtype)\n",
    "\n",
    "\n",
    "\n",
    "print(type(dev_xnli_input_ids), dev_xnli_input_ids.dtype)\n",
    "print(type(dev_xnli_attention_masks), dev_xnli_attention_masks.dtype)\n",
    "print(type(dev_xnli_type_ids), dev_xnli_type_ids.dtype)\n",
    "print(type(dev_data_labels), dev_data_labels.dtype)"
   ]
  },
  {
   "cell_type": "code",
   "execution_count": 41,
   "metadata": {},
   "outputs": [
    {
     "name": "stdout",
     "output_type": "stream",
     "text": [
      "./data_out/KOR/tf2_KorNLI -- Folder already exists \n",
      "\n",
      "Epoch 1/3\n",
      "\u001b[1m2947/2947\u001b[0m \u001b[32m━━━━━━━━━━━━━━━━━━━━\u001b[0m\u001b[37m\u001b[0m \u001b[1m0s\u001b[0m 1s/step - accuracy: 0.3576 - loss: 1.0975\n",
      "Epoch 1: val_accuracy improved from -inf to 0.33574, saving model to ./data_out/KOR/tf2_KorNLI/.weights.h5\n",
      "\u001b[1m2947/2947\u001b[0m \u001b[32m━━━━━━━━━━━━━━━━━━━━\u001b[0m\u001b[37m\u001b[0m \u001b[1m3186s\u001b[0m 1s/step - accuracy: 0.3576 - loss: 1.0975 - val_accuracy: 0.3357 - val_loss: 1.1160\n",
      "Epoch 2/3\n",
      "\u001b[1m2947/2947\u001b[0m \u001b[32m━━━━━━━━━━━━━━━━━━━━\u001b[0m\u001b[37m\u001b[0m \u001b[1m0s\u001b[0m 1s/step - accuracy: 0.4011 - loss: 1.0853\n",
      "Epoch 2: val_accuracy improved from 0.33574 to 0.34578, saving model to ./data_out/KOR/tf2_KorNLI/.weights.h5\n",
      "\u001b[1m2947/2947\u001b[0m \u001b[32m━━━━━━━━━━━━━━━━━━━━\u001b[0m\u001b[37m\u001b[0m \u001b[1m3348s\u001b[0m 1s/step - accuracy: 0.4011 - loss: 1.0853 - val_accuracy: 0.3458 - val_loss: 1.1110\n",
      "Epoch 3/3\n",
      "\u001b[1m2947/2947\u001b[0m \u001b[32m━━━━━━━━━━━━━━━━━━━━\u001b[0m\u001b[37m\u001b[0m \u001b[1m0s\u001b[0m 1s/step - accuracy: 0.4218 - loss: 1.0768\n",
      "Epoch 3: val_accuracy improved from 0.34578 to 0.35181, saving model to ./data_out/KOR/tf2_KorNLI/.weights.h5\n",
      "\u001b[1m2947/2947\u001b[0m \u001b[32m━━━━━━━━━━━━━━━━━━━━\u001b[0m\u001b[37m\u001b[0m \u001b[1m3184s\u001b[0m 1s/step - accuracy: 0.4218 - loss: 1.0768 - val_accuracy: 0.3518 - val_loss: 1.1068\n",
      "{'accuracy': [0.37287867069244385, 0.4075838029384613, 0.4252757728099823], 'loss': [1.0932490825653076, 1.0828747749328613, 1.0748599767684937], 'val_accuracy': [0.3357429802417755, 0.34578314423561096, 0.35180723667144775], 'val_loss': [1.115980863571167, 1.110969066619873, 1.106795072555542]}\n"
     ]
    }
   ],
   "source": [
    "# 학습 진행하기 \n",
    "model_name = 'tf2_KorNLI'\n",
    "\n",
    "# overfitting을 막기 위한 ealrystop 추가\n",
    "earlystop_callback = EarlyStopping(monitor='val_accuracy', min_delta=0.0001,patience=2)\n",
    "checkpoint_path = os.path.join(DATA_OUT_PATH, model_name, '.weights.h5')\n",
    "checkpoint_dir = os.path.dirname(checkpoint_path)\n",
    "\n",
    "# Create path if exists\n",
    "if os.path.exists(checkpoint_dir):\n",
    "    print(\"{} -- Folder already exists \\n\".format(checkpoint_dir))\n",
    "else:\n",
    "    os.makedirs(checkpoint_dir, exist_ok=True)\n",
    "    print(\"{} -- Folder create complete \\n\".format(checkpoint_dir))\n",
    "    \n",
    "cp_callback = ModelCheckpoint(\n",
    "    checkpoint_path, monitor='val_accuracy', verbose=1, save_best_only=True, save_weights_only=True)\n",
    "\n",
    "# 학습과 eval시작\n",
    "history = cls_model.fit(train_snli_xnli_inputs, train_data_labels, epochs=NUM_EPOCHS,\n",
    "                        validation_data=(dev_xnli_inputs, dev_data_labels),\n",
    "                        batch_size = BATCH_SIZE, callbacks=[earlystop_callback, cp_callback])\n",
    "\n",
    "# step_for_epoch\n",
    "print(history.history)"
   ]
  },
  {
   "cell_type": "code",
   "execution_count": 42,
   "metadata": {},
   "outputs": [
    {
     "name": "stdout",
     "output_type": "stream",
     "text": [
      "<class 'numpy.ndarray'>\n",
      "<class 'numpy.ndarray'>\n",
      "<class 'numpy.ndarray'>\n",
      "<class 'numpy.ndarray'>\n",
      "int64\n"
     ]
    }
   ],
   "source": [
    "# 데이터 타입 확인\n",
    "print(type(train_snli_xnli_inputs[0]))  # input_ids\n",
    "print(type(train_snli_xnli_inputs[1]))  # attention_masks\n",
    "print(type(train_snli_xnli_inputs[2]))  # token_type_ids\n",
    "\n",
    "print(type(train_data_labels))  # 데이터 타입 확인\n",
    "print(train_data_labels.dtype)  # 레이블 데이터의 dtype 확인\n",
    "\n"
   ]
  },
  {
   "cell_type": "code",
   "execution_count": 43,
   "metadata": {},
   "outputs": [
    {
     "data": {
      "image/png": "[encoded data removed]",
      "text/plain": [
       "<Figure size 640x480 with 1 Axes>"
      ]
     },
     "metadata": {},
     "output_type": "display_data"
    },
    {
     "data": {
      "image/png": "[encoded data removed]",
      "text/plain": [
       "<Figure size 640x480 with 1 Axes>"
      ]
     },
     "metadata": {},
     "output_type": "display_data"
    }
   ],
   "source": [
    "plot_graphs(history, 'accuracy')\n",
    "plot_graphs(history, 'loss')"
   ]
  },
  {
   "cell_type": "markdown",
   "metadata": {},
   "source": [
    "# KorNLI Test dataset"
   ]
  },
  {
   "cell_type": "code",
   "execution_count": 45,
   "metadata": {},
   "outputs": [
    {
     "data": {
      "text/html": [
       "<div>\n",
       "<style scoped>\n",
       "    .dataframe tbody tr th:only-of-type {\n",
       "        vertical-align: middle;\n",
       "    }\n",
       "\n",
       "    .dataframe tbody tr th {\n",
       "        vertical-align: top;\n",
       "    }\n",
       "\n",
       "    .dataframe thead th {\n",
       "        text-align: right;\n",
       "    }\n",
       "</style>\n",
       "<table border=\"1\" class=\"dataframe\">\n",
       "  <thead>\n",
       "    <tr style=\"text-align: right;\">\n",
       "      <th></th>\n",
       "      <th>sentence1</th>\n",
       "      <th>sentence2</th>\n",
       "      <th>gold_label</th>\n",
       "    </tr>\n",
       "  </thead>\n",
       "  <tbody>\n",
       "    <tr>\n",
       "      <th>0</th>\n",
       "      <td>글쎄, 나는 그것에 관해 생각조차 하지 않았지만, 나는 너무 좌절했고, 결국 그에게...</td>\n",
       "      <td>나는 그와 다시 이야기하지 않았다.</td>\n",
       "      <td>contradiction</td>\n",
       "    </tr>\n",
       "    <tr>\n",
       "      <th>1</th>\n",
       "      <td>글쎄, 나는 그것에 관해 생각조차 하지 않았지만, 나는 너무 좌절했고, 결국 그에게...</td>\n",
       "      <td>나는 다시 그와 이야기를 하기 시작했다는 것에 너무 화가 났다.</td>\n",
       "      <td>entailment</td>\n",
       "    </tr>\n",
       "    <tr>\n",
       "      <th>2</th>\n",
       "      <td>글쎄, 나는 그것에 관해 생각조차 하지 않았지만, 나는 너무 좌절했고, 결국 그에게...</td>\n",
       "      <td>우리는 좋은 대화를 나눴다.</td>\n",
       "      <td>neutral</td>\n",
       "    </tr>\n",
       "    <tr>\n",
       "      <th>3</th>\n",
       "      <td>그리고 저는 그것이 특권이라고 생각했습니다, 그리고 여전히, 여전히, 당시 저는 A...</td>\n",
       "      <td>그날 현장에 나만 있었던 게 아니라는 걸 몰랐던 것이다.</td>\n",
       "      <td>neutral</td>\n",
       "    </tr>\n",
       "    <tr>\n",
       "      <th>4</th>\n",
       "      <td>그리고 저는 그것이 특권이라고 생각했습니다, 그리고 여전히, 여전히, 당시 저는 A...</td>\n",
       "      <td>나는 AFFC 공군 경력 분야에서 그 번호를 가진 유일한 사람이라는 인상을 가지고 ...</td>\n",
       "      <td>entailment</td>\n",
       "    </tr>\n",
       "  </tbody>\n",
       "</table>\n",
       "</div>"
      ],
      "text/plain": [
       "                                           sentence1  \\\n",
       "0  글쎄, 나는 그것에 관해 생각조차 하지 않았지만, 나는 너무 좌절했고, 결국 그에게...   \n",
       "1  글쎄, 나는 그것에 관해 생각조차 하지 않았지만, 나는 너무 좌절했고, 결국 그에게...   \n",
       "2  글쎄, 나는 그것에 관해 생각조차 하지 않았지만, 나는 너무 좌절했고, 결국 그에게...   \n",
       "3  그리고 저는 그것이 특권이라고 생각했습니다, 그리고 여전히, 여전히, 당시 저는 A...   \n",
       "4  그리고 저는 그것이 특권이라고 생각했습니다, 그리고 여전히, 여전히, 당시 저는 A...   \n",
       "\n",
       "                                           sentence2     gold_label  \n",
       "0                                나는 그와 다시 이야기하지 않았다.  contradiction  \n",
       "1                나는 다시 그와 이야기를 하기 시작했다는 것에 너무 화가 났다.     entailment  \n",
       "2                                    우리는 좋은 대화를 나눴다.        neutral  \n",
       "3                    그날 현장에 나만 있었던 게 아니라는 걸 몰랐던 것이다.        neutral  \n",
       "4  나는 AFFC 공군 경력 분야에서 그 번호를 가진 유일한 사람이라는 인상을 가지고 ...     entailment  "
      ]
     },
     "execution_count": 45,
     "metadata": {},
     "output_type": "execute_result"
    }
   ],
   "source": [
    "# Load Test dataset\n",
    "\n",
    "TEST_XNLI_DF = os.path.join(DATA_IN_PATH, 'KorNLI', 'xnli.test.ko.tsv')\n",
    "\n",
    "test_data_xnli = pd.read_csv(TEST_XNLI_DF, header=0, delimiter = '\\t', quoting = 3)\n",
    "\n",
    "# 중복값 제거\n",
    "test_data_xnli = test_data_xnli.dropna()\n",
    "# 인덱스 초기화\n",
    "test_data_xnli = test_data_xnli.reset_index(drop=True)\n",
    "test_data_xnli.head()"
   ]
  },
  {
   "cell_type": "code",
   "execution_count": 47,
   "metadata": {},
   "outputs": [],
   "source": [
    "# transformer 로깅 레벨을 Error로 설정\n",
    "logging.set_verbosity_error()\n",
    "\n",
    "# 토크나이저를 제외하고는 5장에서 처리한 방식과 유사하게 접근\n",
    "input_ids = []\n",
    "attention_masks = []\n",
    "token_type_ids = []\n",
    "\n",
    "for sent1, sent2 in zip(test_data_xnli['sentence1'], test_data_xnli['sentence2']):\n",
    "    try:\n",
    "        input_id, attention_mask, token_type_id = bert_tokenizer_v2(sent1, sent2, MAX_LEN)  # 잘려진 토큰 반환하지 않도록 설정)\n",
    "\n",
    "        input_ids.append(input_id)\n",
    "        attention_masks.append(attention_mask)\n",
    "        token_type_ids.append(token_type_id)\n",
    "    except Exception as e:\n",
    "        print(e)\n",
    "        print(sent1, sent2)\n",
    "        break\n",
    "\n",
    "# transformer 로깅 레벨을 warning 도 출력하도록 변경\n",
    "logging.set_verbosity_warning()\n",
    "\n",
    "# bert_tkenizer 의 형태가 리스트 형태로 반환되기 때문에 직접 변경\n",
    "test_xnli_input_ids = np.array(input_ids, dtype=int)\n",
    "test_xnli_attention_masks = np.array(attention_masks, dtype=int)\n",
    "test_xnli_type_ids = np.array(token_type_ids, dtype=int)\n",
    "test_xnli_inputs = (test_xnli_input_ids, test_xnli_attention_masks, test_xnli_type_ids)"
   ]
  },
  {
   "cell_type": "code",
   "execution_count": 48,
   "metadata": {},
   "outputs": [
    {
     "name": "stdout",
     "output_type": "stream",
     "text": [
      "# sents: 5010, # labels: 5010\n"
     ]
    }
   ],
   "source": [
    "test_data_xnli[\"gold_label_int\"] = test_data_xnli[\"gold_label\"].apply(convert_int)\n",
    "test_data_xnli_labels = np.array(test_data_xnli['gold_label_int'], dtype=int)\n",
    "\n",
    "print(f\"# sents: {len(test_xnli_input_ids)}, # labels: {len(test_data_xnli_labels)}\" )"
   ]
  },
  {
   "cell_type": "code",
   "execution_count": 49,
   "metadata": {},
   "outputs": [
    {
     "name": "stdout",
     "output_type": "stream",
     "text": [
      "\u001b[1m10/10\u001b[0m \u001b[32m━━━━━━━━━━━━━━━━━━━━\u001b[0m\u001b[37m\u001b[0m \u001b[1m135s\u001b[0m 14s/step - accuracy: 0.3436 - loss: 1.1090\n",
      "test loss, test acc:  [1.1065188646316528, 0.35169661045074463]\n"
     ]
    }
   ],
   "source": [
    "result = cls_model.evaluate(test_xnli_inputs, test_data_xnli_labels, batch_size = 512)\n",
    "print(\"test loss, test acc: \", result)"
   ]
  },
  {
   "cell_type": "code",
   "execution_count": null,
   "metadata": {},
   "outputs": [],
   "source": []
  }
 ],
 "metadata": {
  "kernelspec": {
   "display_name": "Python 3 (ipykernel)",
   "language": "python",
   "name": "python3"
  },
  "language_info": {
   "codemirror_mode": {
    "name": "ipython",
    "version": 3
   },
   "file_extension": ".py",
   "mimetype": "text/x-python",
   "name": "python",
   "nbconvert_exporter": "python",
   "pygments_lexer": "ipython3",
   "version": "3.11.8"
  }
 },
 "nbformat": 4,
 "nbformat_minor": 4
}
