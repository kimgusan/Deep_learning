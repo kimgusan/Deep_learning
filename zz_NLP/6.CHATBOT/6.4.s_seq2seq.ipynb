{
 "cells": [
  {
   "cell_type": "markdown",
   "id": "1dabe4dd-0ed1-490b-bd62-ab1bced4a058",
   "metadata": {},
   "source": [
    "# 패키지 불러오기"
   ]
  },
  {
   "cell_type": "code",
   "execution_count": 1,
   "id": "917a59b0-ff15-4cf3-a621-dd71d08a62a6",
   "metadata": {},
   "outputs": [],
   "source": [
    "import tensorflow as tf\n",
    "import numpy as np\n",
    "import os\n",
    "import json\n",
    "\n",
    "from tensorflow.keras.callbacks import EarlyStopping, ModelCheckpoint\n",
    "import matplotlib.pyplot as plt\n",
    "\n",
    "from preprocess import *"
   ]
  },
  {
   "cell_type": "markdown",
   "id": "898453d6-ea5f-44bb-89b4-816021ee4183",
   "metadata": {},
   "source": [
    "# 시각화 함수"
   ]
  },
  {
   "cell_type": "code",
   "execution_count": 2,
   "id": "d59e5584-decf-4181-bf34-ac08c0930efd",
   "metadata": {},
   "outputs": [],
   "source": [
    "def plot_graphs(history, string):\n",
    "    plt.plot(history.history[string])\n",
    "    plt.plot(history.history['val_'+string], '')\n",
    "    plt.xlabel(\"Epochs\")\n",
    "    plt.ylabel(string)\n",
    "    plt.legend([string, 'val_'+string])\n",
    "    plt.show()"
   ]
  },
  {
   "cell_type": "markdown",
   "id": "c9e21e4b-0611-403e-bbaa-2c5b6d6bd039",
   "metadata": {},
   "source": [
    "# 학습 데이터 경로 정의"
   ]
  },
  {
   "cell_type": "code",
   "execution_count": 3,
   "id": "fc1f7ddc-3c74-476c-bb18-aea6761bd062",
   "metadata": {},
   "outputs": [],
   "source": [
    "DATA_IN_PATH = './data_in/'\n",
    "DATA_OUT_PATH = './data_out/'\n",
    "TRAIN_INPUTS = 'train_inputs.npy'\n",
    "TRAIN_OUTPUTS = 'train_outputs.npy'\n",
    "TRAIN_TARGETS = 'train_targets.npy'\n",
    "DATA_CONFIGS = 'data_configs.json'"
   ]
  },
  {
   "cell_type": "markdown",
   "id": "138a391d-f846-4d7c-886f-2f5c4b7516c7",
   "metadata": {},
   "source": [
    "# 랜덤 시드 고정"
   ]
  },
  {
   "cell_type": "code",
   "execution_count": 4,
   "id": "a598d616-7d71-49a8-b23c-00d6d470b958",
   "metadata": {},
   "outputs": [],
   "source": [
    "SEED_NUM = 1234\n",
    "tf.random.set_seed(SEED_NUM)"
   ]
  },
  {
   "cell_type": "markdown",
   "id": "eab0ca09-1551-47c1-a388-22aff31dc135",
   "metadata": {},
   "source": [
    "# 파일 로드"
   ]
  },
  {
   "cell_type": "code",
   "execution_count": 5,
   "id": "e437c0d9-a676-4d5d-8903-84ea9f05eba3",
   "metadata": {},
   "outputs": [],
   "source": [
    "index_inputs = np.load(open(DATA_IN_PATH + TRAIN_INPUTS, 'rb'))\n",
    "index_outputs = np.load(open(DATA_IN_PATH + TRAIN_OUTPUTS , 'rb'))\n",
    "index_targets = np.load(open(DATA_IN_PATH + TRAIN_TARGETS , 'rb'))\n",
    "prepro_configs = json.load(open(DATA_IN_PATH + DATA_CONFIGS, 'r'))"
   ]
  },
  {
   "cell_type": "code",
   "execution_count": 6,
   "id": "20e064de-da48-4640-b9da-9686155ed3d2",
   "metadata": {},
   "outputs": [
    {
     "name": "stdout",
     "output_type": "stream",
     "text": [
      "20 20 20\n"
     ]
    }
   ],
   "source": [
    "# Show length\n",
    "print(len(index_inputs),  len(index_outputs), len(index_targets))"
   ]
  },
  {
   "cell_type": "markdown",
   "id": "926f4903-f760-4d12-b7a0-52daeada4a16",
   "metadata": {},
   "source": [
    "# 모델 만들기에 필요한 값 선언"
   ]
  },
  {
   "cell_type": "code",
   "execution_count": 7,
   "id": "4f869e57-6e71-46a5-bf3b-2c3eff464efc",
   "metadata": {},
   "outputs": [],
   "source": [
    "MODEL_NAME = 'seq2seq_kor'\n",
    "BATCH_SIZE = 2\n",
    "MAX_SEQUENCE = 25\n",
    "EPOCH = 30\n",
    "UNITS = 1024\n",
    "EMBEDDING_DIM = 256\n",
    "VALIDATION_SPLIT = 0.1 \n",
    "\n",
    "char2idx = prepro_configs['char2idx']\n",
    "idx2char = prepro_configs['idx2char']\n",
    "std_index = prepro_configs['std_symbol']\n",
    "end_index = prepro_configs['end_symbol']\n",
    "vocab_size = prepro_configs['vocab_size']"
   ]
  },
  {
   "cell_type": "markdown",
   "id": "1cc9ff2c-dd68-4822-8a8f-7396afe93930",
   "metadata": {},
   "source": [
    "# 모델"
   ]
  },
  {
   "cell_type": "markdown",
   "id": "7eb9585c-ad62-46fb-8603-6baa8f099530",
   "metadata": {},
   "source": [
    "## 인코더"
   ]
  },
  {
   "cell_type": "code",
   "execution_count": 8,
   "id": "6b3e07fb-973e-4e70-9dd6-f5f7789d23c2",
   "metadata": {},
   "outputs": [],
   "source": [
    "class Encoder(tf.keras.layers.Layer):\n",
    "    def __init__(self, vocab_size, embedding_dim, enc_units, batch_sz):\n",
    "        super(Encoder, self).__init__()\n",
    "        self.batch_sz = batch_sz\n",
    "        self.enc_units = enc_units\n",
    "        self.vocab_size = vocab_size \n",
    "        self.embedding_dim = embedding_dim          \n",
    "        \n",
    "        self.embedding = tf.keras.layers.Embedding(self.vocab_size, self.embedding_dim)\n",
    "        # Gated Recurrent Unit의 약자로, 순환 신경망(RNN) 계열의 인공 신경망에서 사용되는 한 종류입니다. \n",
    "        # GRU는 LSTM(Long Short-Term Memory)과 함께, RNN의 한계를 극복하기 위해 제안된 알고리즘입니다.\n",
    "        self.gru = tf.keras.layers.GRU(self.enc_units,\n",
    "                                       return_sequences=True,\n",
    "                                       return_state=True,\n",
    "                                       recurrent_initializer='glorot_uniform')\n",
    "\n",
    "    def call(self, x, hidden):\n",
    "        x = self.embedding(x)\n",
    "        output, state = self.gru(x, initial_state = hidden)\n",
    "        return output, state\n",
    "\n",
    "    def initialize_hidden_state(self, inp):\n",
    "        return tf.zeros((tf.shape(inp)[0], self.enc_units))"
   ]
  },
  {
   "cell_type": "markdown",
   "id": "21b61ea3-c56e-426e-80d8-a4f8661dd1f8",
   "metadata": {},
   "source": [
    "## 어텐션"
   ]
  },
  {
   "cell_type": "code",
   "execution_count": 9,
   "id": "67c7183d-9ebd-4c8e-bcdf-46f555a164aa",
   "metadata": {},
   "outputs": [],
   "source": [
    "class BahdanauAttention(tf.keras.layers.Layer):\n",
    "    def __init__(self, units):\n",
    "        super(BahdanauAttention, self).__init__()\n",
    "        self.W1 = tf.keras.layers.Dense(units)\n",
    "        self.W2 = tf.keras.layers.Dense(units)\n",
    "        self.V = tf.keras.layers.Dense(1)\n",
    "\n",
    "    def call(self, query, values):\n",
    "        hidden_with_time_axis = tf.expand_dims(query, 1)\n",
    "\n",
    "        score = self.V(tf.nn.tanh(\n",
    "            self.W1(values) + self.W2(hidden_with_time_axis)))\n",
    "\n",
    "        attention_weights = tf.nn.softmax(score, axis=1)\n",
    "\n",
    "        context_vector = attention_weights * values\n",
    "        context_vector = tf.reduce_sum(context_vector, axis=1)\n",
    "\n",
    "        return context_vector, attention_weights"
   ]
  },
  {
   "cell_type": "markdown",
   "id": "9bd58e56-448f-4920-9993-c4767c243330",
   "metadata": {},
   "source": [
    "## 디코더"
   ]
  },
  {
   "cell_type": "code",
   "execution_count": 10,
   "id": "541c059a-2ac3-4892-88dc-fe629d3b0a32",
   "metadata": {},
   "outputs": [],
   "source": [
    "class Decoder(tf.keras.layers.Layer):\n",
    "    def __init__(self, vocab_size, embedding_dim, dec_units, batch_sz):\n",
    "        super(Decoder, self).__init__()\n",
    "        \n",
    "        self.batch_sz = batch_sz\n",
    "        self.dec_units = dec_units\n",
    "        self.vocab_size = vocab_size \n",
    "        self.embedding_dim = embedding_dim  \n",
    "        \n",
    "        self.embedding = tf.keras.layers.Embedding(self.vocab_size, self.embedding_dim)\n",
    "        self.gru = tf.keras.layers.GRU(self.dec_units,\n",
    "                                       return_sequences=True,\n",
    "                                       return_state=True,\n",
    "                                       recurrent_initializer='glorot_uniform')\n",
    "        self.fc = tf.keras.layers.Dense(self.vocab_size)\n",
    "\n",
    "        self.attention = BahdanauAttention(self.dec_units)\n",
    "        \n",
    "    def call(self, x, hidden, enc_output):\n",
    "        context_vector, attention_weights = self.attention(hidden, enc_output)\n",
    "\n",
    "        x = self.embedding(x)\n",
    "\n",
    "        x = tf.concat([tf.expand_dims(context_vector, 1), x], axis=-1)\n",
    "\n",
    "        output, state = self.gru(x)\n",
    "        output = tf.reshape(output, (-1, output.shape[2]))\n",
    "            \n",
    "        x = self.fc(output)\n",
    "        \n",
    "        return x, state, attention_weights"
   ]
  },
  {
   "cell_type": "code",
   "execution_count": 11,
   "id": "9335410d-4951-4734-9738-5858346d13ee",
   "metadata": {},
   "outputs": [],
   "source": [
    "# 최적화 알고리즘으로 Adam을 사용하도록 설정\n",
    "optimizer = tf.keras.optimizers.Adam()\n",
    "\n",
    "# 손실 함수로 Sparse Categorical Crossentropy를 사용하며,\n",
    "# 이 함수는 정답 레이블이 one-hot 인코딩이 아닌 정수 형태로 주어질 때 사용\n",
    "# from_logits=True는 로짓(logit) 출력이 주어질 때 사용하며,\n",
    "# reduction=\"None\"은 각 샘플별 손실을 반환함을 의미\n",
    "loss_object = tf.keras.losses.SparseCategoricalCrossentropy(from_logits=True, reduction='none')\n",
    "\n",
    "\n",
    "# 학습 정확도를 측정하기 위해 Sparse Categorical Crossentropy 메트릭을 사용\n",
    "# name='accuracy'는 이 메트릭의 이름을 'accuracy'로 지정\n",
    "train_accuracy = tf.keras.metrics.SparseCategoricalAccuracy(name='accuracy')\n",
    "\n",
    "# 손실값을 계산하는 사용자 정의 함수\n",
    "def loss(real, pred):\n",
    "    # real 값이 0인 부분(보통 패딩된 부분)을 찾아내기 위한 마스크 생성\n",
    "    mask = tf.math.logical_not(tf.math.equal(real, 0))\n",
    "    # 손실값 계산 (real: 실제값, pred: 예측값)\n",
    "    loss_ = loss_object(real, pred)\n",
    "    # 마스크를 loss와 같은 데이터 타입으로 변환\n",
    "    mask = tf.cast(mask, dtype=loss_.dtype)\n",
    "    # 마스크를 손실값에 곱하여, 마스크된 부분(패딩된 부분)은 손실값에서 제외\n",
    "    loss_ *= mask\n",
    "    # 전체 손실값의 평균을 계산하여 반환\n",
    "    return tf.reduce_mean(loss_)    \n",
    "\n",
    "# 정확도를 계산하는 사용자 정의 함수\n",
    "def accuracy(real, pred):\n",
    "    # real 값이 0인 부분(보통 패딩된 부분)을 찾아내기 위한 마스크 생성\n",
    "    mask = tf.math.logical_not(tf.math.equal(real, 0))\n",
    "    # 마스크를 pred와 같은 데이터 타입으로 변환하고, 차원을 확장\n",
    "    mask = tf.expand_dims(tf.cast(mask, dtype=pred.dtype), axis=-1)\n",
    "    # 마스크를 pred에 곱하여, 마스크된 부분(패딩된 부분)은 정확도 계산에서 제외\n",
    "    pred *= mask    \n",
    "    # 마스크된 부분을 제외한 정확도를 계산\n",
    "    acc = train_accuracy(real, pred)\n",
    "    # 전체 정확도의 평균을 계산하여 반환\n",
    "    return tf.reduce_mean(acc)\n"
   ]
  },
  {
   "cell_type": "markdown",
   "id": "03c8cd11-45d4-4949-8af7-00fd4a918d45",
   "metadata": {},
   "source": [
    "## 시퀸스 투 시퀸스 모델"
   ]
  },
  {
   "cell_type": "code",
   "execution_count": 12,
   "id": "b08ddb1d-efd4-4508-9bdd-377940e84896",
   "metadata": {},
   "outputs": [],
   "source": [
    "class seq2seq(tf.keras.Model):\n",
    "    def __init__(self, vocab_size, embedding_dim, enc_units, dec_units, batch_sz, end_token_idx=2):\n",
    "        super(seq2seq, self).__init__()\n",
    "        self.end_token_idx = end_token_idx  # 디코딩 종료를 위한 토큰 인덱스\n",
    "        self.encoder = Encoder(vocab_size, embedding_dim, enc_units, batch_sz)  # 인코더 초기화\n",
    "        self.decoder = Decoder(vocab_size, embedding_dim, dec_units, batch_sz)  # 디코더 초기화\n",
    "\n",
    "    def call(self, x):\n",
    "        inp, tar = x  # 입력 (source sentence)과 타겟 (target sentence)을 분리\n",
    "\n",
    "        enc_hidden = self.encoder.initialize_hidden_state(inp)  # 인코더의 초기 은닉 상태 초기화\n",
    "        enc_output, enc_hidden = self.encoder(inp, enc_hidden)  # 인코더를 통해 입력을 처리\n",
    "\n",
    "        dec_hidden = enc_hidden  # 인코더의 최종 은닉 상태를 디코더의 초기 은닉 상태로 설정\n",
    "\n",
    "        predict_tokens = list()  # 예측된 토큰들을 저장할 리스트\n",
    "        for t in range(0, tar.shape[1]):  # 타겟 시퀀스의 길이만큼 반복\n",
    "            # 현재 타임스텝의 타겟 토큰을 디코더 입력으로 사용\n",
    "            dec_input = tf.dtypes.cast(tf.expand_dims(tar[:, t], 1), tf.float32)  \n",
    "            # 디코더를 통해 예측된 토큰, 새로운 디코더 은닉 상태 및 어텐션 가중치를 계산\n",
    "            predictions, dec_hidden, _ = self.decoder(dec_input, dec_hidden, enc_output)\n",
    "            # 예측된 토큰을 리스트에 추가\n",
    "            predict_tokens.append(tf.dtypes.cast(predictions, tf.float32))   \n",
    "        # 예측된 토큰들을 스택하여 반환 (모든 타임스텝에 대한 예측 결과)\n",
    "        return tf.stack(predict_tokens, axis=1)\n",
    "    \n",
    "    def inference(self, x):\n",
    "        inp = x  # 입력 (source sentence)\n",
    "\n",
    "        enc_hidden = self.encoder.initialize_hidden_state(inp)  # 인코더의 초기 은닉 상태 초기화\n",
    "        enc_output, enc_hidden = self.encoder(inp, enc_hidden)  # 인코더를 통해 입력을 처리\n",
    "\n",
    "        dec_hidden = enc_hidden  # 인코더의 최종 은닉 상태를 디코더의 초기 은닉 상태로 설정\n",
    "        \n",
    "        # 디코더의 첫 입력을 <SOS> (Start Of Sentence) 토큰으로 설정\n",
    "        dec_input = tf.expand_dims([char2idx[std_index]], 1)\n",
    "        \n",
    "        predict_tokens = list()  # 예측된 토큰들을 저장할 리스트\n",
    "        for t in range(0, MAX_SEQUENCE):  # 최대 시퀀스 길이만큼 반복\n",
    "            # 디코더를 통해 예측된 토큰, 새로운 디코더 은닉 상태 및 어텐션 가중치를 계산\n",
    "            predictions, dec_hidden, _ = self.decoder(dec_input, dec_hidden, enc_output)\n",
    "            # 예측된 토큰의 인덱스를 가져옴\n",
    "            predict_token = tf.argmax(predictions[0])\n",
    "            \n",
    "            # 예측된 토큰이 종료 토큰일 경우 반복 종료\n",
    "            if predict_token == self.end_token_idx:\n",
    "                break\n",
    "            \n",
    "            # 예측된 토큰을 리스트에 추가\n",
    "            predict_tokens.append(predict_token)\n",
    "            # 예측된 토큰을 다음 디코더 입력으로 설정\n",
    "            dec_input = tf.dtypes.cast(tf.expand_dims([predict_token], 0), tf.float32)   \n",
    "            \n",
    "        # 예측된 토큰들을 스택하여 반환 (최종 예측된 시퀀스)\n",
    "        return tf.stack(predict_tokens, axis=0).numpy()\n"
   ]
  },
  {
   "cell_type": "code",
   "execution_count": 13,
   "id": "57bea34f-3c30-478c-ba72-0d7bc5edfa57",
   "metadata": {},
   "outputs": [],
   "source": [
    "model = seq2seq(vocab_size, EMBEDDING_DIM, UNITS, UNITS, BATCH_SIZE, char2idx[end_index])\n",
    "model.compile(loss=loss, optimizer=tf.keras.optimizers.Adam(1e-3), metrics=[accuracy])\n",
    "#model.run_eagerly = True"
   ]
  },
  {
   "cell_type": "markdown",
   "id": "8a778e6c-88af-47be-8d4a-b0ad051ae767",
   "metadata": {},
   "source": [
    "## 학습 진행"
   ]
  },
  {
   "cell_type": "code",
   "execution_count": 14,
   "id": "08c1f939-c966-4de9-b4db-d8b6de5c1b73",
   "metadata": {},
   "outputs": [
    {
     "name": "stdout",
     "output_type": "stream",
     "text": [
      "Epoch 1/30\n",
      "\u001b[1m9/9\u001b[0m \u001b[32m━━━━━━━━━━━━━━━━━━━━\u001b[0m\u001b[37m\u001b[0m \u001b[1m0s\u001b[0m 454ms/step - accuracy: 0.8149 - loss: 0.8883\n",
      "Epoch 1: val_accuracy improved from -inf to 0.85400, saving model to ./data_out/seq2seq_kor.weights.h5\n",
      "\u001b[1m9/9\u001b[0m \u001b[32m━━━━━━━━━━━━━━━━━━━━\u001b[0m\u001b[37m\u001b[0m \u001b[1m18s\u001b[0m 718ms/step - accuracy: 0.8170 - loss: 0.8837 - val_accuracy: 0.8540 - val_loss: 0.6887\n",
      "Epoch 2/30\n",
      "\u001b[1m9/9\u001b[0m \u001b[32m━━━━━━━━━━━━━━━━━━━━\u001b[0m\u001b[37m\u001b[0m \u001b[1m0s\u001b[0m 491ms/step - accuracy: 0.8520 - loss: 0.8026\n",
      "Epoch 2: val_accuracy improved from 0.85400 to 0.85600, saving model to ./data_out/seq2seq_kor.weights.h5\n",
      "\u001b[1m9/9\u001b[0m \u001b[32m━━━━━━━━━━━━━━━━━━━━\u001b[0m\u001b[37m\u001b[0m \u001b[1m5s\u001b[0m 516ms/step - accuracy: 0.8522 - loss: 0.7968 - val_accuracy: 0.8560 - val_loss: 0.6163\n",
      "Epoch 3/30\n",
      "\u001b[1m9/9\u001b[0m \u001b[32m━━━━━━━━━━━━━━━━━━━━\u001b[0m\u001b[37m\u001b[0m \u001b[1m0s\u001b[0m 485ms/step - accuracy: 0.8547 - loss: 0.7281\n",
      "Epoch 3: val_accuracy improved from 0.85600 to 0.85667, saving model to ./data_out/seq2seq_kor.weights.h5\n",
      "\u001b[1m9/9\u001b[0m \u001b[32m━━━━━━━━━━━━━━━━━━━━\u001b[0m\u001b[37m\u001b[0m \u001b[1m5s\u001b[0m 517ms/step - accuracy: 0.8548 - loss: 0.7224 - val_accuracy: 0.8567 - val_loss: 0.6108\n",
      "Epoch 4/30\n",
      "\u001b[1m9/9\u001b[0m \u001b[32m━━━━━━━━━━━━━━━━━━━━\u001b[0m\u001b[37m\u001b[0m \u001b[1m0s\u001b[0m 446ms/step - accuracy: 0.8558 - loss: 0.7058\n",
      "Epoch 4: val_accuracy improved from 0.85667 to 0.85700, saving model to ./data_out/seq2seq_kor.weights.h5\n",
      "\u001b[1m9/9\u001b[0m \u001b[32m━━━━━━━━━━━━━━━━━━━━\u001b[0m\u001b[37m\u001b[0m \u001b[1m4s\u001b[0m 471ms/step - accuracy: 0.8558 - loss: 0.6993 - val_accuracy: 0.8570 - val_loss: 0.5501\n",
      "Epoch 5/30\n",
      "\u001b[1m9/9\u001b[0m \u001b[32m━━━━━━━━━━━━━━━━━━━━\u001b[0m\u001b[37m\u001b[0m \u001b[1m0s\u001b[0m 448ms/step - accuracy: 0.8563 - loss: 0.6161\n",
      "Epoch 5: val_accuracy improved from 0.85700 to 0.85720, saving model to ./data_out/seq2seq_kor.weights.h5\n",
      "\u001b[1m9/9\u001b[0m \u001b[32m━━━━━━━━━━━━━━━━━━━━\u001b[0m\u001b[37m\u001b[0m \u001b[1m4s\u001b[0m 473ms/step - accuracy: 0.8563 - loss: 0.6123 - val_accuracy: 0.8572 - val_loss: 0.5024\n",
      "Epoch 6/30\n",
      "\u001b[1m9/9\u001b[0m \u001b[32m━━━━━━━━━━━━━━━━━━━━\u001b[0m\u001b[37m\u001b[0m \u001b[1m0s\u001b[0m 441ms/step - accuracy: 0.8570 - loss: 0.5644\n",
      "Epoch 6: val_accuracy improved from 0.85720 to 0.85833, saving model to ./data_out/seq2seq_kor.weights.h5\n",
      "\u001b[1m9/9\u001b[0m \u001b[32m━━━━━━━━━━━━━━━━━━━━\u001b[0m\u001b[37m\u001b[0m \u001b[1m4s\u001b[0m 466ms/step - accuracy: 0.8570 - loss: 0.5607 - val_accuracy: 0.8583 - val_loss: 0.4506\n",
      "Epoch 7/30\n",
      "\u001b[1m9/9\u001b[0m \u001b[32m━━━━━━━━━━━━━━━━━━━━\u001b[0m\u001b[37m\u001b[0m \u001b[1m0s\u001b[0m 453ms/step - accuracy: 0.8584 - loss: 0.5021\n",
      "Epoch 7: val_accuracy improved from 0.85833 to 0.85943, saving model to ./data_out/seq2seq_kor.weights.h5\n",
      "\u001b[1m9/9\u001b[0m \u001b[32m━━━━━━━━━━━━━━━━━━━━\u001b[0m\u001b[37m\u001b[0m \u001b[1m4s\u001b[0m 477ms/step - accuracy: 0.8585 - loss: 0.4986 - val_accuracy: 0.8594 - val_loss: 0.4046\n",
      "Epoch 8/30\n",
      "\u001b[1m9/9\u001b[0m \u001b[32m━━━━━━━━━━━━━━━━━━━━\u001b[0m\u001b[37m\u001b[0m \u001b[1m0s\u001b[0m 515ms/step - accuracy: 0.8597 - loss: 0.4450\n",
      "Epoch 8: val_accuracy improved from 0.85943 to 0.86375, saving model to ./data_out/seq2seq_kor.weights.h5\n",
      "\u001b[1m9/9\u001b[0m \u001b[32m━━━━━━━━━━━━━━━━━━━━\u001b[0m\u001b[37m\u001b[0m \u001b[1m5s\u001b[0m 552ms/step - accuracy: 0.8598 - loss: 0.4418 - val_accuracy: 0.8638 - val_loss: 0.3557\n",
      "Epoch 9/30\n",
      "\u001b[1m9/9\u001b[0m \u001b[32m━━━━━━━━━━━━━━━━━━━━\u001b[0m\u001b[37m\u001b[0m \u001b[1m0s\u001b[0m 501ms/step - accuracy: 0.8658 - loss: 0.3803\n",
      "Epoch 9: val_accuracy improved from 0.86375 to 0.87044, saving model to ./data_out/seq2seq_kor.weights.h5\n",
      "\u001b[1m9/9\u001b[0m \u001b[32m━━━━━━━━━━━━━━━━━━━━\u001b[0m\u001b[37m\u001b[0m \u001b[1m5s\u001b[0m 528ms/step - accuracy: 0.8659 - loss: 0.3777 - val_accuracy: 0.8704 - val_loss: 0.3091\n",
      "Epoch 10/30\n",
      "\u001b[1m9/9\u001b[0m \u001b[32m━━━━━━━━━━━━━━━━━━━━\u001b[0m\u001b[37m\u001b[0m \u001b[1m0s\u001b[0m 452ms/step - accuracy: 0.8733 - loss: 0.3255\n",
      "Epoch 10: val_accuracy improved from 0.87044 to 0.87900, saving model to ./data_out/seq2seq_kor.weights.h5\n",
      "\u001b[1m9/9\u001b[0m \u001b[32m━━━━━━━━━━━━━━━━━━━━\u001b[0m\u001b[37m\u001b[0m \u001b[1m4s\u001b[0m 476ms/step - accuracy: 0.8734 - loss: 0.3233 - val_accuracy: 0.8790 - val_loss: 0.2552\n",
      "Epoch 11/30\n",
      "\u001b[1m9/9\u001b[0m \u001b[32m━━━━━━━━━━━━━━━━━━━━\u001b[0m\u001b[37m\u001b[0m \u001b[1m0s\u001b[0m 449ms/step - accuracy: 0.8811 - loss: 0.2692\n",
      "Epoch 11: val_accuracy improved from 0.87900 to 0.88582, saving model to ./data_out/seq2seq_kor.weights.h5\n",
      "\u001b[1m9/9\u001b[0m \u001b[32m━━━━━━━━━━━━━━━━━━━━\u001b[0m\u001b[37m\u001b[0m \u001b[1m4s\u001b[0m 476ms/step - accuracy: 0.8812 - loss: 0.2676 - val_accuracy: 0.8858 - val_loss: 0.2058\n",
      "Epoch 12/30\n",
      "\u001b[1m9/9\u001b[0m \u001b[32m━━━━━━━━━━━━━━━━━━━━\u001b[0m\u001b[37m\u001b[0m \u001b[1m0s\u001b[0m 512ms/step - accuracy: 0.8875 - loss: 0.2261\n",
      "Epoch 12: val_accuracy improved from 0.88582 to 0.89133, saving model to ./data_out/seq2seq_kor.weights.h5\n",
      "\u001b[1m9/9\u001b[0m \u001b[32m━━━━━━━━━━━━━━━━━━━━\u001b[0m\u001b[37m\u001b[0m \u001b[1m5s\u001b[0m 537ms/step - accuracy: 0.8876 - loss: 0.2246 - val_accuracy: 0.8913 - val_loss: 0.1676\n",
      "Epoch 13/30\n",
      "\u001b[1m9/9\u001b[0m \u001b[32m━━━━━━━━━━━━━━━━━━━━\u001b[0m\u001b[37m\u001b[0m \u001b[1m0s\u001b[0m 506ms/step - accuracy: 0.8928 - loss: 0.1781\n",
      "Epoch 13: val_accuracy improved from 0.89133 to 0.89615, saving model to ./data_out/seq2seq_kor.weights.h5\n",
      "\u001b[1m9/9\u001b[0m \u001b[32m━━━━━━━━━━━━━━━━━━━━\u001b[0m\u001b[37m\u001b[0m \u001b[1m5s\u001b[0m 533ms/step - accuracy: 0.8929 - loss: 0.1779 - val_accuracy: 0.8962 - val_loss: 0.1417\n",
      "Epoch 14/30\n",
      "\u001b[1m9/9\u001b[0m \u001b[32m━━━━━━━━━━━━━━━━━━━━\u001b[0m\u001b[37m\u001b[0m \u001b[1m0s\u001b[0m 634ms/step - accuracy: 0.8974 - loss: 0.1585\n",
      "Epoch 14: val_accuracy improved from 0.89615 to 0.90014, saving model to ./data_out/seq2seq_kor.weights.h5\n",
      "\u001b[1m9/9\u001b[0m \u001b[32m━━━━━━━━━━━━━━━━━━━━\u001b[0m\u001b[37m\u001b[0m \u001b[1m6s\u001b[0m 661ms/step - accuracy: 0.8974 - loss: 0.1578 - val_accuracy: 0.9001 - val_loss: 0.1320\n",
      "Epoch 15/30\n",
      "\u001b[1m9/9\u001b[0m \u001b[32m━━━━━━━━━━━━━━━━━━━━\u001b[0m\u001b[37m\u001b[0m \u001b[1m0s\u001b[0m 581ms/step - accuracy: 0.9012 - loss: 0.1387\n",
      "Epoch 15: val_accuracy improved from 0.90014 to 0.90373, saving model to ./data_out/seq2seq_kor.weights.h5\n",
      "\u001b[1m9/9\u001b[0m \u001b[32m━━━━━━━━━━━━━━━━━━━━\u001b[0m\u001b[37m\u001b[0m \u001b[1m5s\u001b[0m 613ms/step - accuracy: 0.9013 - loss: 0.1384 - val_accuracy: 0.9037 - val_loss: 0.1245\n",
      "Epoch 16/30\n",
      "\u001b[1m9/9\u001b[0m \u001b[32m━━━━━━━━━━━━━━━━━━━━\u001b[0m\u001b[37m\u001b[0m \u001b[1m0s\u001b[0m 497ms/step - accuracy: 0.9046 - loss: 0.1355\n",
      "Epoch 16: val_accuracy improved from 0.90373 to 0.90700, saving model to ./data_out/seq2seq_kor.weights.h5\n",
      "\u001b[1m9/9\u001b[0m \u001b[32m━━━━━━━━━━━━━━━━━━━━\u001b[0m\u001b[37m\u001b[0m \u001b[1m5s\u001b[0m 524ms/step - accuracy: 0.9047 - loss: 0.1353 - val_accuracy: 0.9070 - val_loss: 0.1228\n",
      "Epoch 17/30\n",
      "\u001b[1m9/9\u001b[0m \u001b[32m━━━━━━━━━━━━━━━━━━━━\u001b[0m\u001b[37m\u001b[0m \u001b[1m0s\u001b[0m 510ms/step - accuracy: 0.9079 - loss: 0.1234\n",
      "Epoch 17: val_accuracy improved from 0.90700 to 0.91000, saving model to ./data_out/seq2seq_kor.weights.h5\n",
      "\u001b[1m9/9\u001b[0m \u001b[32m━━━━━━━━━━━━━━━━━━━━\u001b[0m\u001b[37m\u001b[0m \u001b[1m5s\u001b[0m 540ms/step - accuracy: 0.9079 - loss: 0.1233 - val_accuracy: 0.9100 - val_loss: 0.1209\n",
      "Epoch 18/30\n",
      "\u001b[1m9/9\u001b[0m \u001b[32m━━━━━━━━━━━━━━━━━━━━\u001b[0m\u001b[37m\u001b[0m \u001b[1m0s\u001b[0m 588ms/step - accuracy: 0.9107 - loss: 0.1243\n",
      "Epoch 18: val_accuracy improved from 0.91000 to 0.91278, saving model to ./data_out/seq2seq_kor.weights.h5\n",
      "\u001b[1m9/9\u001b[0m \u001b[32m━━━━━━━━━━━━━━━━━━━━\u001b[0m\u001b[37m\u001b[0m \u001b[1m6s\u001b[0m 618ms/step - accuracy: 0.9108 - loss: 0.1240 - val_accuracy: 0.9128 - val_loss: 0.1203\n",
      "Epoch 19/30\n",
      "\u001b[1m9/9\u001b[0m \u001b[32m━━━━━━━━━━━━━━━━━━━━\u001b[0m\u001b[37m\u001b[0m \u001b[1m0s\u001b[0m 476ms/step - accuracy: 0.9136 - loss: 0.1181\n",
      "Epoch 19: val_accuracy improved from 0.91278 to 0.91547, saving model to ./data_out/seq2seq_kor.weights.h5\n",
      "\u001b[1m9/9\u001b[0m \u001b[32m━━━━━━━━━━━━━━━━━━━━\u001b[0m\u001b[37m\u001b[0m \u001b[1m5s\u001b[0m 501ms/step - accuracy: 0.9137 - loss: 0.1179 - val_accuracy: 0.9155 - val_loss: 0.1196\n",
      "Epoch 20/30\n",
      "\u001b[1m9/9\u001b[0m \u001b[32m━━━━━━━━━━━━━━━━━━━━\u001b[0m\u001b[37m\u001b[0m \u001b[1m0s\u001b[0m 504ms/step - accuracy: 0.9162 - loss: 0.1096\n",
      "Epoch 20: val_accuracy improved from 0.91547 to 0.91790, saving model to ./data_out/seq2seq_kor.weights.h5\n",
      "\u001b[1m9/9\u001b[0m \u001b[32m━━━━━━━━━━━━━━━━━━━━\u001b[0m\u001b[37m\u001b[0m \u001b[1m5s\u001b[0m 530ms/step - accuracy: 0.9163 - loss: 0.1093 - val_accuracy: 0.9179 - val_loss: 0.1197\n",
      "Epoch 21/30\n",
      "\u001b[1m9/9\u001b[0m \u001b[32m━━━━━━━━━━━━━━━━━━━━\u001b[0m\u001b[37m\u001b[0m \u001b[1m0s\u001b[0m 519ms/step - accuracy: 0.9186 - loss: 0.0975\n",
      "Epoch 21: val_accuracy improved from 0.91790 to 0.92019, saving model to ./data_out/seq2seq_kor.weights.h5\n",
      "\u001b[1m9/9\u001b[0m \u001b[32m━━━━━━━━━━━━━━━━━━━━\u001b[0m\u001b[37m\u001b[0m \u001b[1m5s\u001b[0m 545ms/step - accuracy: 0.9186 - loss: 0.0971 - val_accuracy: 0.9202 - val_loss: 0.1248\n",
      "Epoch 22/30\n",
      "\u001b[1m9/9\u001b[0m \u001b[32m━━━━━━━━━━━━━━━━━━━━\u001b[0m\u001b[37m\u001b[0m \u001b[1m0s\u001b[0m 511ms/step - accuracy: 0.9208 - loss: 0.0773\n",
      "Epoch 22: val_accuracy improved from 0.92019 to 0.92218, saving model to ./data_out/seq2seq_kor.weights.h5\n",
      "\u001b[1m9/9\u001b[0m \u001b[32m━━━━━━━━━━━━━━━━━━━━\u001b[0m\u001b[37m\u001b[0m \u001b[1m5s\u001b[0m 538ms/step - accuracy: 0.9208 - loss: 0.0773 - val_accuracy: 0.9222 - val_loss: 0.1397\n",
      "Epoch 23/30\n",
      "\u001b[1m9/9\u001b[0m \u001b[32m━━━━━━━━━━━━━━━━━━━━\u001b[0m\u001b[37m\u001b[0m \u001b[1m0s\u001b[0m 498ms/step - accuracy: 0.9230 - loss: 0.0604\n",
      "Epoch 23: val_accuracy improved from 0.92218 to 0.92461, saving model to ./data_out/seq2seq_kor.weights.h5\n",
      "\u001b[1m9/9\u001b[0m \u001b[32m━━━━━━━━━━━━━━━━━━━━\u001b[0m\u001b[37m\u001b[0m \u001b[1m5s\u001b[0m 530ms/step - accuracy: 0.9230 - loss: 0.0614 - val_accuracy: 0.9246 - val_loss: 0.1570\n",
      "Epoch 24/30\n",
      "\u001b[1m9/9\u001b[0m \u001b[32m━━━━━━━━━━━━━━━━━━━━\u001b[0m\u001b[37m\u001b[0m \u001b[1m0s\u001b[0m 501ms/step - accuracy: 0.9252 - loss: 0.0736\n",
      "Epoch 24: val_accuracy improved from 0.92461 to 0.92650, saving model to ./data_out/seq2seq_kor.weights.h5\n",
      "\u001b[1m9/9\u001b[0m \u001b[32m━━━━━━━━━━━━━━━━━━━━\u001b[0m\u001b[37m\u001b[0m \u001b[1m5s\u001b[0m 527ms/step - accuracy: 0.9253 - loss: 0.0743 - val_accuracy: 0.9265 - val_loss: 0.1538\n",
      "Epoch 25/30\n",
      "\u001b[1m9/9\u001b[0m \u001b[32m━━━━━━━━━━━━━━━━━━━━\u001b[0m\u001b[37m\u001b[0m \u001b[1m0s\u001b[0m 561ms/step - accuracy: 0.9272 - loss: 0.0562\n",
      "Epoch 25: val_accuracy improved from 0.92650 to 0.92880, saving model to ./data_out/seq2seq_kor.weights.h5\n",
      "\u001b[1m9/9\u001b[0m \u001b[32m━━━━━━━━━━━━━━━━━━━━\u001b[0m\u001b[37m\u001b[0m \u001b[1m5s\u001b[0m 591ms/step - accuracy: 0.9273 - loss: 0.0566 - val_accuracy: 0.9288 - val_loss: 0.1386\n",
      "Epoch 26/30\n",
      "\u001b[1m9/9\u001b[0m \u001b[32m━━━━━━━━━━━━━━━━━━━━\u001b[0m\u001b[37m\u001b[0m \u001b[1m0s\u001b[0m 629ms/step - accuracy: 0.9295 - loss: 0.0607\n",
      "Epoch 26: val_accuracy improved from 0.92880 to 0.93116, saving model to ./data_out/seq2seq_kor.weights.h5\n",
      "\u001b[1m9/9\u001b[0m \u001b[32m━━━━━━━━━━━━━━━━━━━━\u001b[0m\u001b[37m\u001b[0m \u001b[1m6s\u001b[0m 657ms/step - accuracy: 0.9296 - loss: 0.0593 - val_accuracy: 0.9312 - val_loss: 0.1566\n",
      "Epoch 27/30\n",
      "\u001b[1m9/9\u001b[0m \u001b[32m━━━━━━━━━━━━━━━━━━━━\u001b[0m\u001b[37m\u001b[0m \u001b[1m0s\u001b[0m 616ms/step - accuracy: 0.9318 - loss: 0.0301\n",
      "Epoch 27: val_accuracy improved from 0.93116 to 0.93326, saving model to ./data_out/seq2seq_kor.weights.h5\n",
      "\u001b[1m9/9\u001b[0m \u001b[32m━━━━━━━━━━━━━━━━━━━━\u001b[0m\u001b[37m\u001b[0m \u001b[1m6s\u001b[0m 650ms/step - accuracy: 0.9319 - loss: 0.0296 - val_accuracy: 0.9333 - val_loss: 0.1907\n",
      "Epoch 28/30\n",
      "\u001b[1m9/9\u001b[0m \u001b[32m━━━━━━━━━━━━━━━━━━━━\u001b[0m\u001b[37m\u001b[0m \u001b[1m0s\u001b[0m 788ms/step - accuracy: 0.9339 - loss: 0.0126\n",
      "Epoch 28: val_accuracy improved from 0.93326 to 0.93536, saving model to ./data_out/seq2seq_kor.weights.h5\n",
      "\u001b[1m9/9\u001b[0m \u001b[32m━━━━━━━━━━━━━━━━━━━━\u001b[0m\u001b[37m\u001b[0m \u001b[1m7s\u001b[0m 816ms/step - accuracy: 0.9340 - loss: 0.0126 - val_accuracy: 0.9354 - val_loss: 0.2274\n",
      "Epoch 29/30\n",
      "\u001b[1m9/9\u001b[0m \u001b[32m━━━━━━━━━━━━━━━━━━━━\u001b[0m\u001b[37m\u001b[0m \u001b[1m0s\u001b[0m 507ms/step - accuracy: 0.9360 - loss: 0.0079\n",
      "Epoch 29: val_accuracy improved from 0.93536 to 0.93738, saving model to ./data_out/seq2seq_kor.weights.h5\n",
      "\u001b[1m9/9\u001b[0m \u001b[32m━━━━━━━━━━━━━━━━━━━━\u001b[0m\u001b[37m\u001b[0m \u001b[1m5s\u001b[0m 539ms/step - accuracy: 0.9360 - loss: 0.0078 - val_accuracy: 0.9374 - val_loss: 0.2478\n",
      "Epoch 30/30\n",
      "\u001b[1m9/9\u001b[0m \u001b[32m━━━━━━━━━━━━━━━━━━━━\u001b[0m\u001b[37m\u001b[0m \u001b[1m0s\u001b[0m 571ms/step - accuracy: 0.9380 - loss: 0.0034\n",
      "Epoch 30: val_accuracy improved from 0.93738 to 0.93933, saving model to ./data_out/seq2seq_kor.weights.h5\n",
      "\u001b[1m9/9\u001b[0m \u001b[32m━━━━━━━━━━━━━━━━━━━━\u001b[0m\u001b[37m\u001b[0m \u001b[1m5s\u001b[0m 597ms/step - accuracy: 0.9381 - loss: 0.0034 - val_accuracy: 0.9393 - val_loss: 0.2557\n"
     ]
    }
   ],
   "source": [
    "PATH = DATA_OUT_PATH + MODEL_NAME\n",
    "if not(os.path.isdir(PATH)):\n",
    "    os.makedirs(os.path.join(PATH))\n",
    "\n",
    "checkpoint_path = DATA_OUT_PATH + MODEL_NAME + '.weights.h5'\n",
    "\n",
    "# callback 함수 생성\n",
    "cp_callback = ModelCheckpoint(\n",
    "    checkpoint_path, monitor='val_accuracy', verbose=1, save_best_only=True, save_weights_only=True)\n",
    "\n",
    "earlystop_callback = EarlyStopping(monitor='val_accuracy', min_delta=0.0001, patience=10, mode= 'max')\n",
    "\n",
    "history = model.fit([index_inputs, index_outputs], index_targets,\n",
    "                    batch_size=BATCH_SIZE, epochs=EPOCH,\n",
    "                    validation_split=VALIDATION_SPLIT, callbacks=[earlystop_callback, cp_callback])\n"
   ]
  },
  {
   "cell_type": "markdown",
   "id": "81c32563-6deb-468d-9407-9644fc5946a4",
   "metadata": {},
   "source": [
    "# 결과 플롯"
   ]
  },
  {
   "cell_type": "code",
   "execution_count": 15,
   "id": "a8350936-9dfd-400f-9f91-2e985dbb3b51",
   "metadata": {},
   "outputs": [
    {
     "data": {
      "image/png": "[encoded data removed]",
      "text/plain": [
       "<Figure size 640x480 with 1 Axes>"
      ]
     },
     "metadata": {},
     "output_type": "display_data"
    }
   ],
   "source": [
    "plot_graphs(history, 'accuracy')"
   ]
  },
  {
   "cell_type": "code",
   "execution_count": 16,
   "id": "2bb7384d-a2f7-4d52-8de3-da206f00443d",
   "metadata": {},
   "outputs": [
    {
     "data": {
      "image/png": "[encoded data removed]",
      "text/plain": [
       "<Figure size 640x480 with 1 Axes>"
      ]
     },
     "metadata": {},
     "output_type": "display_data"
    }
   ],
   "source": [
    "plot_graphs(history, 'loss')"
   ]
  },
  {
   "cell_type": "markdown",
   "id": "5f7dc490-cf48-473c-8563-17949310278c",
   "metadata": {},
   "source": [
    "## 결과 확인"
   ]
  },
  {
   "cell_type": "code",
   "execution_count": 17,
   "id": "bdf07c39-6bf0-49be-a146-398284eefb6e",
   "metadata": {},
   "outputs": [],
   "source": [
    "# model.load_weights('./data_out/seq2seq_kor.weights.h5')"
   ]
  },
  {
   "cell_type": "code",
   "execution_count": 36,
   "id": "28ef5f7d-3acb-4199-8186-2649bfce2dd3",
   "metadata": {},
   "outputs": [
    {
     "name": "stdout",
     "output_type": "stream",
     "text": [
      "[66 98 31 42 65 88]\n",
      "평소에 필요했던 게 좋을 것 같아요\n"
     ]
    }
   ],
   "source": [
    "query = \"남자친구 승진 선물로 뭐가 좋을까?\"\n",
    "\n",
    "test_index_inputs, _ = enc_processing([query], char2idx)\n",
    "predict_tokens = model.inference(test_index_inputs)\n",
    "print(predict_tokens)\n",
    "\n",
    "print(' '.join([idx2char[str(t)] for t in predict_tokens]))"
   ]
  }
 ],
 "metadata": {
  "kernelspec": {
   "display_name": "Python 3 (ipykernel)",
   "language": "python",
   "name": "python3"
  },
  "language_info": {
   "codemirror_mode": {
    "name": "ipython",
    "version": 3
   },
   "file_extension": ".py",
   "mimetype": "text/x-python",
   "name": "python",
   "nbconvert_exporter": "python",
   "pygments_lexer": "ipython3",
   "version": "3.11.8"
  }
 },
 "nbformat": 4,
 "nbformat_minor": 5
}
