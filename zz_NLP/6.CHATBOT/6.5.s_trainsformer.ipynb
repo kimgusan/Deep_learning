{
 "cells": [
  {
   "cell_type": "markdown",
   "id": "ca35bb23-51ea-466f-8cd4-c5f128739f4f",
   "metadata": {},
   "source": [
    "# 모듈 불러오기"
   ]
  },
  {
   "cell_type": "code",
   "execution_count": 1,
   "id": "1a76e83c-ed35-4c91-8fc3-ddbf1f756d1f",
   "metadata": {},
   "outputs": [],
   "source": [
    "import tensorflow as tf\n",
    "import numpy as np\n",
    "\n",
    "from konlpy.tag import Twitter\n",
    "import pandas as pd\n",
    "import enum\n",
    "import os\n",
    "import re\n",
    "import json\n",
    "from sklearn.model_selection import train_test_split\n",
    "import matplotlib.pyplot as plt\n",
    "\n",
    "from preprocess import *"
   ]
  },
  {
   "cell_type": "markdown",
   "id": "78945e21-01d3-4e04-9c9f-a26c03bdf459",
   "metadata": {},
   "source": [
    "# 시각화 함수"
   ]
  },
  {
   "cell_type": "code",
   "execution_count": 2,
   "id": "c9464d1f-95a1-444d-b6ed-961150f998d1",
   "metadata": {},
   "outputs": [],
   "source": [
    "def plot_graphs(history, string):\n",
    "    plt.plot(history.history[string])\n",
    "    plt.plot(history.history['val_'+string], '')\n",
    "    plt.xlabel(\"Epochs\")\n",
    "    plt.ylabel(string)\n",
    "    plt.legend([string, 'val_'+string])\n",
    "    plt.show()"
   ]
  },
  {
   "cell_type": "markdown",
   "id": "43f135c7-3dae-4da0-b37d-8569d9eb955f",
   "metadata": {},
   "source": [
    "# 학습 데이터 경로 정의"
   ]
  },
  {
   "cell_type": "code",
   "execution_count": 3,
   "id": "f9c5529d-4764-434e-bcf1-544089a85dc6",
   "metadata": {},
   "outputs": [],
   "source": [
    "DATA_IN_PATH = './data_in/'\n",
    "DATA_OUT_PATH = './data_out/'\n",
    "TRAIN_INPUTS = 'train_inputs.npy'\n",
    "TRAIN_OUTPUTS = 'train_outputs.npy'\n",
    "TRAIN_TARGETS = 'train_targets.npy'\n",
    "DATA_CONFIGS = 'data_configs.json'"
   ]
  },
  {
   "cell_type": "markdown",
   "id": "50c3b9d9-4641-4784-a723-1bddf8a682be",
   "metadata": {},
   "source": [
    "# 랜덤 시드 고정"
   ]
  },
  {
   "cell_type": "code",
   "execution_count": 4,
   "id": "b13e2000-1e4f-4d89-81e8-991373f45424",
   "metadata": {},
   "outputs": [],
   "source": [
    "SEED_NUM = 1234\n",
    "tf.random.set_seed(SEED_NUM)"
   ]
  },
  {
   "cell_type": "markdown",
   "id": "79ec3a6a-014c-47a1-a094-27df578763aa",
   "metadata": {},
   "source": [
    "# 파일 로드"
   ]
  },
  {
   "cell_type": "code",
   "execution_count": 5,
   "id": "40fd2369-4072-49a1-8617-e7bfb04520bb",
   "metadata": {},
   "outputs": [],
   "source": [
    "index_inputs = np.load(open(DATA_IN_PATH + TRAIN_INPUTS, 'rb'))\n",
    "index_outputs = np.load(open(DATA_IN_PATH + TRAIN_OUTPUTS , 'rb'))\n",
    "index_targets = np.load(open(DATA_IN_PATH + TRAIN_TARGETS , 'rb'))\n",
    "prepro_configs = json.load(open(DATA_IN_PATH + DATA_CONFIGS, 'r'))"
   ]
  },
  {
   "cell_type": "markdown",
   "id": "f48e23ea-b0de-47f3-a15f-77a712e6154f",
   "metadata": {},
   "source": [
    "# 모델 하이퍼파라미터 정의"
   ]
  },
  {
   "cell_type": "code",
   "execution_count": 6,
   "id": "10530aae-3b23-4d0e-98c1-dd4acb1995a2",
   "metadata": {},
   "outputs": [],
   "source": [
    "char2idx = prepro_configs['char2idx']\n",
    "end_index = prepro_configs['end_symbol']\n",
    "model_name = 'transformer'\n",
    "vocab_size = prepro_configs['vocab_size']\n",
    "BATCH_SIZE = 2\n",
    "MAX_SEQUENCE = 25\n",
    "EPOCHS = 30\n",
    "VALIDATION_SPLIT = 0.1\n",
    "\n",
    "kargs = {'model_name': model_name,\n",
    "         'num_layers': 2,\n",
    "         'd_model': 512,\n",
    "         'num_heads': 8,\n",
    "         'dff': 2048,\n",
    "         'input_vocab_size': vocab_size,\n",
    "         'target_vocab_size': vocab_size,\n",
    "         'maximum_position_encoding': MAX_SEQUENCE,\n",
    "         'end_token_idx': char2idx[end_index], \n",
    "         'rate': 0.1}"
   ]
  },
  {
   "cell_type": "markdown",
   "id": "cf1add15-39ef-4b64-8459-a1fd4714c469",
   "metadata": {},
   "source": [
    "# 모델 선언 및 컴파일"
   ]
  },
  {
   "cell_type": "markdown",
   "id": "a60dc035-efde-401b-9d8a-2ed250ecbc77",
   "metadata": {},
   "source": [
    "## 패딩 및 포워드 마스킹"
   ]
  },
  {
   "cell_type": "code",
   "execution_count": 7,
   "id": "ae930871-253c-442d-b5aa-0df154d75ac8",
   "metadata": {},
   "outputs": [],
   "source": [
    "def create_padding_mask(seq):\n",
    "    seq = tf.cast(tf.math.equal(seq, 0), tf.float32)\n",
    "\n",
    "    # add extra dimensions to add the padding\n",
    "    # to the attention logits.\n",
    "    return seq[:, tf.newaxis, tf.newaxis, :]  # (batch_size, 1, 1, seq_len)"
   ]
  },
  {
   "cell_type": "code",
   "execution_count": 8,
   "id": "c6e083cd-7fe3-460a-a2f4-8471d930193c",
   "metadata": {},
   "outputs": [],
   "source": [
    "def create_look_ahead_mask(size):\n",
    "    # linalg.band_part 함수는 하삼각 행렬을 생성하는 함수입니다. ** 하삼각 행렬: 기존 N x N 행렬을 삼각형 형태로 절반을 나눠서 하는 행렬\n",
    "    # tf.ones((size, size))은 size x size 크기의 모든 요소가 1인 행렬을 생성합니다.\n",
    "    # band_part의 두 번째 매개변수(-1)는 행렬의 하삼각 부분을 유지하라는 의미이고,\n",
    "    # 세 번째 매개변수(0)는 상삼각 부분을 제거하라는 의미입니다.\n",
    "    mask = 1 - tf.linalg.band_part(tf.ones((size, size)), -1, 0)\n",
    "\n",
    "    # mask를 반환합니다. 이 마스크는 seq_len x seq_len 크기의 행렬로, \n",
    "    # 상삼각 부분이 1로 채워져 있습니다.\n",
    "    return mask  # (seq_len, seq_len)    "
   ]
  },
  {
   "cell_type": "code",
   "execution_count": 9,
   "id": "a8ec2888-3e5b-4125-be01-79792abc7437",
   "metadata": {},
   "outputs": [],
   "source": [
    "def create_masks(inp, tar):\n",
    "    # Encoder padding mask\n",
    "    enc_padding_mask = create_padding_mask(inp)\n",
    "\n",
    "    # Used in the 2nd attention block in the decoder.\n",
    "    # This padding mask is used to mask the encoder outputs.\n",
    "    dec_padding_mask = create_padding_mask(inp)\n",
    "\n",
    "    # Used in the 1st attention block in the decoder.\n",
    "    # It is used to pad and mask future tokens in the input received by \n",
    "    # the decoder.\n",
    "    look_ahead_mask = create_look_ahead_mask(tf.shape(tar)[1])\n",
    "    dec_target_padding_mask = create_padding_mask(tar)\n",
    "    combined_mask = tf.maximum(dec_target_padding_mask, look_ahead_mask)\n",
    "\n",
    "    return enc_padding_mask, combined_mask, dec_padding_mask"
   ]
  },
  {
   "cell_type": "code",
   "execution_count": 10,
   "id": "5862f603-1748-4848-bfb8-911ca22dba6e",
   "metadata": {},
   "outputs": [],
   "source": [
    "enc_padding_mask, look_ahead_mask, dec_padding_mask = create_masks(index_inputs, index_outputs)"
   ]
  },
  {
   "cell_type": "markdown",
   "id": "6d8e3f77-2565-4f7c-9720-3dd7150fbd40",
   "metadata": {},
   "source": [
    "## 포지셔널 인코딩"
   ]
  },
  {
   "cell_type": "code",
   "execution_count": 11,
   "id": "89bc9036-350c-407b-b8d1-725b4d042313",
   "metadata": {},
   "outputs": [],
   "source": [
    "def get_angles(pos, i, d_model):\n",
    "    # np.power: 제곱 함수\n",
    "    angle_rates = 1 / np.power(10000, (2 * i//2) / np.float32(d_model))\n",
    "    return pos * angle_rates"
   ]
  },
  {
   "cell_type": "code",
   "execution_count": 12,
   "id": "051e81e4-5d5d-45f9-8052-1858afcd2a77",
   "metadata": {},
   "outputs": [],
   "source": [
    "def positional_encoding(position, d_model):\n",
    "    # get_angles 함수를 호출하여 각 위치와 차원에 대한 각도를 계산합니다.\n",
    "    angle_rads = get_angles(np.arange(position)[:, np.newaxis],\n",
    "                          np.arange(d_model)[np.newaxis, :],\n",
    "                          d_model)\n",
    "\n",
    "    # 배열의 짝수 인덱스(2i) 위치에 대해 sin 함수를 적용합니다.\n",
    "    angle_rads[:, 0::2] = np.sin(angle_rads[:, 0::2])\n",
    "\n",
    "    # 배열의 홀수 인덱스(2i+1) 위치에 대해 cos 함수를 적용합니다.\n",
    "    angle_rads[:, 1::2] = np.cos(angle_rads[:, 1::2])\n",
    "    \n",
    "    # 차원을 확장하여 배치 차원을 추가합니다.\n",
    "    # angle_rads의 원래 shape가 (64, 512)였다면, 이 코드를 실행한 후 pos_encoding의 shape는 (1, 64, 512)가 됩니다.\n",
    "    pos_encoding = angle_rads[np.newaxis, ...]\n",
    "\n",
    "    # 텐서플로우의 텐서로 변환하여 반환합니다.\n",
    "    return tf.cast(pos_encoding, dtype=tf.float32)"
   ]
  },
  {
   "cell_type": "code",
   "execution_count": 13,
   "id": "85ff34b2-5ac6-4adc-9936-b5a20d4f1891",
   "metadata": {},
   "outputs": [
    {
     "name": "stdout",
     "output_type": "stream",
     "text": [
      "(1, 50, 512)\n"
     ]
    },
    {
     "data": {
      "image/png": "[encoded data removed]",
      "text/plain": [
       "<Figure size 640x480 with 2 Axes>"
      ]
     },
     "metadata": {},
     "output_type": "display_data"
    }
   ],
   "source": [
    "pos_encoding = positional_encoding(50, 512)\n",
    "print(pos_encoding.shape)\n",
    "\n",
    "# plt.pcolormesh 함수는 2차원 배열의 값을 색상으로 표현하여 시각적으로 보여줍니다. \n",
    "# 이 그래프는 시퀀스의 각 위치와 모델의 각 차원(또는 깊이) 간의 관계를 색상으로 나타냅니다.\n",
    "plt.pcolormesh(pos_encoding[0], cmap='RdBu')\n",
    "plt.xlabel('Depth')\n",
    "plt.xlim((0, 512))\n",
    "plt.ylabel('Position')\n",
    "plt.colorbar()\n",
    "plt.show()"
   ]
  },
  {
   "cell_type": "markdown",
   "id": "24bfd66a-42a3-4df5-be17-fe3f3d14c140",
   "metadata": {},
   "source": [
    "## 어텐션"
   ]
  },
  {
   "cell_type": "code",
   "execution_count": 14,
   "id": "08d15727-ae2d-4ec8-8044-05c0b5cdc659",
   "metadata": {},
   "outputs": [],
   "source": [
    "def scaled_dot_product_attention(q, k, v, mask):\n",
    "    \"\"\"Calculate the attention weights.\n",
    "    q, k, v must have matching leading dimensions.\n",
    "    k, v must have matching penultimate dimension, i.e.: seq_len_k = seq_len_v.\n",
    "    The mask has different shapes depending on its type(padding or look ahead) \n",
    "    but it must be broadcastable for addition.\n",
    "\n",
    "    Args:\n",
    "    q: query shape == (..., seq_len_q, depth)\n",
    "    k: key shape == (..., seq_len_k, depth)\n",
    "    v: value shape == (..., seq_len_v, depth_v)\n",
    "    mask: Float tensor with shape broadcastable \n",
    "          to (..., seq_len_q, seq_len_k). Defaults to None.\n",
    "\n",
    "    Returns:\n",
    "    output, attention_weights\n",
    "    \"\"\"\n",
    "\n",
    "    # matmul : 행렬곱함수 (단 np.dot과는 다르다)\n",
    "    matmul_qk = tf.matmul(q, k, transpose_b=True)  # (..., seq_len_q, seq_len_k)\n",
    "\n",
    "    # scale matmul_qk\n",
    "    dk = tf.cast(tf.shape(k)[-1], tf.float32)\n",
    "    scaled_attention_logits = matmul_qk / tf.math.sqrt(dk)\n",
    "\n",
    "    # add the mask to the scaled tensor.\n",
    "    if mask is not None:\n",
    "        scaled_attention_logits += (mask * -1e9)  \n",
    "\n",
    "    # softmax is normalized on the last axis (seq_len_k) so that the scores\n",
    "    # add up to 1.\n",
    "    attention_weights = tf.nn.softmax(scaled_attention_logits, axis=-1)  # (..., seq_len_q, seq_len_k)\n",
    "\n",
    "    output = tf.matmul(attention_weights, v)  # (..., seq_len_q, depth_v)\n",
    "\n",
    "    return output, attention_weights"
   ]
  },
  {
   "cell_type": "markdown",
   "id": "fabcfc55-cf8d-4fe9-93b3-e173e728358c",
   "metadata": {},
   "source": [
    "## 멀티헤드 어텐션"
   ]
  },
  {
   "cell_type": "code",
   "execution_count": 15,
   "id": "856c6e9e-3a97-4764-8ce8-c923e142ae30",
   "metadata": {},
   "outputs": [],
   "source": [
    "# 어텐션은 개별적으로 실행되지만 멀티헤드 어텐션의 경우 병렬 처리를 위해 사용한다.\n",
    "class MultiHeadAttention(tf.keras.layers.Layer):\n",
    "    def __init__(self, **kargs):\n",
    "        super(MultiHeadAttention, self).__init__()\n",
    "        self.num_heads = kargs['num_heads']\n",
    "        self.d_model = kargs['d_model']\n",
    "        # assert는 이 조건이 참일때 코드는 내가 보장한다.\n",
    "        # 이 조건은 올바르다!하지만 이 조건이 거짓이라는 것은 내가 보증하지 않은 동작이다. 그러니 AssertionError를 발생해라.\n",
    "        # 라는 의미로 쓰이는 함수이다.\n",
    "        assert self.d_model % self.num_heads == 0\n",
    "        \n",
    "        self.depth = self.d_model // self.num_heads\n",
    "\n",
    "        self.wq = tf.keras.layers.Dense(kargs['d_model'])\n",
    "        self.wk = tf.keras.layers.Dense(kargs['d_model'])\n",
    "        self.wv = tf.keras.layers.Dense(kargs['d_model'])\n",
    "\n",
    "        self.dense = tf.keras.layers.Dense(kargs['d_model'])\n",
    "\n",
    "    def split_heads(self, x, batch_size):\n",
    "        \"\"\"Split the last dimension into (num_heads, depth).\n",
    "        Transpose the result such that the shape is (batch_size, num_heads, seq_len, depth)\n",
    "        \"\"\"\n",
    "        x = tf.reshape(x, (batch_size, -1, self.num_heads, self.depth))\n",
    "        \n",
    "        # transpose 함수가 하는 일은 입력 텐서 x의 차원을 주어진 순서에 맞게 재배열하는 것입니다.\n",
    "        return tf.transpose(x, perm=[0, 2, 1, 3])\n",
    "\n",
    "    def call(self, v, k, q, mask):\n",
    "        batch_size = tf.shape(q)[0]\n",
    "\n",
    "        q = self.wq(q)  # (batch_size, seq_len, d_model)\n",
    "        k = self.wk(k)  # (batch_size, seq_len, d_model)\n",
    "        v = self.wv(v)  # (batch_size, seq_len, d_model)\n",
    "\n",
    "        q = self.split_heads(q, batch_size)  # (batch_size, num_heads, seq_len_q, depth)\n",
    "        k = self.split_heads(k, batch_size)  # (batch_size, num_heads, seq_len_k, depth)\n",
    "        v = self.split_heads(v, batch_size)  # (batch_size, num_heads, seq_len_v, depth)\n",
    "\n",
    "        # scaled_attention.shape == (batch_size, num_heads, seq_len_q, depth)\n",
    "        # attention_weights.shape == (batch_size, num_heads, seq_len_q, seq_len_k)\n",
    "        scaled_attention, attention_weights = scaled_dot_product_attention(q, k, v, mask)\n",
    "\n",
    "        scaled_attention = tf.transpose(scaled_attention, perm=[0, 2, 1, 3])  # (batch_size, seq_len_q, num_heads, depth)\n",
    "\n",
    "        concat_attention = tf.reshape(scaled_attention, \n",
    "                                      (batch_size, -1, self.d_model))  # (batch_size, seq_len_q, d_model)\n",
    "\n",
    "        output = self.dense(concat_attention)  # (batch_size, seq_len_q, d_model)\n",
    "\n",
    "        return output, attention_weights"
   ]
  },
  {
   "cell_type": "markdown",
   "id": "45df878f-4711-46db-bbef-8e853c2ea68c",
   "metadata": {},
   "source": [
    "## 포인트 와이즈 피드포워드 네트워크"
   ]
  },
  {
   "cell_type": "code",
   "execution_count": 16,
   "id": "6fb394f8-4245-47fd-bb84-97380da783ad",
   "metadata": {},
   "outputs": [],
   "source": [
    "def point_wise_feed_forward_network(**kargs):\n",
    "    return tf.keras.Sequential([\n",
    "      tf.keras.layers.Dense(kargs['dff'], activation='relu'),  # (batch_size, seq_len, dff)\n",
    "      tf.keras.layers.Dense(kargs['d_model'])  # (batch_size, seq_len, d_model)\n",
    "    ])"
   ]
  },
  {
   "cell_type": "markdown",
   "id": "b9a1a6df-3a2e-4ed6-9bdf-7cd664090a2f",
   "metadata": {},
   "source": [
    "## 인코더 레이어"
   ]
  },
  {
   "cell_type": "code",
   "execution_count": 17,
   "id": "4e71f0f2-187a-47fe-b5cb-cf4c07dffd1e",
   "metadata": {},
   "outputs": [],
   "source": [
    "class EncoderLayer(tf.keras.layers.Layer):\n",
    "    def __init__(self, **kargs):\n",
    "        super(EncoderLayer, self).__init__()\n",
    "\n",
    "        self.mha = MultiHeadAttention(**kargs)\n",
    "        self.ffn = point_wise_feed_forward_network(**kargs)\n",
    "\n",
    "        # LayerNormalization : 정규화\n",
    "        self.layernorm1 = tf.keras.layers.LayerNormalization(epsilon=1e-6)\n",
    "        self.layernorm2 = tf.keras.layers.LayerNormalization(epsilon=1e-6)\n",
    "\n",
    "        self.dropout1 = tf.keras.layers.Dropout(kargs['rate'])\n",
    "        self.dropout2 = tf.keras.layers.Dropout(kargs['rate'])\n",
    "        \n",
    "    def call(self, x, mask):\n",
    "        #  mha (Multi-Head Attention):\n",
    "        # 멀티헤드 어텐션은 트랜스포머 모델의 핵심 구성 요소 중 하나입니다. \n",
    "        # 입력 데이터에 대한 어텐션 매커니즘을 여러 개의 헤드(head)로 병렬로 적용하여, 서로 다른 표현 공간에서 입력 간의 관계를 파악할 수 있게 합니다.\n",
    "        attn_output, _ = self.mha(x, x, x, mask)  # (batch_size, input_seq_len, d_model)\n",
    "        attn_output = self.dropout1(attn_output)\n",
    "        out1 = self.layernorm1(x + attn_output)  # (batch_size, input_seq_len, d_model)\n",
    "\n",
    "        # ffn (Feed-Forward Network):\n",
    "        # 피드포워드 신경망은 트랜스포머 모델의 각 층에서 어텐션 이후에 적용되는 부분입니다. \n",
    "        # 이 신경망은 어텐션을 통해 추출된 특징을 더욱 깊이 있게 학습하기 위해 사용됩니다.\n",
    "        ffn_output = self.ffn(out1)  # (batch_size, input_seq_len, d_model)\n",
    "        ffn_output = self.dropout2(ffn_output)\n",
    "        out2 = self.layernorm2(out1 + ffn_output)  # (batch_size, input_seq_len, d_model)\n",
    "\n",
    "        return out2"
   ]
  },
  {
   "cell_type": "markdown",
   "id": "d43dcb78-7b30-4d95-947e-c4cc93c33bf6",
   "metadata": {},
   "source": [
    "## 디코더 레이어"
   ]
  },
  {
   "cell_type": "code",
   "execution_count": 18,
   "id": "2b9348f0-8734-4c95-b6e0-10dfe311d63c",
   "metadata": {},
   "outputs": [],
   "source": [
    "class DecoderLayer(tf.keras.layers.Layer):\n",
    "    def __init__(self, **kargs):\n",
    "        super(DecoderLayer, self).__init__()\n",
    "\n",
    "        self.mha1 = MultiHeadAttention(**kargs)\n",
    "        self.mha2 = MultiHeadAttention(**kargs)\n",
    "\n",
    "        self.ffn = point_wise_feed_forward_network(**kargs)\n",
    "\n",
    "        self.layernorm1 = tf.keras.layers.LayerNormalization(epsilon=1e-6)\n",
    "        self.layernorm2 = tf.keras.layers.LayerNormalization(epsilon=1e-6)\n",
    "        self.layernorm3 = tf.keras.layers.LayerNormalization(epsilon=1e-6)\n",
    "\n",
    "        self.dropout1 = tf.keras.layers.Dropout(kargs['rate'])\n",
    "        self.dropout2 = tf.keras.layers.Dropout(kargs['rate'])\n",
    "        self.dropout3 = tf.keras.layers.Dropout(kargs['rate'])\n",
    "    \n",
    "    \n",
    "    def call(self, x, enc_output, look_ahead_mask, padding_mask):\n",
    "        # enc_output.shape == (batch_size, input_seq_len, d_model)\n",
    "        attn1, attn_weights_block1 = self.mha1(x, x, x, look_ahead_mask)  # (batch_size, target_seq_len, d_model)\n",
    "        attn1 = self.dropout1(attn1)\n",
    "        out1 = self.layernorm1(attn1 + x)\n",
    "\n",
    "        attn2, attn_weights_block2 = self.mha2(\n",
    "            enc_output, enc_output, out1, padding_mask)  # (batch_size, target_seq_len, d_model)\n",
    "        attn2 = self.dropout2(attn2)\n",
    "        out2 = self.layernorm2(attn2 + out1)  # (batch_size, target_seq_len, d_model)\n",
    "\n",
    "        ffn_output = self.ffn(out2)  # (batch_size, target_seq_len, d_model)\n",
    "        ffn_output = self.dropout3(ffn_output)\n",
    "        out3 = self.layernorm3(ffn_output + out2)  # (batch_size, target_seq_len, d_model)\n",
    "\n",
    "        return out3, attn_weights_block1, attn_weights_block2"
   ]
  },
  {
   "cell_type": "markdown",
   "id": "d44dd49b-5bc2-44f3-b142-27b5ce9c22cc",
   "metadata": {},
   "source": [
    "## 인코더"
   ]
  },
  {
   "cell_type": "code",
   "execution_count": 19,
   "id": "169677dd-f1ec-4d6c-be13-8a8f94d84042",
   "metadata": {},
   "outputs": [],
   "source": [
    "class Encoder(tf.keras.layers.Layer):\n",
    "    def __init__(self, **kargs):\n",
    "        super(Encoder, self).__init__()\n",
    "\n",
    "        self.d_model = kargs['d_model']\n",
    "        self.num_layers = kargs['num_layers']\n",
    "\n",
    "        self.embedding = tf.keras.layers.Embedding(kargs['input_vocab_size'], self.d_model)\n",
    "        self.pos_encoding = positional_encoding(kargs['maximum_position_encoding'], \n",
    "                                                self.d_model)\n",
    "\n",
    "\n",
    "        self.enc_layers = [EncoderLayer(**kargs) \n",
    "                           for _ in range(self.num_layers)]\n",
    "\n",
    "        self.dropout = tf.keras.layers.Dropout(kargs['rate'])\n",
    "\n",
    "    def call(self, x, mask):\n",
    "\n",
    "        seq_len = tf.shape(x)[1]\n",
    "\n",
    "        # adding embedding and position encoding.\n",
    "        x = self.embedding(x)  # (batch_size, input_seq_len, d_model)\n",
    "        x *= tf.math.sqrt(tf.cast(self.d_model, tf.float32))\n",
    "        x += self.pos_encoding[:, :seq_len, :]\n",
    "\n",
    "        x = self.dropout(x)\n",
    "\n",
    "        for i in range(self.num_layers):\n",
    "            x = self.enc_layers[i](x, mask)\n",
    "\n",
    "        return x  # (batch_size, input_seq_len, d_model)"
   ]
  },
  {
   "cell_type": "markdown",
   "id": "bedfee9a-aafd-4833-a3a2-98de2e3a3995",
   "metadata": {},
   "source": [
    "## 디코더"
   ]
  },
  {
   "cell_type": "code",
   "execution_count": 20,
   "id": "8c7cbfeb-73c6-4448-9811-2b633c8202e4",
   "metadata": {},
   "outputs": [],
   "source": [
    "class Decoder(tf.keras.layers.Layer):\n",
    "    def __init__(self, **kargs):\n",
    "        super(Decoder, self).__init__()\n",
    "\n",
    "        self.d_model = kargs['d_model']\n",
    "        self.num_layers = kargs['num_layers']\n",
    "\n",
    "        self.embedding = tf.keras.layers.Embedding(kargs['target_vocab_size'], self.d_model)\n",
    "        self.pos_encoding = positional_encoding(kargs['maximum_position_encoding'], self.d_model)\n",
    "\n",
    "        self.dec_layers = [DecoderLayer(**kargs) \n",
    "                           for _ in range(self.num_layers)]\n",
    "        self.dropout = tf.keras.layers.Dropout(kargs['rate'])\n",
    "\n",
    "    def call(self, x, enc_output, look_ahead_mask, padding_mask):\n",
    "        seq_len = tf.shape(x)[1]\n",
    "        attention_weights = {}\n",
    "\n",
    "        x = self.embedding(x)  # (batch_size, target_seq_len, d_model)\n",
    "        x *= tf.math.sqrt(tf.cast(self.d_model, tf.float32))\n",
    "        x += self.pos_encoding[:, :seq_len, :]\n",
    "\n",
    "        x = self.dropout(x)\n",
    "\n",
    "        for i in range(self.num_layers):\n",
    "            x, block1, block2 = self.dec_layers[i](x, enc_output, look_ahead_mask, padding_mask)\n",
    "\n",
    "            attention_weights['decoder_layer{}_block1'.format(i+1)] = block1\n",
    "            attention_weights['decoder_layer{}_block2'.format(i+1)] = block2\n",
    "\n",
    "        # x.shape == (batch_size, target_seq_len, d_model)\n",
    "        return x, attention_weights"
   ]
  },
  {
   "cell_type": "markdown",
   "id": "3328be66-a648-460b-bad1-533310ae8b44",
   "metadata": {},
   "source": [
    "## 트렌스포머 모델"
   ]
  },
  {
   "cell_type": "code",
   "execution_count": 21,
   "id": "43be9fa4-7f1f-4aae-8067-6e64c80cfa72",
   "metadata": {},
   "outputs": [],
   "source": [
    "class Transformer(tf.keras.Model):\n",
    "    def __init__(self, **kargs):\n",
    "        super(Transformer, self).__init__(name=kargs['model_name'])\n",
    "        self.end_token_idx = kargs['end_token_idx']\n",
    "        \n",
    "        self.encoder = Encoder(**kargs)\n",
    "        self.decoder = Decoder(**kargs)\n",
    "\n",
    "        self.final_layer = tf.keras.layers.Dense(kargs['target_vocab_size'])\n",
    "\n",
    "    def call(self, x):\n",
    "        inp, tar = x\n",
    "\n",
    "        enc_padding_mask, look_ahead_mask, dec_padding_mask = create_masks(inp, tar)\n",
    "        enc_output = self.encoder(inp, enc_padding_mask)  # (batch_size, inp_seq_len, d_model)\n",
    "\n",
    "        # dec_output.shape == (batch_size, tar_seq_len, d_model)\n",
    "        dec_output, _ = self.decoder(\n",
    "            tar, enc_output, look_ahead_mask, dec_padding_mask)\n",
    "\n",
    "        final_output = self.final_layer(dec_output)  # (batch_size, tar_seq_len, target_vocab_size)\n",
    "\n",
    "        return final_output\n",
    "    \n",
    "    def inference(self, x):\n",
    "        inp = x\n",
    "        tar = tf.expand_dims([STD_INDEX], 0)\n",
    "\n",
    "        enc_padding_mask, look_ahead_mask, dec_padding_mask = create_masks(inp, tar)        \n",
    "        enc_output = self.encoder(inp, enc_padding_mask)\n",
    "        \n",
    "        predict_tokens = list()\n",
    "        for t in range(0, MAX_SEQUENCE):\n",
    "            dec_output, _ = self.decoder(tar, enc_output, look_ahead_mask, dec_padding_mask)\n",
    "            final_output = self.final_layer(dec_output)\n",
    "            outputs = tf.argmax(final_output, -1).numpy()\n",
    "            pred_token = outputs[0][-1]\n",
    "            if pred_token == self.end_token_idx:\n",
    "                break\n",
    "            predict_tokens.append(pred_token)\n",
    "            tar = tf.expand_dims([STD_INDEX] + predict_tokens, 0)\n",
    "            _, look_ahead_mask, dec_padding_mask = create_masks(inp, tar)\n",
    "            \n",
    "        return predict_tokens"
   ]
  },
  {
   "cell_type": "markdown",
   "id": "6b199ff2-79c6-46f5-a7b8-8f9a92a9f8a1",
   "metadata": {},
   "source": [
    "## 모델 로스 정의"
   ]
  },
  {
   "cell_type": "code",
   "execution_count": 22,
   "id": "dc1f5ab9-089b-40ed-9271-3a327356bd44",
   "metadata": {},
   "outputs": [],
   "source": [
    "# 손실 함수로 Sparse Categorical Crossentropy를 사용하며,\n",
    "# 이 함수는 정답 레이블이 one-hot 인코딩이 아닌 정수 형태로 주어질 때 사용\n",
    "# from_logits=True는 로짓(logit) 출력이 주어질 때 사용하며,\n",
    "# reduction=\"None\"은 각 샘플별 손실을 반환함을 의미\n",
    "loss_object = tf.keras.losses.SparseCategoricalCrossentropy(from_logits=True, reduction='none')\n",
    "\n",
    "\n",
    "# 학습 정확도를 측정하기 위해 Sparse Categorical Crossentropy 메트릭을 사용\n",
    "# name='accuracy'는 이 메트릭의 이름을 'accuracy'로 지정\n",
    "train_accuracy = tf.keras.metrics.SparseCategoricalAccuracy(name='accuracy')\n",
    "\n",
    "# 손실값을 계산하는 사용자 정의 함수\n",
    "def loss(real, pred):\n",
    "    # real 값이 0인 부분(보통 패딩된 부분)을 찾아내기 위한 마스크 생성\n",
    "    mask = tf.math.logical_not(tf.math.equal(real, 0))\n",
    "    # 손실값 계산 (real: 실제값, pred: 예측값)\n",
    "    loss_ = loss_object(real, pred)\n",
    "    # 마스크를 loss와 같은 데이터 타입으로 변환\n",
    "    mask = tf.cast(mask, dtype=loss_.dtype)\n",
    "    # 마스크를 손실값에 곱하여, 마스크된 부분(패딩된 부분)은 손실값에서 제외\n",
    "    loss_ *= mask\n",
    "    # 전체 손실값의 평균을 계산하여 반환\n",
    "    return tf.reduce_mean(loss_)    \n",
    "\n",
    "# 정확도를 계산하는 사용자 정의 함수\n",
    "def accuracy(real, pred):\n",
    "    # real 값이 0인 부분(보통 패딩된 부분)을 찾아내기 위한 마스크 생성\n",
    "    mask = tf.math.logical_not(tf.math.equal(real, 0))\n",
    "    # 마스크를 pred와 같은 데이터 타입으로 변환하고, 차원을 확장\n",
    "    mask = tf.expand_dims(tf.cast(mask, dtype=pred.dtype), axis=-1)\n",
    "    # 마스크를 pred에 곱하여, 마스크된 부분(패딩된 부분)은 정확도 계산에서 제외\n",
    "    pred *= mask    \n",
    "    # 마스크된 부분을 제외한 정확도를 계산\n",
    "    acc = train_accuracy(real, pred)\n",
    "    # 전체 정확도의 평균을 계산하여 반환\n",
    "    return tf.reduce_mean(acc)"
   ]
  },
  {
   "cell_type": "code",
   "execution_count": 23,
   "id": "18b46777-55ca-44df-aad1-37e66e9f1fd3",
   "metadata": {},
   "outputs": [],
   "source": [
    "model = Transformer(**kargs)\n",
    "model.compile(optimizer = tf.keras.optimizers.Adam(1e-4),\n",
    "             loss= loss, metrics=[accuracy])"
   ]
  },
  {
   "cell_type": "markdown",
   "id": "8a54aaf5-bde7-434b-a969-f0c0e67853bd",
   "metadata": {},
   "source": [
    "# Callback 선언"
   ]
  },
  {
   "cell_type": "code",
   "execution_count": 33,
   "id": "5ffea967-a7d6-4e7c-9ea2-525846943f6c",
   "metadata": {},
   "outputs": [
    {
     "name": "stdout",
     "output_type": "stream",
     "text": [
      "./data_out/transformer -- Folder already exists \n",
      "\n"
     ]
    }
   ],
   "source": [
    "from tensorflow.keras.callbacks import EarlyStopping, ModelCheckpoint\n",
    "# overfitting을 막기 위한 ealrystop 추가\n",
    "earlystop_callback = EarlyStopping(monitor='val_accuracy', min_delta=0.0001, patience=10, mode = 'max')\n",
    "# min_delta: the threshold that triggers the termination (acc should at least improve 0.0001)\n",
    "# patience: no improvment epochs (patience = 1, 1번 이상 상승이 없으면 종료)\n",
    "\n",
    "checkpoint_path = DATA_OUT_PATH + model_name + '/transformer.weights.h5'\n",
    "checkpoint_dir = os.path.dirname(checkpoint_path)\n",
    "\n",
    "# Create path if exists\n",
    "if os.path.exists(checkpoint_dir):\n",
    "    print(\"{} -- Folder already exists \\n\".format(checkpoint_dir))\n",
    "else:\n",
    "    os.makedirs(checkpoint_dir, exist_ok=True)\n",
    "    print(\"{} -- Folder create complete \\n\".format(checkpoint_dir))\n",
    "    \n",
    "\n",
    "cp_callback = ModelCheckpoint(\n",
    "    checkpoint_path, monitor='val_accuracy', verbose=1, save_best_only=True, save_weights_only=True)"
   ]
  },
  {
   "cell_type": "markdown",
   "id": "3fec4e4c-9842-4cb7-898c-9f477e999978",
   "metadata": {},
   "source": [
    "# 모델 학습"
   ]
  },
  {
   "cell_type": "code",
   "execution_count": 34,
   "id": "4d0f7b80-f952-4721-ae9a-ccee7d350e0f",
   "metadata": {},
   "outputs": [
    {
     "name": "stdout",
     "output_type": "stream",
     "text": [
      "Epoch 1/30\n",
      "\u001b[1m9/9\u001b[0m \u001b[32m━━━━━━━━━━━━━━━━━━━━\u001b[0m\u001b[37m\u001b[0m \u001b[1m0s\u001b[0m 66ms/step - accuracy: 0.9721 - loss: 4.0268e-04\n",
      "Epoch 1: val_accuracy improved from -inf to 0.97250, saving model to ./data_out/transformer/transformer.weights.h5\n",
      "\u001b[1m9/9\u001b[0m \u001b[32m━━━━━━━━━━━━━━━━━━━━\u001b[0m\u001b[37m\u001b[0m \u001b[1m1s\u001b[0m 89ms/step - accuracy: 0.9722 - loss: 3.9879e-04 - val_accuracy: 0.9725 - val_loss: 0.3268\n",
      "Epoch 2/30\n",
      "\u001b[1m9/9\u001b[0m \u001b[32m━━━━━━━━━━━━━━━━━━━━\u001b[0m\u001b[37m\u001b[0m \u001b[1m0s\u001b[0m 75ms/step - accuracy: 0.9728 - loss: 3.8464e-04\n",
      "Epoch 2: val_accuracy improved from 0.97250 to 0.97309, saving model to ./data_out/transformer/transformer.weights.h5\n",
      "\u001b[1m9/9\u001b[0m \u001b[32m━━━━━━━━━━━━━━━━━━━━\u001b[0m\u001b[37m\u001b[0m \u001b[1m1s\u001b[0m 90ms/step - accuracy: 0.9728 - loss: 3.8097e-04 - val_accuracy: 0.9731 - val_loss: 0.3260\n",
      "Epoch 3/30\n",
      "\u001b[1m9/9\u001b[0m \u001b[32m━━━━━━━━━━━━━━━━━━━━\u001b[0m\u001b[37m\u001b[0m \u001b[1m0s\u001b[0m 77ms/step - accuracy: 0.9733 - loss: 3.6790e-04\n",
      "Epoch 3: val_accuracy improved from 0.97309 to 0.97365, saving model to ./data_out/transformer/transformer.weights.h5\n",
      "\u001b[1m9/9\u001b[0m \u001b[32m━━━━━━━━━━━━━━━━━━━━\u001b[0m\u001b[37m\u001b[0m \u001b[1m1s\u001b[0m 93ms/step - accuracy: 0.9733 - loss: 3.6444e-04 - val_accuracy: 0.9736 - val_loss: 0.3253\n",
      "Epoch 4/30\n",
      "\u001b[1m9/9\u001b[0m \u001b[32m━━━━━━━━━━━━━━━━━━━━\u001b[0m\u001b[37m\u001b[0m \u001b[1m0s\u001b[0m 68ms/step - accuracy: 0.9739 - loss: 3.5230e-04\n",
      "Epoch 4: val_accuracy improved from 0.97365 to 0.97417, saving model to ./data_out/transformer/transformer.weights.h5\n",
      "\u001b[1m9/9\u001b[0m \u001b[32m━━━━━━━━━━━━━━━━━━━━\u001b[0m\u001b[37m\u001b[0m \u001b[1m1s\u001b[0m 89ms/step - accuracy: 0.9739 - loss: 3.4903e-04 - val_accuracy: 0.9742 - val_loss: 0.3246\n",
      "Epoch 5/30\n",
      "\u001b[1m9/9\u001b[0m \u001b[32m━━━━━━━━━━━━━━━━━━━━\u001b[0m\u001b[37m\u001b[0m \u001b[1m0s\u001b[0m 70ms/step - accuracy: 0.9744 - loss: 3.3772e-04\n",
      "Epoch 5: val_accuracy improved from 0.97417 to 0.97467, saving model to ./data_out/transformer/transformer.weights.h5\n",
      "\u001b[1m9/9\u001b[0m \u001b[32m━━━━━━━━━━━━━━━━━━━━\u001b[0m\u001b[37m\u001b[0m \u001b[1m1s\u001b[0m 86ms/step - accuracy: 0.9744 - loss: 3.3463e-04 - val_accuracy: 0.9747 - val_loss: 0.3240\n",
      "Epoch 6/30\n",
      "\u001b[1m9/9\u001b[0m \u001b[32m━━━━━━━━━━━━━━━━━━━━\u001b[0m\u001b[37m\u001b[0m \u001b[1m0s\u001b[0m 67ms/step - accuracy: 0.9749 - loss: 3.2406e-04\n",
      "Epoch 6: val_accuracy improved from 0.97467 to 0.97514, saving model to ./data_out/transformer/transformer.weights.h5\n",
      "\u001b[1m9/9\u001b[0m \u001b[32m━━━━━━━━━━━━━━━━━━━━\u001b[0m\u001b[37m\u001b[0m \u001b[1m1s\u001b[0m 83ms/step - accuracy: 0.9749 - loss: 3.2114e-04 - val_accuracy: 0.9751 - val_loss: 0.3234\n",
      "Epoch 7/30\n",
      "\u001b[1m9/9\u001b[0m \u001b[32m━━━━━━━━━━━━━━━━━━━━\u001b[0m\u001b[37m\u001b[0m \u001b[1m0s\u001b[0m 66ms/step - accuracy: 0.9753 - loss: 3.1126e-04\n",
      "Epoch 7: val_accuracy improved from 0.97514 to 0.97558, saving model to ./data_out/transformer/transformer.weights.h5\n",
      "\u001b[1m9/9\u001b[0m \u001b[32m━━━━━━━━━━━━━━━━━━━━\u001b[0m\u001b[37m\u001b[0m \u001b[1m1s\u001b[0m 82ms/step - accuracy: 0.9753 - loss: 3.0849e-04 - val_accuracy: 0.9756 - val_loss: 0.3228\n",
      "Epoch 8/30\n",
      "\u001b[1m9/9\u001b[0m \u001b[32m━━━━━━━━━━━━━━━━━━━━\u001b[0m\u001b[37m\u001b[0m \u001b[1m0s\u001b[0m 74ms/step - accuracy: 0.9758 - loss: 2.9924e-04\n",
      "Epoch 8: val_accuracy improved from 0.97558 to 0.97600, saving model to ./data_out/transformer/transformer.weights.h5\n",
      "\u001b[1m9/9\u001b[0m \u001b[32m━━━━━━━━━━━━━━━━━━━━\u001b[0m\u001b[37m\u001b[0m \u001b[1m1s\u001b[0m 88ms/step - accuracy: 0.9758 - loss: 2.9661e-04 - val_accuracy: 0.9760 - val_loss: 0.3222\n",
      "Epoch 9/30\n",
      "\u001b[1m9/9\u001b[0m \u001b[32m━━━━━━━━━━━━━━━━━━━━\u001b[0m\u001b[37m\u001b[0m \u001b[1m0s\u001b[0m 66ms/step - accuracy: 0.9762 - loss: 2.8793e-04\n",
      "Epoch 9: val_accuracy improved from 0.97600 to 0.97645, saving model to ./data_out/transformer/transformer.weights.h5\n",
      "\u001b[1m9/9\u001b[0m \u001b[32m━━━━━━━━━━━━━━━━━━━━\u001b[0m\u001b[37m\u001b[0m \u001b[1m1s\u001b[0m 82ms/step - accuracy: 0.9762 - loss: 2.8543e-04 - val_accuracy: 0.9765 - val_loss: 0.3217\n",
      "Epoch 10/30\n",
      "\u001b[1m9/9\u001b[0m \u001b[32m━━━━━━━━━━━━━━━━━━━━\u001b[0m\u001b[37m\u001b[0m \u001b[1m0s\u001b[0m 71ms/step - accuracy: 0.9766 - loss: 2.7726e-04\n",
      "Epoch 10: val_accuracy improved from 0.97645 to 0.97693, saving model to ./data_out/transformer/transformer.weights.h5\n",
      "\u001b[1m9/9\u001b[0m \u001b[32m━━━━━━━━━━━━━━━━━━━━\u001b[0m\u001b[37m\u001b[0m \u001b[1m1s\u001b[0m 86ms/step - accuracy: 0.9766 - loss: 2.7489e-04 - val_accuracy: 0.9769 - val_loss: 0.3211\n",
      "Epoch 11/30\n",
      "\u001b[1m9/9\u001b[0m \u001b[32m━━━━━━━━━━━━━━━━━━━━\u001b[0m\u001b[37m\u001b[0m \u001b[1m0s\u001b[0m 71ms/step - accuracy: 0.9771 - loss: 2.6722e-04\n",
      "Epoch 11: val_accuracy improved from 0.97693 to 0.97738, saving model to ./data_out/transformer/transformer.weights.h5\n",
      "\u001b[1m9/9\u001b[0m \u001b[32m━━━━━━━━━━━━━━━━━━━━\u001b[0m\u001b[37m\u001b[0m \u001b[1m1s\u001b[0m 87ms/step - accuracy: 0.9771 - loss: 2.6496e-04 - val_accuracy: 0.9774 - val_loss: 0.3207\n",
      "Epoch 12/30\n",
      "\u001b[1m9/9\u001b[0m \u001b[32m━━━━━━━━━━━━━━━━━━━━\u001b[0m\u001b[37m\u001b[0m \u001b[1m0s\u001b[0m 63ms/step - accuracy: 0.9775 - loss: 2.5775e-04\n",
      "Epoch 12: val_accuracy improved from 0.97738 to 0.97781, saving model to ./data_out/transformer/transformer.weights.h5\n",
      "\u001b[1m9/9\u001b[0m \u001b[32m━━━━━━━━━━━━━━━━━━━━\u001b[0m\u001b[37m\u001b[0m \u001b[1m1s\u001b[0m 78ms/step - accuracy: 0.9776 - loss: 2.5560e-04 - val_accuracy: 0.9778 - val_loss: 0.3202\n",
      "Epoch 13/30\n",
      "\u001b[1m9/9\u001b[0m \u001b[32m━━━━━━━━━━━━━━━━━━━━\u001b[0m\u001b[37m\u001b[0m \u001b[1m0s\u001b[0m 62ms/step - accuracy: 0.9780 - loss: 2.4880e-04\n",
      "Epoch 13: val_accuracy improved from 0.97781 to 0.97823, saving model to ./data_out/transformer/transformer.weights.h5\n",
      "\u001b[1m9/9\u001b[0m \u001b[32m━━━━━━━━━━━━━━━━━━━━\u001b[0m\u001b[37m\u001b[0m \u001b[1m1s\u001b[0m 77ms/step - accuracy: 0.9780 - loss: 2.4674e-04 - val_accuracy: 0.9782 - val_loss: 0.3198\n",
      "Epoch 14/30\n",
      "\u001b[1m9/9\u001b[0m \u001b[32m━━━━━━━━━━━━━━━━━━━━\u001b[0m\u001b[37m\u001b[0m \u001b[1m0s\u001b[0m 61ms/step - accuracy: 0.9784 - loss: 2.4031e-04\n",
      "Epoch 14: val_accuracy improved from 0.97823 to 0.97862, saving model to ./data_out/transformer/transformer.weights.h5\n",
      "\u001b[1m9/9\u001b[0m \u001b[32m━━━━━━━━━━━━━━━━━━━━\u001b[0m\u001b[37m\u001b[0m \u001b[1m1s\u001b[0m 75ms/step - accuracy: 0.9784 - loss: 2.3834e-04 - val_accuracy: 0.9786 - val_loss: 0.3193\n",
      "Epoch 15/30\n",
      "\u001b[1m9/9\u001b[0m \u001b[32m━━━━━━━━━━━━━━━━━━━━\u001b[0m\u001b[37m\u001b[0m \u001b[1m0s\u001b[0m 64ms/step - accuracy: 0.9788 - loss: 2.3226e-04\n",
      "Epoch 15: val_accuracy improved from 0.97862 to 0.97900, saving model to ./data_out/transformer/transformer.weights.h5\n",
      "\u001b[1m9/9\u001b[0m \u001b[32m━━━━━━━━━━━━━━━━━━━━\u001b[0m\u001b[37m\u001b[0m \u001b[1m1s\u001b[0m 79ms/step - accuracy: 0.9788 - loss: 2.3038e-04 - val_accuracy: 0.9790 - val_loss: 0.3189\n",
      "Epoch 16/30\n",
      "\u001b[1m9/9\u001b[0m \u001b[32m━━━━━━━━━━━━━━━━━━━━\u001b[0m\u001b[37m\u001b[0m \u001b[1m0s\u001b[0m 67ms/step - accuracy: 0.9791 - loss: 2.2464e-04\n",
      "Epoch 16: val_accuracy improved from 0.97900 to 0.97936, saving model to ./data_out/transformer/transformer.weights.h5\n",
      "\u001b[1m9/9\u001b[0m \u001b[32m━━━━━━━━━━━━━━━━━━━━\u001b[0m\u001b[37m\u001b[0m \u001b[1m1s\u001b[0m 81ms/step - accuracy: 0.9791 - loss: 2.2284e-04 - val_accuracy: 0.9794 - val_loss: 0.3185\n",
      "Epoch 17/30\n",
      "\u001b[1m9/9\u001b[0m \u001b[32m━━━━━━━━━━━━━━━━━━━━\u001b[0m\u001b[37m\u001b[0m \u001b[1m0s\u001b[0m 63ms/step - accuracy: 0.9795 - loss: 2.1741e-04\n",
      "Epoch 17: val_accuracy improved from 0.97936 to 0.97971, saving model to ./data_out/transformer/transformer.weights.h5\n",
      "\u001b[1m9/9\u001b[0m \u001b[32m━━━━━━━━━━━━━━━━━━━━\u001b[0m\u001b[37m\u001b[0m \u001b[1m1s\u001b[0m 78ms/step - accuracy: 0.9795 - loss: 2.1569e-04 - val_accuracy: 0.9797 - val_loss: 0.3181\n",
      "Epoch 18/30\n",
      "\u001b[1m9/9\u001b[0m \u001b[32m━━━━━━━━━━━━━━━━━━━━\u001b[0m\u001b[37m\u001b[0m \u001b[1m0s\u001b[0m 64ms/step - accuracy: 0.9798 - loss: 2.1052e-04\n",
      "Epoch 18: val_accuracy improved from 0.97971 to 0.98004, saving model to ./data_out/transformer/transformer.weights.h5\n",
      "\u001b[1m9/9\u001b[0m \u001b[32m━━━━━━━━━━━━━━━━━━━━\u001b[0m\u001b[37m\u001b[0m \u001b[1m1s\u001b[0m 78ms/step - accuracy: 0.9798 - loss: 2.0887e-04 - val_accuracy: 0.9800 - val_loss: 0.3177\n",
      "Epoch 19/30\n",
      "\u001b[1m9/9\u001b[0m \u001b[32m━━━━━━━━━━━━━━━━━━━━\u001b[0m\u001b[37m\u001b[0m \u001b[1m0s\u001b[0m 64ms/step - accuracy: 0.9802 - loss: 2.0398e-04\n",
      "Epoch 19: val_accuracy improved from 0.98004 to 0.98036, saving model to ./data_out/transformer/transformer.weights.h5\n",
      "\u001b[1m9/9\u001b[0m \u001b[32m━━━━━━━━━━━━━━━━━━━━\u001b[0m\u001b[37m\u001b[0m \u001b[1m1s\u001b[0m 79ms/step - accuracy: 0.9802 - loss: 2.0239e-04 - val_accuracy: 0.9804 - val_loss: 0.3173\n",
      "Epoch 20/30\n",
      "\u001b[1m9/9\u001b[0m \u001b[32m━━━━━━━━━━━━━━━━━━━━\u001b[0m\u001b[37m\u001b[0m \u001b[1m0s\u001b[0m 63ms/step - accuracy: 0.9805 - loss: 1.9775e-04\n",
      "Epoch 20: val_accuracy improved from 0.98036 to 0.98067, saving model to ./data_out/transformer/transformer.weights.h5\n",
      "\u001b[1m9/9\u001b[0m \u001b[32m━━━━━━━━━━━━━━━━━━━━\u001b[0m\u001b[37m\u001b[0m \u001b[1m1s\u001b[0m 79ms/step - accuracy: 0.9805 - loss: 1.9622e-04 - val_accuracy: 0.9807 - val_loss: 0.3170\n",
      "Epoch 21/30\n",
      "\u001b[1m9/9\u001b[0m \u001b[32m━━━━━━━━━━━━━━━━━━━━\u001b[0m\u001b[37m\u001b[0m \u001b[1m0s\u001b[0m 68ms/step - accuracy: 0.9808 - loss: 1.9180e-04\n",
      "Epoch 21: val_accuracy improved from 0.98067 to 0.98096, saving model to ./data_out/transformer/transformer.weights.h5\n",
      "\u001b[1m9/9\u001b[0m \u001b[32m━━━━━━━━━━━━━━━━━━━━\u001b[0m\u001b[37m\u001b[0m \u001b[1m1s\u001b[0m 84ms/step - accuracy: 0.9808 - loss: 1.9034e-04 - val_accuracy: 0.9810 - val_loss: 0.3167\n",
      "Epoch 22/30\n",
      "\u001b[1m9/9\u001b[0m \u001b[32m━━━━━━━━━━━━━━━━━━━━\u001b[0m\u001b[37m\u001b[0m \u001b[1m0s\u001b[0m 61ms/step - accuracy: 0.9811 - loss: 1.8612e-04\n",
      "Epoch 22: val_accuracy improved from 0.98096 to 0.98125, saving model to ./data_out/transformer/transformer.weights.h5\n",
      "\u001b[1m9/9\u001b[0m \u001b[32m━━━━━━━━━━━━━━━━━━━━\u001b[0m\u001b[37m\u001b[0m \u001b[1m1s\u001b[0m 75ms/step - accuracy: 0.9811 - loss: 1.8472e-04 - val_accuracy: 0.9812 - val_loss: 0.3163\n",
      "Epoch 23/30\n",
      "\u001b[1m9/9\u001b[0m \u001b[32m━━━━━━━━━━━━━━━━━━━━\u001b[0m\u001b[37m\u001b[0m \u001b[1m0s\u001b[0m 65ms/step - accuracy: 0.9814 - loss: 1.8071e-04\n",
      "Epoch 23: val_accuracy improved from 0.98125 to 0.98152, saving model to ./data_out/transformer/transformer.weights.h5\n",
      "\u001b[1m9/9\u001b[0m \u001b[32m━━━━━━━━━━━━━━━━━━━━\u001b[0m\u001b[37m\u001b[0m \u001b[1m1s\u001b[0m 78ms/step - accuracy: 0.9814 - loss: 1.7935e-04 - val_accuracy: 0.9815 - val_loss: 0.3160\n",
      "Epoch 24/30\n",
      "\u001b[1m9/9\u001b[0m \u001b[32m━━━━━━━━━━━━━━━━━━━━\u001b[0m\u001b[37m\u001b[0m \u001b[1m0s\u001b[0m 65ms/step - accuracy: 0.9816 - loss: 1.7553e-04\n",
      "Epoch 24: val_accuracy improved from 0.98152 to 0.98178, saving model to ./data_out/transformer/transformer.weights.h5\n",
      "\u001b[1m9/9\u001b[0m \u001b[32m━━━━━━━━━━━━━━━━━━━━\u001b[0m\u001b[37m\u001b[0m \u001b[1m1s\u001b[0m 79ms/step - accuracy: 0.9816 - loss: 1.7423e-04 - val_accuracy: 0.9818 - val_loss: 0.3158\n",
      "Epoch 25/30\n",
      "\u001b[1m9/9\u001b[0m \u001b[32m━━━━━━━━━━━━━━━━━━━━\u001b[0m\u001b[37m\u001b[0m \u001b[1m0s\u001b[0m 63ms/step - accuracy: 0.9819 - loss: 1.7058e-04\n",
      "Epoch 25: val_accuracy improved from 0.98178 to 0.98204, saving model to ./data_out/transformer/transformer.weights.h5\n",
      "\u001b[1m9/9\u001b[0m \u001b[32m━━━━━━━━━━━━━━━━━━━━\u001b[0m\u001b[37m\u001b[0m \u001b[1m1s\u001b[0m 78ms/step - accuracy: 0.9819 - loss: 1.6933e-04 - val_accuracy: 0.9820 - val_loss: 0.3155\n",
      "Epoch 26/30\n",
      "\u001b[1m9/9\u001b[0m \u001b[32m━━━━━━━━━━━━━━━━━━━━\u001b[0m\u001b[37m\u001b[0m \u001b[1m0s\u001b[0m 68ms/step - accuracy: 0.9821 - loss: 1.6585e-04\n",
      "Epoch 26: val_accuracy improved from 0.98204 to 0.98228, saving model to ./data_out/transformer/transformer.weights.h5\n",
      "\u001b[1m9/9\u001b[0m \u001b[32m━━━━━━━━━━━━━━━━━━━━\u001b[0m\u001b[37m\u001b[0m \u001b[1m1s\u001b[0m 84ms/step - accuracy: 0.9821 - loss: 1.6464e-04 - val_accuracy: 0.9823 - val_loss: 0.3152\n",
      "Epoch 27/30\n",
      "\u001b[1m9/9\u001b[0m \u001b[32m━━━━━━━━━━━━━━━━━━━━\u001b[0m\u001b[37m\u001b[0m \u001b[1m0s\u001b[0m 63ms/step - accuracy: 0.9824 - loss: 1.6133e-04\n",
      "Epoch 27: val_accuracy improved from 0.98228 to 0.98252, saving model to ./data_out/transformer/transformer.weights.h5\n",
      "\u001b[1m9/9\u001b[0m \u001b[32m━━━━━━━━━━━━━━━━━━━━\u001b[0m\u001b[37m\u001b[0m \u001b[1m1s\u001b[0m 79ms/step - accuracy: 0.9824 - loss: 1.6016e-04 - val_accuracy: 0.9825 - val_loss: 0.3150\n",
      "Epoch 28/30\n",
      "\u001b[1m9/9\u001b[0m \u001b[32m━━━━━━━━━━━━━━━━━━━━\u001b[0m\u001b[37m\u001b[0m \u001b[1m0s\u001b[0m 64ms/step - accuracy: 0.9826 - loss: 1.5700e-04\n",
      "Epoch 28: val_accuracy improved from 0.98252 to 0.98275, saving model to ./data_out/transformer/transformer.weights.h5\n",
      "\u001b[1m9/9\u001b[0m \u001b[32m━━━━━━━━━━━━━━━━━━━━\u001b[0m\u001b[37m\u001b[0m \u001b[1m1s\u001b[0m 79ms/step - accuracy: 0.9826 - loss: 1.5587e-04 - val_accuracy: 0.9827 - val_loss: 0.3147\n",
      "Epoch 29/30\n",
      "\u001b[1m9/9\u001b[0m \u001b[32m━━━━━━━━━━━━━━━━━━━━\u001b[0m\u001b[37m\u001b[0m \u001b[1m0s\u001b[0m 65ms/step - accuracy: 0.9828 - loss: 1.5284e-04\n",
      "Epoch 29: val_accuracy improved from 0.98275 to 0.98297, saving model to ./data_out/transformer/transformer.weights.h5\n",
      "\u001b[1m9/9\u001b[0m \u001b[32m━━━━━━━━━━━━━━━━━━━━\u001b[0m\u001b[37m\u001b[0m \u001b[1m1s\u001b[0m 80ms/step - accuracy: 0.9828 - loss: 1.5176e-04 - val_accuracy: 0.9830 - val_loss: 0.3145\n",
      "Epoch 30/30\n",
      "\u001b[1m9/9\u001b[0m \u001b[32m━━━━━━━━━━━━━━━━━━━━\u001b[0m\u001b[37m\u001b[0m \u001b[1m0s\u001b[0m 73ms/step - accuracy: 0.9831 - loss: 1.4885e-04\n",
      "Epoch 30: val_accuracy improved from 0.98297 to 0.98318, saving model to ./data_out/transformer/transformer.weights.h5\n",
      "\u001b[1m9/9\u001b[0m \u001b[32m━━━━━━━━━━━━━━━━━━━━\u001b[0m\u001b[37m\u001b[0m \u001b[1m1s\u001b[0m 88ms/step - accuracy: 0.9831 - loss: 1.4780e-04 - val_accuracy: 0.9832 - val_loss: 0.3143\n"
     ]
    }
   ],
   "source": [
    "history = model.fit([index_inputs, index_outputs], index_targets, batch_size=BATCH_SIZE, epochs=EPOCHS,\n",
    "                    validation_split=VALIDATION_SPLIT, callbacks=[earlystop_callback, cp_callback])"
   ]
  },
  {
   "cell_type": "code",
   "execution_count": 28,
   "id": "b24f2c6c-bf6f-4991-8c95-93c29b2df802",
   "metadata": {},
   "outputs": [
    {
     "data": {
      "image/png": "[encoded data removed]",
      "text/plain": [
       "<Figure size 640x480 with 1 Axes>"
      ]
     },
     "metadata": {},
     "output_type": "display_data"
    }
   ],
   "source": [
    "plot_graphs(history, 'accuracy')"
   ]
  },
  {
   "cell_type": "code",
   "execution_count": 29,
   "id": "d236acb3-ac6f-45c8-958c-7b6da5bdbdb7",
   "metadata": {},
   "outputs": [
    {
     "data": {
      "image/png": "[encoded data removed]",
      "text/plain": [
       "<Figure size 640x480 with 1 Axes>"
      ]
     },
     "metadata": {},
     "output_type": "display_data"
    }
   ],
   "source": [
    "plot_graphs(history, 'loss')"
   ]
  },
  {
   "cell_type": "markdown",
   "id": "d0bdf0a2-80e0-4abe-a263-ddbeec70336e",
   "metadata": {},
   "source": [
    "# 베스트 모델 불러오기"
   ]
  },
  {
   "cell_type": "code",
   "execution_count": 38,
   "id": "3c3b1d25-a67c-4032-9ea9-445c49f989ca",
   "metadata": {},
   "outputs": [],
   "source": [
    "# model.load_weights('./data_out/transformer/transformer.weights.h5')"
   ]
  },
  {
   "cell_type": "code",
   "execution_count": 39,
   "id": "879fa295-bd40-4ce3-8882-ebe088ebdf7a",
   "metadata": {},
   "outputs": [],
   "source": [
    "char2idx = prepro_configs['char2idx']\n",
    "idx2char = prepro_configs['idx2char']"
   ]
  },
  {
   "cell_type": "code",
   "execution_count": 48,
   "id": "e2a5e5d5-faee-4742-a731-16d927eb2cff",
   "metadata": {},
   "outputs": [
    {
     "name": "stdout",
     "output_type": "stream",
     "text": [
      "평소에 필요했던 게 좋을 것 같아요\n"
     ]
    }
   ],
   "source": [
    "text = \"남자친구 승진 선물로 뭐가 좋을까?\"\n",
    "test_index_inputs, _ = enc_processing([text], char2idx)\n",
    "outputs = model.inference(test_index_inputs)\n",
    "\n",
    "print(' '.join([idx2char[str(o)] for o in outputs]))"
   ]
  }
 ],
 "metadata": {
  "kernelspec": {
   "display_name": "Python 3 (ipykernel)",
   "language": "python",
   "name": "python3"
  },
  "language_info": {
   "codemirror_mode": {
    "name": "ipython",
    "version": 3
   },
   "file_extension": ".py",
   "mimetype": "text/x-python",
   "name": "python",
   "nbconvert_exporter": "python",
   "pygments_lexer": "ipython3",
   "version": "3.11.8"
  }
 },
 "nbformat": 4,
 "nbformat_minor": 5
}
