{
 "cells": [
  {
   "cell_type": "markdown",
   "id": "c2d34c84-db07-4375-8e3d-fcbcc815bdec",
   "metadata": {},
   "source": [
    "## 텐서플로와 머신러닝으로 시작하는 자연어 처리"
   ]
  },
  {
   "cell_type": "code",
   "execution_count": null,
   "id": "95e7bc58-4d2e-4349-ae0c-5e64717d2da7",
   "metadata": {},
   "outputs": [],
   "source": []
  },
  {
   "cell_type": "code",
   "execution_count": null,
   "id": "c850db05-9cef-40fd-a0d7-62a61d8a1303",
   "metadata": {},
   "outputs": [],
   "source": []
  },
  {
   "cell_type": "code",
   "execution_count": null,
   "id": "29b438c6-09de-4cc8-a4e1-2b1a7b1c078a",
   "metadata": {},
   "outputs": [],
   "source": []
  },
  {
   "cell_type": "code",
   "execution_count": null,
   "id": "37213776-822b-46ef-8484-1f0490780e50",
   "metadata": {},
   "outputs": [],
   "source": []
  },
  {
   "cell_type": "code",
   "execution_count": null,
   "id": "70ec7b8f-1ae9-4070-ae3d-30d3555fb346",
   "metadata": {},
   "outputs": [],
   "source": []
  },
  {
   "cell_type": "code",
   "execution_count": null,
   "id": "4a17d519-7439-4565-9d52-c27e764e78ff",
   "metadata": {},
   "outputs": [],
   "source": []
  }
 ],
 "metadata": {
  "kernelspec": {
   "display_name": "Python 3 (ipykernel)",
   "language": "python",
   "name": "python3"
  },
  "language_info": {
   "codemirror_mode": {
    "name": "ipython",
    "version": 3
   },
   "file_extension": ".py",
   "mimetype": "text/x-python",
   "name": "python",
   "nbconvert_exporter": "python",
   "pygments_lexer": "ipython3",
   "version": "3.11.8"
  }
 },
 "nbformat": 4,
 "nbformat_minor": 5
}
