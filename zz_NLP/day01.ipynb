{
 "cells": [
  {
   "cell_type": "markdown",
   "id": "c2d34c84-db07-4375-8e3d-fcbcc815bdec",
   "metadata": {},
   "source": [
    "## 텐서플로와 머신러닝으로 시작하는 자연어 처리"
   ]
  }
 ],
 "metadata": {
  "kernelspec": {
   "display_name": "Python 3 (ipykernel)",
   "language": "python",
   "name": "python3"
  },
  "language_info": {
   "codemirror_mode": {
    "name": "ipython",
    "version": 3
   },
   "file_extension": ".py",
   "mimetype": "text/x-python",
   "name": "python",
   "nbconvert_exporter": "python",
   "pygments_lexer": "ipython3",
   "version": "3.11.8"
  }
 },
 "nbformat": 4,
 "nbformat_minor": 5
}
