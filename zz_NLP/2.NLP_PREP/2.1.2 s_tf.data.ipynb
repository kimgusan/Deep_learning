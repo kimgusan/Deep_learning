{
 "cells": [
  {
   "cell_type": "code",
   "execution_count": 9,
   "id": "c956f748-9e9d-429f-b064-540483efe577",
   "metadata": {},
   "outputs": [],
   "source": [
    "import os \n",
    "import tensorflow as tf\n",
    "import numpy as np\n",
    "\n",
    "from tensorflow.keras import preprocessing\n",
    "\n",
    "samples = ['너 오늘 이뻐 보인다', \n",
    "           '나는 오늘 기분이 더러워', \n",
    "           '끝내주는데, 좋은 일이 있나봐', \n",
    "           '나 좋은 일이 생겼어', \n",
    "           '아 오늘 진짜 짜증나', \n",
    "           '환상적인데, 정말 좋은거 같아']\n",
    "\n",
    "label = [[1], [0], [1], [1], [0], [1]]"
   ]
  },
  {
   "cell_type": "code",
   "execution_count": 10,
   "id": "5ee6810f-66a6-49fc-8ca5-3808ddaae0d3",
   "metadata": {},
   "outputs": [
    {
     "name": "stdout",
     "output_type": "stream",
     "text": [
      "수치화된 텍스트 데이터: \n",
      " [[4, 1, 5, 6], [7, 1, 8, 9], [10, 2, 3, 11], [12, 2, 3, 13], [14, 1, 15, 16], [17, 18, 19, 20]]\n",
      "각 단어의 인덱스: \n",
      " {'오늘': 1, '좋은': 2, '일이': 3, '너': 4, '이뻐': 5, '보인다': 6, '나는': 7, '기분이': 8, '더러워': 9, '끝내주는데': 10, '있나봐': 11, '나': 12, '생겼어': 13, '아': 14, '진짜': 15, '짜증나': 16, '환상적인데': 17, '정말': 18, '좋은거': 19, '같아': 20}\n",
      "라벨: \n",
      " [[1], [0], [1], [1], [0], [1]]\n"
     ]
    }
   ],
   "source": [
    "tokenizer = preprocessing.text.Tokenizer()\n",
    "tokenizer.fit_on_texts(samples)\n",
    "sequences = tokenizer.texts_to_sequences(samples)\n",
    "\n",
    "word_index = tokenizer.word_index\n",
    "\n",
    "print(\"수치화된 텍스트 데이터: \\n\", sequences)\n",
    "print(\"각 단어의 인덱스: \\n\", word_index)\n",
    "print(\"라벨: \\n\", label)"
   ]
  },
  {
   "cell_type": "code",
   "execution_count": 16,
   "id": "01604d7e-6060-4218-a4d0-b5ddd0aa0a44",
   "metadata": {},
   "outputs": [
    {
     "name": "stdout",
     "output_type": "stream",
     "text": [
      "(<tf.Tensor: shape=(4,), dtype=int32, numpy=array([4, 1, 5, 6], dtype=int32)>, <tf.Tensor: shape=(1,), dtype=int32, numpy=array([1], dtype=int32)>)\n",
      "(<tf.Tensor: shape=(4,), dtype=int32, numpy=array([7, 1, 8, 9], dtype=int32)>, <tf.Tensor: shape=(1,), dtype=int32, numpy=array([0], dtype=int32)>)\n",
      "(<tf.Tensor: shape=(4,), dtype=int32, numpy=array([10,  2,  3, 11], dtype=int32)>, <tf.Tensor: shape=(1,), dtype=int32, numpy=array([1], dtype=int32)>)\n",
      "(<tf.Tensor: shape=(4,), dtype=int32, numpy=array([12,  2,  3, 13], dtype=int32)>, <tf.Tensor: shape=(1,), dtype=int32, numpy=array([1], dtype=int32)>)\n",
      "(<tf.Tensor: shape=(4,), dtype=int32, numpy=array([14,  1, 15, 16], dtype=int32)>, <tf.Tensor: shape=(1,), dtype=int32, numpy=array([0], dtype=int32)>)\n",
      "(<tf.Tensor: shape=(4,), dtype=int32, numpy=array([17, 18, 19, 20], dtype=int32)>, <tf.Tensor: shape=(1,), dtype=int32, numpy=array([1], dtype=int32)>)\n"
     ]
    },
    {
     "name": "stderr",
     "output_type": "stream",
     "text": [
      "2024-08-20 14:10:05.237153: W tensorflow/core/framework/local_rendezvous.cc:404] Local rendezvous is aborting with status: OUT_OF_RANGE: End of sequence\n"
     ]
    }
   ],
   "source": [
    "# 데이터셋 생성\n",
    "dataset = tf.data.Dataset.from_tensor_slices((sequences, label))\n",
    "\n",
    "# 데이터셋을 반복하여 처리\n",
    "for data in dataset:\n",
    "    print(data)\n"
   ]
  },
  {
   "cell_type": "code",
   "execution_count": 18,
   "id": "5ec08c06-ddcf-4959-aacb-77be1ffd215d",
   "metadata": {},
   "outputs": [
    {
     "name": "stdout",
     "output_type": "stream",
     "text": [
      "(<tf.Tensor: shape=(2, 4), dtype=int32, numpy=\n",
      "array([[4, 1, 5, 6],\n",
      "       [7, 1, 8, 9]], dtype=int32)>, <tf.Tensor: shape=(2, 1), dtype=int32, numpy=\n",
      "array([[1],\n",
      "       [0]], dtype=int32)>)\n",
      "(<tf.Tensor: shape=(2, 4), dtype=int32, numpy=\n",
      "array([[10,  2,  3, 11],\n",
      "       [12,  2,  3, 13]], dtype=int32)>, <tf.Tensor: shape=(2, 1), dtype=int32, numpy=\n",
      "array([[1],\n",
      "       [1]], dtype=int32)>)\n",
      "(<tf.Tensor: shape=(2, 4), dtype=int32, numpy=\n",
      "array([[14,  1, 15, 16],\n",
      "       [17, 18, 19, 20]], dtype=int32)>, <tf.Tensor: shape=(2, 1), dtype=int32, numpy=\n",
      "array([[0],\n",
      "       [1]], dtype=int32)>)\n"
     ]
    },
    {
     "name": "stderr",
     "output_type": "stream",
     "text": [
      "2024-08-20 14:11:43.559599: W tensorflow/core/framework/local_rendezvous.cc:404] Local rendezvous is aborting with status: OUT_OF_RANGE: End of sequence\n"
     ]
    }
   ],
   "source": [
    "# 배치 사이즈를 조절하여 2개씩 형태 불러오는 방법\n",
    "BATCH_SIZE = 2\n",
    "\n",
    "dataset = tf.data.Dataset.from_tensor_slices((sequences, label))\n",
    "dataset = dataset.batch(BATCH_SIZE)\n",
    "\n",
    "for data in dataset:\n",
    "    print(data)"
   ]
  },
  {
   "cell_type": "code",
   "execution_count": 25,
   "id": "3e3f3637-6b51-4889-ad5e-99dea95d4075",
   "metadata": {},
   "outputs": [
    {
     "name": "stdout",
     "output_type": "stream",
     "text": [
      "(<tf.Tensor: shape=(4,), dtype=int32, numpy=array([12,  2,  3, 13], dtype=int32)>, <tf.Tensor: shape=(1,), dtype=int32, numpy=array([1], dtype=int32)>)\n",
      "(<tf.Tensor: shape=(4,), dtype=int32, numpy=array([7, 1, 8, 9], dtype=int32)>, <tf.Tensor: shape=(1,), dtype=int32, numpy=array([0], dtype=int32)>)\n",
      "(<tf.Tensor: shape=(4,), dtype=int32, numpy=array([4, 1, 5, 6], dtype=int32)>, <tf.Tensor: shape=(1,), dtype=int32, numpy=array([1], dtype=int32)>)\n",
      "(<tf.Tensor: shape=(4,), dtype=int32, numpy=array([17, 18, 19, 20], dtype=int32)>, <tf.Tensor: shape=(1,), dtype=int32, numpy=array([1], dtype=int32)>)\n",
      "(<tf.Tensor: shape=(4,), dtype=int32, numpy=array([10,  2,  3, 11], dtype=int32)>, <tf.Tensor: shape=(1,), dtype=int32, numpy=array([1], dtype=int32)>)\n",
      "(<tf.Tensor: shape=(4,), dtype=int32, numpy=array([14,  1, 15, 16], dtype=int32)>, <tf.Tensor: shape=(1,), dtype=int32, numpy=array([0], dtype=int32)>)\n"
     ]
    },
    {
     "name": "stderr",
     "output_type": "stream",
     "text": [
      "2024-08-20 14:14:54.636504: W tensorflow/core/framework/local_rendezvous.cc:404] Local rendezvous is aborting with status: OUT_OF_RANGE: End of sequence\n"
     ]
    }
   ],
   "source": [
    "# 데이터가 셔플되어 출력되도록 설정하는 방법\n",
    "dataset = tf.data.Dataset.from_tensor_slices((sequences, label))\n",
    "dataset = dataset.shuffle(len(sequences))\n",
    "\n",
    "for data in dataset:\n",
    "    print(data)\n"
   ]
  },
  {
   "cell_type": "code",
   "execution_count": 29,
   "id": "a12838dc-ccea-49da-9d74-509565a5ea83",
   "metadata": {},
   "outputs": [
    {
     "name": "stdout",
     "output_type": "stream",
     "text": [
      "(<tf.Tensor: shape=(4,), dtype=int32, numpy=array([4, 1, 5, 6], dtype=int32)>, <tf.Tensor: shape=(1,), dtype=int32, numpy=array([1], dtype=int32)>)\n",
      "(<tf.Tensor: shape=(4,), dtype=int32, numpy=array([7, 1, 8, 9], dtype=int32)>, <tf.Tensor: shape=(1,), dtype=int32, numpy=array([0], dtype=int32)>)\n",
      "(<tf.Tensor: shape=(4,), dtype=int32, numpy=array([10,  2,  3, 11], dtype=int32)>, <tf.Tensor: shape=(1,), dtype=int32, numpy=array([1], dtype=int32)>)\n",
      "(<tf.Tensor: shape=(4,), dtype=int32, numpy=array([12,  2,  3, 13], dtype=int32)>, <tf.Tensor: shape=(1,), dtype=int32, numpy=array([1], dtype=int32)>)\n",
      "(<tf.Tensor: shape=(4,), dtype=int32, numpy=array([14,  1, 15, 16], dtype=int32)>, <tf.Tensor: shape=(1,), dtype=int32, numpy=array([0], dtype=int32)>)\n",
      "(<tf.Tensor: shape=(4,), dtype=int32, numpy=array([17, 18, 19, 20], dtype=int32)>, <tf.Tensor: shape=(1,), dtype=int32, numpy=array([1], dtype=int32)>)\n",
      "(<tf.Tensor: shape=(4,), dtype=int32, numpy=array([4, 1, 5, 6], dtype=int32)>, <tf.Tensor: shape=(1,), dtype=int32, numpy=array([1], dtype=int32)>)\n",
      "(<tf.Tensor: shape=(4,), dtype=int32, numpy=array([7, 1, 8, 9], dtype=int32)>, <tf.Tensor: shape=(1,), dtype=int32, numpy=array([0], dtype=int32)>)\n",
      "(<tf.Tensor: shape=(4,), dtype=int32, numpy=array([10,  2,  3, 11], dtype=int32)>, <tf.Tensor: shape=(1,), dtype=int32, numpy=array([1], dtype=int32)>)\n",
      "(<tf.Tensor: shape=(4,), dtype=int32, numpy=array([12,  2,  3, 13], dtype=int32)>, <tf.Tensor: shape=(1,), dtype=int32, numpy=array([1], dtype=int32)>)\n",
      "(<tf.Tensor: shape=(4,), dtype=int32, numpy=array([14,  1, 15, 16], dtype=int32)>, <tf.Tensor: shape=(1,), dtype=int32, numpy=array([0], dtype=int32)>)\n",
      "(<tf.Tensor: shape=(4,), dtype=int32, numpy=array([17, 18, 19, 20], dtype=int32)>, <tf.Tensor: shape=(1,), dtype=int32, numpy=array([1], dtype=int32)>)\n"
     ]
    },
    {
     "name": "stderr",
     "output_type": "stream",
     "text": [
      "2024-08-20 14:16:17.150995: W tensorflow/core/framework/local_rendezvous.cc:404] Local rendezvous is aborting with status: OUT_OF_RANGE: End of sequence\n"
     ]
    }
   ],
   "source": [
    "# 데이터를 여러번 사용하여 가져올 수 있는 방법\n",
    "\n",
    "epochs = 2\n",
    "\n",
    "dataset = tf.data.Dataset.from_tensor_slices((sequences, label))\n",
    "dataset = dataset.repeat(epochs)\n",
    "\n",
    "for data in dataset:\n",
    "    print(data)"
   ]
  },
  {
   "cell_type": "code",
   "execution_count": 33,
   "id": "3ffdbf8c-a3a5-419e-a232-d58887b0e797",
   "metadata": {},
   "outputs": [
    {
     "name": "stdout",
     "output_type": "stream",
     "text": [
      "({'x': <tf.Tensor: shape=(4,), dtype=int32, numpy=array([4, 1, 5, 6], dtype=int32)>}, <tf.Tensor: shape=(1,), dtype=int32, numpy=array([1], dtype=int32)>)\n",
      "({'x': <tf.Tensor: shape=(4,), dtype=int32, numpy=array([7, 1, 8, 9], dtype=int32)>}, <tf.Tensor: shape=(1,), dtype=int32, numpy=array([0], dtype=int32)>)\n",
      "({'x': <tf.Tensor: shape=(4,), dtype=int32, numpy=array([10,  2,  3, 11], dtype=int32)>}, <tf.Tensor: shape=(1,), dtype=int32, numpy=array([1], dtype=int32)>)\n",
      "({'x': <tf.Tensor: shape=(4,), dtype=int32, numpy=array([12,  2,  3, 13], dtype=int32)>}, <tf.Tensor: shape=(1,), dtype=int32, numpy=array([1], dtype=int32)>)\n",
      "({'x': <tf.Tensor: shape=(4,), dtype=int32, numpy=array([14,  1, 15, 16], dtype=int32)>}, <tf.Tensor: shape=(1,), dtype=int32, numpy=array([0], dtype=int32)>)\n",
      "({'x': <tf.Tensor: shape=(4,), dtype=int32, numpy=array([17, 18, 19, 20], dtype=int32)>}, <tf.Tensor: shape=(1,), dtype=int32, numpy=array([1], dtype=int32)>)\n"
     ]
    },
    {
     "name": "stderr",
     "output_type": "stream",
     "text": [
      "2024-08-20 14:20:35.810428: W tensorflow/core/framework/local_rendezvous.cc:404] Local rendezvous is aborting with status: OUT_OF_RANGE: End of sequence\n"
     ]
    }
   ],
   "source": [
    "# 모델에 따라 입력값이 하나가 아니라 두개 이상이 될 수 도 있는데 라벨을 제외한 데이터를 하나의 입력값으로 묶기위한 매핑 방법\n",
    "# 매핑 작업\n",
    "\n",
    "def mapping_fn(X, Y=None):\n",
    "    input = {'x': X}\n",
    "    label = Y\n",
    "    return input, label\n",
    "\n",
    "dataset = tf.data.Dataset.from_tensor_slices((sequences, label))\n",
    "dataset = dataset.map(mapping_fn)\n",
    "\n",
    "for data in dataset:\n",
    "    print(data)\n"
   ]
  },
  {
   "cell_type": "code",
   "execution_count": 34,
   "id": "7b9b77bd-0d66-4c47-a0d4-2a1e45a7b355",
   "metadata": {},
   "outputs": [
    {
     "name": "stdout",
     "output_type": "stream",
     "text": [
      "({'x': <tf.Tensor: shape=(2, 4), dtype=int32, numpy=\n",
      "array([[10,  2,  3, 11],\n",
      "       [14,  1, 15, 16]], dtype=int32)>}, <tf.Tensor: shape=(2, 1), dtype=int32, numpy=\n",
      "array([[1],\n",
      "       [0]], dtype=int32)>)\n",
      "({'x': <tf.Tensor: shape=(2, 4), dtype=int32, numpy=\n",
      "array([[12,  2,  3, 13],\n",
      "       [ 4,  1,  5,  6]], dtype=int32)>}, <tf.Tensor: shape=(2, 1), dtype=int32, numpy=\n",
      "array([[1],\n",
      "       [1]], dtype=int32)>)\n",
      "({'x': <tf.Tensor: shape=(2, 4), dtype=int32, numpy=\n",
      "array([[17, 18, 19, 20],\n",
      "       [ 7,  1,  8,  9]], dtype=int32)>}, <tf.Tensor: shape=(2, 1), dtype=int32, numpy=\n",
      "array([[1],\n",
      "       [0]], dtype=int32)>)\n",
      "({'x': <tf.Tensor: shape=(2, 4), dtype=int32, numpy=\n",
      "array([[10,  2,  3, 11],\n",
      "       [14,  1, 15, 16]], dtype=int32)>}, <tf.Tensor: shape=(2, 1), dtype=int32, numpy=\n",
      "array([[1],\n",
      "       [0]], dtype=int32)>)\n",
      "({'x': <tf.Tensor: shape=(2, 4), dtype=int32, numpy=\n",
      "array([[ 4,  1,  5,  6],\n",
      "       [12,  2,  3, 13]], dtype=int32)>}, <tf.Tensor: shape=(2, 1), dtype=int32, numpy=\n",
      "array([[1],\n",
      "       [1]], dtype=int32)>)\n",
      "({'x': <tf.Tensor: shape=(2, 4), dtype=int32, numpy=\n",
      "array([[17, 18, 19, 20],\n",
      "       [ 7,  1,  8,  9]], dtype=int32)>}, <tf.Tensor: shape=(2, 1), dtype=int32, numpy=\n",
      "array([[1],\n",
      "       [0]], dtype=int32)>)\n"
     ]
    },
    {
     "name": "stderr",
     "output_type": "stream",
     "text": [
      "2024-08-20 14:23:43.818964: W tensorflow/core/framework/local_rendezvous.cc:404] Local rendezvous is aborting with status: OUT_OF_RANGE: End of sequence\n"
     ]
    }
   ],
   "source": [
    "# 배치, 셔플, 반복, 매핑 과정을 한번에 사용하는 방법\n",
    "BATCH_SIZE = 2\n",
    "EPOCH = 2\n",
    "\n",
    "def mapping_fn(X, Y=None):\n",
    "    input = {'x': X}\n",
    "    label = Y\n",
    "    return input, label\n",
    "\n",
    "dataset = tf.data.Dataset.from_tensor_slices((sequences, label))\n",
    "dataset = dataset.map(mapping_fn)\n",
    "dataset = dataset.shuffle(len(sequences))\n",
    "dataset = dataset.batch(BATCH_SIZE)\n",
    "dataset = dataset.repeat(EPOCH)\n",
    "\n",
    "for data in dataset:\n",
    "    print(data)"
   ]
  }
 ],
 "metadata": {
  "kernelspec": {
   "display_name": "Python 3 (ipykernel)",
   "language": "python",
   "name": "python3"
  },
  "language_info": {
   "codemirror_mode": {
    "name": "ipython",
    "version": 3
   },
   "file_extension": ".py",
   "mimetype": "text/x-python",
   "name": "python",
   "nbconvert_exporter": "python",
   "pygments_lexer": "ipython3",
   "version": "3.11.8"
  }
 },
 "nbformat": 4,
 "nbformat_minor": 5
}
