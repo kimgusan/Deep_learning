{
 "cells": [
  {
   "cell_type": "markdown",
   "id": "a7c7e747-d49a-4658-8027-668dff78f0f5",
   "metadata": {},
   "source": [
    "# 🚘 Project 03: 자동차 모델 분류\n",
    "---\n",
    "## 주제: 자동차 모델 분류 (미세 조정 fine_tune (유사도 높은 데이터세트 탐색))\n",
    "---\n",
    "### 목표 (Target)\n",
    "- **에스턴 마틴**\n",
    "- **아우디**\n",
    "- **벤틀리**\n",
    "- **페라리**\n",
    "- **혼다**\n",
    "- **현대**\n",
    "- **람보르기니**\n",
    "- **렉서스**\n",
    "- **로터스**\n",
    "- **마세라티**\n",
    "- **마즈다**\n",
    "- **맥라렌**\n"
   ]
  },
  {
   "cell_type": "markdown",
   "id": "5f0be6a0-2976-4177-9f2c-36508acf3d3b",
   "metadata": {},
   "source": [
    "### 목차\n",
    "1. 데이터셋 불러오기.\n",
    "2. 데이터 프레임으로 file 경로 및 target 분류.\n",
    "3. fine_tuning을 통한 학습 시간의 효율적 확보.\n",
    "4. 데이터 훈련.\n",
    "5. 데이터 검증.\n",
    "6. 결론."
   ]
  },
  {
   "cell_type": "markdown",
   "id": "d3dda9b9-a793-4395-aafe-c476cda95bdd",
   "metadata": {},
   "source": [
    "## 1. 이미지 불러오기"
   ]
  },
  {
   "cell_type": "code",
   "execution_count": 1,
   "id": "26441a31-6c75-482a-bc0f-7d8d8f042c2a",
   "metadata": {},
   "outputs": [
    {
     "name": "stdout",
     "output_type": "stream",
     "text": [
      "Found 535 images belonging to 12 classes.\n",
      "{'aston-martin': 0, 'audi': 1, 'bentley': 2, 'ferrari': 3, 'honda': 4, 'hyundai': 5, 'lamborghini': 6, 'lexus': 7, 'lotus': 8, 'maserati': 9, 'mazda': 10, 'mclaren': 11}\n"
     ]
    }
   ],
   "source": [
    "from tensorflow.keras.preprocessing.image import ImageDataGenerator\n",
    "\n",
    "root = './datasets/p_brand_models_images_a/'\n",
    "\n",
    "IMAGE_SIZE = 128\n",
    "BATCH_SIZE = 64\n",
    "\n",
    "idg = ImageDataGenerator(rescale=1./255)\n",
    "\n",
    "generator = idg.flow_from_directory(root, target_size=(IMAGE_SIZE, IMAGE_SIZE), batch_size=BATCH_SIZE, class_mode='categorical')\n",
    "print(generator.class_indices)"
   ]
  },
  {
   "cell_type": "code",
   "execution_count": null,
   "id": "e10eaa26-04e9-4eba-bf54-c578c37c3c1c",
   "metadata": {},
   "outputs": [],
   "source": []
  }
 ],
 "metadata": {
  "kernelspec": {
   "display_name": "Python 3 (ipykernel)",
   "language": "python",
   "name": "python3"
  },
  "language_info": {
   "codemirror_mode": {
    "name": "ipython",
    "version": 3
   },
   "file_extension": ".py",
   "mimetype": "text/x-python",
   "name": "python",
   "nbconvert_exporter": "python",
   "pygments_lexer": "ipython3",
   "version": "3.11.8"
  }
 },
 "nbformat": 4,
 "nbformat_minor": 5
}
