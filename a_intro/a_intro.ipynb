{
 "cells": [
  {
   "cell_type": "markdown",
   "id": "762bf4c7-e5b0-4c35-be0c-d278e1e7723e",
   "metadata": {},
   "source": [
    "### Deep Learing, 딥러닝\n",
    "\n",
    "- 인공 신경망(Artivicial Neural Network)의 층을 연속적으로 깊게 쌓아올려 데이터를 학습하는 방식을 의미한다.\n",
    "- 인간이 학습하고 기억하는 매커니즘을 모방한 기계학습이다.\n",
    "- 인간은 학습 시, 뇌에 있는 뉴런이 자극을 받아들여서 일정 자극 이상이 되면, 화학물질을 통해 다른 뉴런과 연결되며 해당 부분이 발달한다.\n",
    "- 자극이 약하거나 기준치를 넘지 못하면, 뉴런은 연결되지 않는다.\n",
    "- 입력한 데이터가 활성 함수에서 임계점을 넘게 되면 출력된다.\n",
    "- 초기 인공 신경망(Perceptron)에서 깊게 층을 쌓아 학습하는 딥 러닝으로 발전한다.\n",
    "- 딥 러닝은 Input nodes layer, Hidden nodes layer, Output nodes layer, 이렇게 세 가지 층이 존재한다.\n",
    "\n",
    "<img src=\"./images/deep_learning.png\" style=\"margin-left:0px\">"
   ]
  },
  {
   "cell_type": "code",
   "execution_count": null,
   "id": "289dd31e-c35f-4c4c-ae60-2e73646b9fb5",
   "metadata": {},
   "outputs": [],
   "source": []
  },
  {
   "cell_type": "code",
   "execution_count": null,
   "id": "f58faa3c-1dd3-457d-9b25-c64e368e7211",
   "metadata": {},
   "outputs": [],
   "source": []
  },
  {
   "cell_type": "code",
   "execution_count": null,
   "id": "fda40552-d519-401c-a9ac-e028247a4718",
   "metadata": {},
   "outputs": [],
   "source": []
  },
  {
   "cell_type": "code",
   "execution_count": null,
   "id": "838f54fa-e5a0-415a-8ce6-0f25d43bf511",
   "metadata": {},
   "outputs": [],
   "source": []
  },
  {
   "cell_type": "code",
   "execution_count": null,
   "id": "41a80e72-cb7e-4ee6-9e8b-41b95d48e69b",
   "metadata": {},
   "outputs": [],
   "source": []
  },
  {
   "cell_type": "code",
   "execution_count": null,
   "id": "4a677046-0b77-447f-84f0-cb17925ec052",
   "metadata": {},
   "outputs": [],
   "source": []
  },
  {
   "cell_type": "code",
   "execution_count": null,
   "id": "f9da5abc-a36f-43d6-afd6-4e3d5a770814",
   "metadata": {},
   "outputs": [],
   "source": []
  },
  {
   "cell_type": "code",
   "execution_count": null,
   "id": "67c67fe0-78a5-4b47-b8f2-a13887c99b7a",
   "metadata": {},
   "outputs": [],
   "source": []
  },
  {
   "cell_type": "code",
   "execution_count": null,
   "id": "3bc73b48-70b7-494a-87b3-9210a9b65a4e",
   "metadata": {},
   "outputs": [],
   "source": []
  },
  {
   "cell_type": "code",
   "execution_count": null,
   "id": "e82de867-cd9c-4c75-bd89-f78d488ad865",
   "metadata": {},
   "outputs": [],
   "source": []
  },
  {
   "cell_type": "code",
   "execution_count": null,
   "id": "2f5e5568-706c-40a3-984c-90ebb9d5199e",
   "metadata": {},
   "outputs": [],
   "source": []
  },
  {
   "cell_type": "code",
   "execution_count": null,
   "id": "44043dc3-126a-44ed-bd2c-7cb71222ebb8",
   "metadata": {},
   "outputs": [],
   "source": []
  },
  {
   "cell_type": "code",
   "execution_count": null,
   "id": "8587cfe4-eddf-4f2c-b9c7-5dfccbdd6d85",
   "metadata": {},
   "outputs": [],
   "source": []
  }
 ],
 "metadata": {
  "kernelspec": {
   "display_name": "Python 3 (ipykernel)",
   "language": "python",
   "name": "python3"
  },
  "language_info": {
   "codemirror_mode": {
    "name": "ipython",
    "version": 3
   },
   "file_extension": ".py",
   "mimetype": "text/x-python",
   "name": "python",
   "nbconvert_exporter": "python",
   "pygments_lexer": "ipython3",
   "version": "3.11.7"
  }
 },
 "nbformat": 4,
 "nbformat_minor": 5
}
