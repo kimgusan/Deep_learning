{
 "cells": [
  {
   "cell_type": "markdown",
   "id": "adeee031-780e-49bd-ab9b-ad3824ecc410",
   "metadata": {},
   "source": [
    "## Callback API Task"
   ]
  },
  {
   "cell_type": "code",
   "execution_count": 1,
   "id": "c1718485-ddef-40e9-91ed-9f2c5b8aff6e",
   "metadata": {},
   "outputs": [
    {
     "name": "stdout",
     "output_type": "stream",
     "text": [
      "train dataset shape: (60000, 28, 28) (60000,)\n",
      "test dataset shape: (10000, 28, 28) (10000,)\n"
     ]
    }
   ],
   "source": [
    "from keras.datasets import mnist\n",
    "\n",
    "(train_images, train_targets), (test_images, test_targets) = mnist.load_data()\n",
    "\n",
    "print(\"train dataset shape:\", train_images.shape, train_targets.shape)\n",
    "print(\"test dataset shape:\", test_images.shape, test_targets.shape)"
   ]
  },
  {
   "cell_type": "code",
   "execution_count": 2,
   "id": "6039af15-2bfe-4acc-bb03-4205af7e3c9d",
   "metadata": {},
   "outputs": [
    {
     "data": {
      "image/png": "[encoded data removed]",
      "text/plain": [
       "<Figure size 640x480 with 1 Axes>"
      ]
     },
     "metadata": {},
     "output_type": "display_data"
    }
   ],
   "source": [
    "import matplotlib.pyplot as plt\n",
    "pl\n",
    "plt.imshow(train_images[10], cmap='gray')\n",
    "plt.show()\n"
   ]
  },
  {
   "cell_type": "code",
   "execution_count": 3,
   "id": "48d880a9-71c1-4794-89ab-019b04e2feea",
   "metadata": {},
   "outputs": [],
   "source": [
    "from tensorflow.keras.layers import Layer, Input, Flatten, Dense\n",
    "from tensorflow.keras.models import Model\n",
    "\n",
    "INPUT_SIZE = 28\n",
    "\n",
    "def create_model():\n",
    "    input_tensor = Input(shape=(INPUT_SIZE, INPUT_SIZE))\n",
    "    x = Flatten()(input_tensor)\n",
    "    x = Dense(64, activation='relu')(x)\n",
    "    x = Dense(128, activation='relu')(x)\n",
    "    output = Dense(10, activation='softmax')(x)\n",
    "\n",
    "    model = Model(inputs = input_tensor, outputs=output)\n",
    "    return model"
   ]
  },
  {
   "cell_type": "code",
   "execution_count": 4,
   "id": "037fbb20-29f0-4a23-883a-0f6fbd329c06",
   "metadata": {},
   "outputs": [],
   "source": [
    "import numpy as np\n",
    "from tensorflow.keras.utils import to_categorical\n",
    "from sklearn.model_selection import train_test_split\n",
    "\n",
    "def get_preprocessed_data(images, targets):\n",
    "    images = np.array(images / 255.0, dtype = np.float32)\n",
    "    targets = np.array(targets, dtype = np.float32)\n",
    "\n",
    "    return images, targets\n",
    "\n",
    "def get_preprocessed_ohe(images, targets):\n",
    "    images, targets = get_preprocessed_data(images, targets)\n",
    "    oh_targets = to_categorical(targets)\n",
    "\n",
    "    return images, oh_targets\n",
    "\n",
    "def get_train_vaild_test(train_images, train_targets, test_images, test_targets, validation_size = 0.2, random_state=124):\n",
    "    train_images, train_oh_targets = get_preprocessed_ohe(train_images, train_targets)\n",
    "    test_images, test_oh_targets = get_preprocessed_ohe(test_images, test_targets)\n",
    "\n",
    "    train_images, validation_images, train_oh_targets, validation_oh_targets =\\\n",
    "    train_test_split(train_images, train_oh_targets, stratify= train_oh_targets, test_size=validation_size, random_state=random_state)\n",
    "\n",
    "    return (train_images, train_oh_targets), (validation_images, validation_oh_targets), (test_images, test_oh_targets)\n"
   ]
  },
  {
   "cell_type": "code",
   "execution_count": 5,
   "id": "96a3bd8f-abf1-46ca-a404-33067a88a6fc",
   "metadata": {},
   "outputs": [
    {
     "name": "stdout",
     "output_type": "stream",
     "text": [
      "(48000, 28, 28) (48000, 10)\n",
      "(12000, 28, 28) (12000, 10)\n",
      "(10000, 28, 28) (10000, 10)\n"
     ]
    }
   ],
   "source": [
    "(train_images, train_oh_targets), (validation_images, validation_oh_targets), (test_images, test_oh_targets)=\\\n",
    "get_train_vaild_test(train_images, train_targets, test_images, test_targets)\n",
    "\n",
    "print(train_images.shape, train_oh_targets.shape)\n",
    "print(validation_images.shape, validation_oh_targets.shape)\n",
    "print(test_images.shape, test_oh_targets.shape)\n"
   ]
  },
  {
   "cell_type": "code",
   "execution_count": 6,
   "id": "6f8b0d86-4c39-4e3e-9ae4-2f675729f695",
   "metadata": {
    "scrolled": true
   },
   "outputs": [
    {
     "name": "stdout",
     "output_type": "stream",
     "text": [
      "Epoch 1/20\n",
      "\u001b[1m750/750\u001b[0m \u001b[32m━━━━━━━━━━━━━━━━━━━━\u001b[0m\u001b[37m\u001b[0m \u001b[1m1s\u001b[0m 1ms/step - acc: 0.8321 - loss: 0.5922 - val_acc: 0.9467 - val_loss: 0.1813 - learning_rate: 0.0010\n",
      "Epoch 2/20\n",
      "\u001b[1m750/750\u001b[0m \u001b[32m━━━━━━━━━━━━━━━━━━━━\u001b[0m\u001b[37m\u001b[0m \u001b[1m1s\u001b[0m 967us/step - acc: 0.9552 - loss: 0.1555 - val_acc: 0.9592 - val_loss: 0.1371 - learning_rate: 0.0010\n",
      "Epoch 3/20\n",
      "\u001b[1m750/750\u001b[0m \u001b[32m━━━━━━━━━━━━━━━━━━━━\u001b[0m\u001b[37m\u001b[0m \u001b[1m1s\u001b[0m 740us/step - acc: 0.9685 - loss: 0.1059 - val_acc: 0.9604 - val_loss: 0.1302 - learning_rate: 0.0010\n",
      "Epoch 4/20\n",
      "\u001b[1m750/750\u001b[0m \u001b[32m━━━━━━━━━━━━━━━━━━━━\u001b[0m\u001b[37m\u001b[0m \u001b[1m1s\u001b[0m 737us/step - acc: 0.9749 - loss: 0.0847 - val_acc: 0.9686 - val_loss: 0.1031 - learning_rate: 0.0010\n",
      "Epoch 5/20\n",
      "\u001b[1m750/750\u001b[0m \u001b[32m━━━━━━━━━━━━━━━━━━━━\u001b[0m\u001b[37m\u001b[0m \u001b[1m1s\u001b[0m 757us/step - acc: 0.9802 - loss: 0.0634 - val_acc: 0.9689 - val_loss: 0.0998 - learning_rate: 0.0010\n",
      "Epoch 6/20\n",
      "\u001b[1m750/750\u001b[0m \u001b[32m━━━━━━━━━━━━━━━━━━━━\u001b[0m\u001b[37m\u001b[0m \u001b[1m1s\u001b[0m 750us/step - acc: 0.9841 - loss: 0.0510 - val_acc: 0.9739 - val_loss: 0.0874 - learning_rate: 0.0010\n",
      "Epoch 7/20\n",
      "\u001b[1m750/750\u001b[0m \u001b[32m━━━━━━━━━━━━━━━━━━━━\u001b[0m\u001b[37m\u001b[0m \u001b[1m1s\u001b[0m 828us/step - acc: 0.9864 - loss: 0.0452 - val_acc: 0.9717 - val_loss: 0.0917 - learning_rate: 0.0010\n",
      "Epoch 8/20\n",
      "\u001b[1m750/750\u001b[0m \u001b[32m━━━━━━━━━━━━━━━━━━━━\u001b[0m\u001b[37m\u001b[0m \u001b[1m1s\u001b[0m 751us/step - acc: 0.9871 - loss: 0.0382 - val_acc: 0.9720 - val_loss: 0.0944 - learning_rate: 0.0010\n",
      "Epoch 9/20\n",
      "\u001b[1m750/750\u001b[0m \u001b[32m━━━━━━━━━━━━━━━━━━━━\u001b[0m\u001b[37m\u001b[0m \u001b[1m1s\u001b[0m 710us/step - acc: 0.9940 - loss: 0.0217 - val_acc: 0.9766 - val_loss: 0.0809 - learning_rate: 1.0000e-04\n",
      "Epoch 10/20\n",
      "\u001b[1m750/750\u001b[0m \u001b[32m━━━━━━━━━━━━━━━━━━━━\u001b[0m\u001b[37m\u001b[0m \u001b[1m1s\u001b[0m 869us/step - acc: 0.9964 - loss: 0.0166 - val_acc: 0.9764 - val_loss: 0.0793 - learning_rate: 1.0000e-04\n",
      "Epoch 11/20\n",
      "\u001b[1m750/750\u001b[0m \u001b[32m━━━━━━━━━━━━━━━━━━━━\u001b[0m\u001b[37m\u001b[0m \u001b[1m1s\u001b[0m 736us/step - acc: 0.9974 - loss: 0.0135 - val_acc: 0.9779 - val_loss: 0.0789 - learning_rate: 1.0000e-04\n",
      "Epoch 12/20\n",
      "\u001b[1m750/750\u001b[0m \u001b[32m━━━━━━━━━━━━━━━━━━━━\u001b[0m\u001b[37m\u001b[0m \u001b[1m1s\u001b[0m 714us/step - acc: 0.9971 - loss: 0.0131 - val_acc: 0.9768 - val_loss: 0.0800 - learning_rate: 1.0000e-04\n",
      "Epoch 13/20\n",
      "\u001b[1m750/750\u001b[0m \u001b[32m━━━━━━━━━━━━━━━━━━━━\u001b[0m\u001b[37m\u001b[0m \u001b[1m1s\u001b[0m 761us/step - acc: 0.9977 - loss: 0.0130 - val_acc: 0.9767 - val_loss: 0.0803 - learning_rate: 1.0000e-04\n",
      "Epoch 14/20\n",
      "\u001b[1m750/750\u001b[0m \u001b[32m━━━━━━━━━━━━━━━━━━━━\u001b[0m\u001b[37m\u001b[0m \u001b[1m1s\u001b[0m 747us/step - acc: 0.9988 - loss: 0.0093 - val_acc: 0.9769 - val_loss: 0.0798 - learning_rate: 1.0000e-05\n"
     ]
    }
   ],
   "source": [
    "from tensorflow.keras.optimizers import Adam\n",
    "from tensorflow.keras.losses import CategoricalCrossentropy\n",
    "from tensorflow.keras.callbacks import ModelCheckpoint, ReduceLROnPlateau, EarlyStopping\n",
    "\n",
    "model = create_model()\n",
    "model.compile(optimizer=Adam(), loss=CategoricalCrossentropy(), metrics=['acc'])\n",
    "\n",
    "mcp_cb = ModelCheckpoint(\n",
    "    filepath='./callback_files/weights.{epoch:03d}-{val_loss:.4f}-{acc:.4f}.weights.h5',\n",
    "    monitor='var_loss',\n",
    "    save_best_only=False,\n",
    "    save_weights_only=True,\n",
    "    mode='auto'\n",
    ")\n",
    "\n",
    "rlr_cb = ReduceLROnPlateau(\n",
    "    monitor='val_loss',\n",
    "    factor=0.1,\n",
    "    patience=2,\n",
    "    mode='min'\n",
    ")\n",
    "\n",
    "ely_cb = EarlyStopping(\n",
    "    monitor='val_loss',\n",
    "    patience=3,\n",
    "    mode='min'\n",
    ")\n",
    "\n",
    "\n",
    "\n",
    "history = model.fit(x=train_images, \n",
    "                    y=train_oh_targets,\n",
    "                    validation_data= (validation_images, validation_oh_targets),\n",
    "                    batch_size=64,\n",
    "                    epochs=20,\n",
    "                    callbacks = [mcp_cb, rlr_cb, ely_cb]\n",
    "                   )"
   ]
  },
  {
   "cell_type": "code",
   "execution_count": 7,
   "id": "70cc32dd-92f1-4f91-a30a-b73e01e9ea0f",
   "metadata": {},
   "outputs": [
    {
     "name": "stdout",
     "output_type": "stream",
     "text": [
      "weights.001-0.1803-0.9027.weights.h5  weights.008-0.0944-0.9869.weights.h5\n",
      "weights.001-0.1813-0.9045.weights.h5  weights.008-0.1058-0.9872.weights.h5\n",
      "weights.001-0.1855-0.9021.model.keras weights.009-0.0796-0.9943.model.keras\n",
      "weights.002-0.1352-0.9573.model.keras weights.009-0.0809-0.9948.weights.h5\n",
      "weights.002-0.1371-0.9558.weights.h5  weights.009-0.0817-0.9936.weights.h5\n",
      "weights.002-0.1447-0.9559.weights.h5  weights.010-0.0791-0.9947.model.keras\n",
      "weights.003-0.1153-0.9670.weights.h5  weights.010-0.0793-0.9965.weights.h5\n",
      "weights.003-0.1188-0.9687.model.keras weights.010-0.0818-0.9955.weights.h5\n",
      "weights.003-0.1302-0.9677.weights.h5  weights.011-0.0789-0.9971.weights.h5\n",
      "weights.004-0.0995-0.9773.model.keras weights.011-0.0797-0.9954.model.keras\n",
      "weights.004-0.1031-0.9747.weights.h5  weights.011-0.0818-0.9961.weights.h5\n",
      "weights.004-0.1121-0.9749.weights.h5  weights.012-0.0795-0.9955.model.keras\n",
      "weights.005-0.0998-0.9790.weights.h5  weights.012-0.0800-0.9974.weights.h5\n",
      "weights.005-0.1059-0.9786.weights.h5  weights.012-0.0808-0.9970.weights.h5\n",
      "weights.005-0.1127-0.9798.model.keras weights.013-0.0795-0.9966.model.keras\n",
      "weights.006-0.0874-0.9831.weights.h5  weights.013-0.0803-0.9979.weights.h5\n",
      "weights.006-0.0970-0.9823.weights.h5  weights.013-0.0810-0.9972.weights.h5\n",
      "weights.006-0.1006-0.9830.model.keras weights.014-0.0798-0.9983.weights.h5\n",
      "weights.007-0.0812-0.9918.model.keras weights.014-0.0808-0.9972.weights.h5\n",
      "weights.007-0.0917-0.9849.weights.h5  weights.015-0.0808-0.9974.weights.h5\n",
      "weights.007-0.1030-0.9854.weights.h5  weights.016-0.0808-0.9974.weights.h5\n",
      "weights.008-0.0796-0.9938.model.keras weights.017-0.0808-0.9974.weights.h5\n"
     ]
    }
   ],
   "source": [
    "!ls callback_files"
   ]
  },
  {
   "cell_type": "code",
   "execution_count": 8,
   "id": "ce2a2eba-19b3-4a71-bff5-f879cc38a4c0",
   "metadata": {},
   "outputs": [
    {
     "name": "stdout",
     "output_type": "stream",
     "text": [
      "\u001b[1m313/313\u001b[0m \u001b[32m━━━━━━━━━━━━━━━━━━━━\u001b[0m\u001b[37m\u001b[0m \u001b[1m0s\u001b[0m 315us/step - acc: 0.9739 - loss: 0.0922\n"
     ]
    },
    {
     "data": {
      "text/plain": [
       "[0.07540556788444519, 0.9789000153541565]"
      ]
     },
     "execution_count": 8,
     "metadata": {},
     "output_type": "execute_result"
    }
   ],
   "source": [
    "model.evaluate(test_images, test_oh_targets)"
   ]
  },
  {
   "cell_type": "code",
   "execution_count": 9,
   "id": "bf5506ac-9fb7-4008-af60-9d559b9a87bf",
   "metadata": {},
   "outputs": [
    {
     "name": "stdout",
     "output_type": "stream",
     "text": [
      "\u001b[1m313/313\u001b[0m \u001b[32m━━━━━━━━━━━━━━━━━━━━\u001b[0m\u001b[37m\u001b[0m \u001b[1m0s\u001b[0m 307us/step - acc: 0.9732 - loss: 0.0839\n"
     ]
    },
    {
     "data": {
      "text/plain": [
       "[0.07546978443861008, 0.977400004863739]"
      ]
     },
     "execution_count": 9,
     "metadata": {},
     "output_type": "execute_result"
    }
   ],
   "source": [
    "model = create_model()\n",
    "model.load_weights('./callback_files/weights.017-0.0808-0.9974.weights.h5')\n",
    "\n",
    "model.compile(optimizer=Adam(), loss=CategoricalCrossentropy(), metrics=['acc'])\n",
    "model.evaluate(test_images, test_oh_targets)"
   ]
  },
  {
   "cell_type": "code",
   "execution_count": 10,
   "id": "f9f73ba8-728e-4ffd-9bc5-95b8a956e0e2",
   "metadata": {},
   "outputs": [
    {
     "name": "stdout",
     "output_type": "stream",
     "text": [
      "Epoch 1/20\n",
      "\u001b[1m750/750\u001b[0m \u001b[32m━━━━━━━━━━━━━━━━━━━━\u001b[0m\u001b[37m\u001b[0m \u001b[1m1s\u001b[0m 837us/step - acc: 0.8243 - loss: 0.6153 - val_acc: 0.9472 - val_loss: 0.1819 - learning_rate: 0.0010\n",
      "Epoch 2/20\n",
      "\u001b[1m750/750\u001b[0m \u001b[32m━━━━━━━━━━━━━━━━━━━━\u001b[0m\u001b[37m\u001b[0m \u001b[1m1s\u001b[0m 761us/step - acc: 0.9534 - loss: 0.1611 - val_acc: 0.9595 - val_loss: 0.1342 - learning_rate: 0.0010\n",
      "Epoch 3/20\n",
      "\u001b[1m750/750\u001b[0m \u001b[32m━━━━━━━━━━━━━━━━━━━━\u001b[0m\u001b[37m\u001b[0m \u001b[1m1s\u001b[0m 830us/step - acc: 0.9680 - loss: 0.1082 - val_acc: 0.9645 - val_loss: 0.1148 - learning_rate: 0.0010\n",
      "Epoch 4/20\n",
      "\u001b[1m750/750\u001b[0m \u001b[32m━━━━━━━━━━━━━━━━━━━━\u001b[0m\u001b[37m\u001b[0m \u001b[1m1s\u001b[0m 924us/step - acc: 0.9756 - loss: 0.0835 - val_acc: 0.9687 - val_loss: 0.1019 - learning_rate: 0.0010\n",
      "Epoch 5/20\n",
      "\u001b[1m750/750\u001b[0m \u001b[32m━━━━━━━━━━━━━━━━━━━━\u001b[0m\u001b[37m\u001b[0m \u001b[1m1s\u001b[0m 825us/step - acc: 0.9802 - loss: 0.0661 - val_acc: 0.9707 - val_loss: 0.0919 - learning_rate: 0.0010\n",
      "Epoch 6/20\n",
      "\u001b[1m750/750\u001b[0m \u001b[32m━━━━━━━━━━━━━━━━━━━━\u001b[0m\u001b[37m\u001b[0m \u001b[1m1s\u001b[0m 755us/step - acc: 0.9849 - loss: 0.0503 - val_acc: 0.9704 - val_loss: 0.0960 - learning_rate: 0.0010\n",
      "Epoch 7/20\n",
      "\u001b[1m750/750\u001b[0m \u001b[32m━━━━━━━━━━━━━━━━━━━━\u001b[0m\u001b[37m\u001b[0m \u001b[1m1s\u001b[0m 925us/step - acc: 0.9872 - loss: 0.0422 - val_acc: 0.9732 - val_loss: 0.0855 - learning_rate: 0.0010\n",
      "Epoch 8/20\n",
      "\u001b[1m750/750\u001b[0m \u001b[32m━━━━━━━━━━━━━━━━━━━━\u001b[0m\u001b[37m\u001b[0m \u001b[1m1s\u001b[0m 764us/step - acc: 0.9891 - loss: 0.0354 - val_acc: 0.9712 - val_loss: 0.0966 - learning_rate: 0.0010\n",
      "Epoch 9/20\n",
      "\u001b[1m750/750\u001b[0m \u001b[32m━━━━━━━━━━━━━━━━━━━━\u001b[0m\u001b[37m\u001b[0m \u001b[1m1s\u001b[0m 734us/step - acc: 0.9918 - loss: 0.0288 - val_acc: 0.9693 - val_loss: 0.1059 - learning_rate: 0.0010\n",
      "Epoch 10/20\n",
      "\u001b[1m750/750\u001b[0m \u001b[32m━━━━━━━━━━━━━━━━━━━━\u001b[0m\u001b[37m\u001b[0m \u001b[1m1s\u001b[0m 823us/step - acc: 0.9937 - loss: 0.0203 - val_acc: 0.9774 - val_loss: 0.0767 - learning_rate: 1.0000e-04\n",
      "Epoch 11/20\n",
      "\u001b[1m750/750\u001b[0m \u001b[32m━━━━━━━━━━━━━━━━━━━━\u001b[0m\u001b[37m\u001b[0m \u001b[1m1s\u001b[0m 1ms/step - acc: 0.9976 - loss: 0.0129 - val_acc: 0.9770 - val_loss: 0.0780 - learning_rate: 1.0000e-04\n",
      "Epoch 12/20\n",
      "\u001b[1m750/750\u001b[0m \u001b[32m━━━━━━━━━━━━━━━━━━━━\u001b[0m\u001b[37m\u001b[0m \u001b[1m1s\u001b[0m 1ms/step - acc: 0.9980 - loss: 0.0108 - val_acc: 0.9768 - val_loss: 0.0804 - learning_rate: 1.0000e-04\n",
      "Epoch 13/20\n",
      "\u001b[1m750/750\u001b[0m \u001b[32m━━━━━━━━━━━━━━━━━━━━\u001b[0m\u001b[37m\u001b[0m \u001b[1m1s\u001b[0m 1ms/step - acc: 0.9984 - loss: 0.0092 - val_acc: 0.9775 - val_loss: 0.0784 - learning_rate: 1.0000e-05\n"
     ]
    }
   ],
   "source": [
    "from tensorflow.keras.optimizers import Adam\n",
    "from tensorflow.keras.losses import CategoricalCrossentropy\n",
    "from tensorflow.keras.callbacks import ModelCheckpoint, ReduceLROnPlateau, EarlyStopping\n",
    "\n",
    "model = create_model()\n",
    "model.compile(optimizer=Adam(), loss=CategoricalCrossentropy(), metrics=['acc'])\n",
    "\n",
    "mcp_cb = ModelCheckpoint(\n",
    "    filepath='./callback_files/weights.{epoch:03d}-{val_loss:.4f}-{acc:.4f}.model.keras',\n",
    "    monitor='var_loss',\n",
    "    save_best_only=False,\n",
    "    save_weights_only=False,\n",
    "    mode='auto'\n",
    ")\n",
    "\n",
    "rlr_cb = ReduceLROnPlateau(\n",
    "    monitor='val_loss',\n",
    "    factor=0.1,\n",
    "    patience=2,\n",
    "    mode='min'\n",
    ")\n",
    "\n",
    "ely_cb = EarlyStopping(\n",
    "    monitor='val_loss',\n",
    "    patience=3,\n",
    "    mode='min'\n",
    ")\n",
    "\n",
    "\n",
    "\n",
    "history = model.fit(x=train_images, \n",
    "                    y=train_oh_targets,\n",
    "                    validation_data= (validation_images, validation_oh_targets),\n",
    "                    batch_size=64,\n",
    "                    epochs=20,\n",
    "                    callbacks = [mcp_cb, rlr_cb, ely_cb]\n",
    "                   )"
   ]
  },
  {
   "cell_type": "code",
   "execution_count": 11,
   "id": "c422b1f6-b17c-4fb8-9edc-68622adc94e4",
   "metadata": {},
   "outputs": [
    {
     "name": "stdout",
     "output_type": "stream",
     "text": [
      "\u001b[1m313/313\u001b[0m \u001b[32m━━━━━━━━━━━━━━━━━━━━\u001b[0m\u001b[37m\u001b[0m \u001b[1m0s\u001b[0m 311us/step - acc: 0.9750 - loss: 0.1046 \n"
     ]
    },
    {
     "data": {
      "text/plain": [
       "[0.08908724039793015, 0.9782999753952026]"
      ]
     },
     "execution_count": 11,
     "metadata": {},
     "output_type": "execute_result"
    }
   ],
   "source": [
    "model.evaluate(test_images, test_oh_targets)"
   ]
  },
  {
   "cell_type": "code",
   "execution_count": 12,
   "id": "43df1f68-47ce-4fc6-8311-5150069a3444",
   "metadata": {},
   "outputs": [
    {
     "name": "stdout",
     "output_type": "stream",
     "text": [
      "\u001b[1m313/313\u001b[0m \u001b[32m━━━━━━━━━━━━━━━━━━━━\u001b[0m\u001b[37m\u001b[0m \u001b[1m0s\u001b[0m 310us/step - acc: 0.9730 - loss: 0.0905\n"
     ]
    },
    {
     "data": {
      "text/plain": [
       "[0.07874074578285217, 0.9761999845504761]"
      ]
     },
     "execution_count": 12,
     "metadata": {},
     "output_type": "execute_result"
    }
   ],
   "source": [
    "from tensorflow.keras.models import load_model\n",
    "\n",
    "model = create_model()\n",
    "model = load_model('./callback_files/weights.013-0.0795-0.9966.model.keras')\n",
    "\n",
    "model.compile(optimizer=Adam(), loss=CategoricalCrossentropy(), metrics=['acc'])\n",
    "model.evaluate(test_images, test_oh_targets)"
   ]
  }
 ],
 "metadata": {
  "kernelspec": {
   "display_name": "Python 3 (ipykernel)",
   "language": "python",
   "name": "python3"
  },
  "language_info": {
   "codemirror_mode": {
    "name": "ipython",
    "version": 3
   },
   "file_extension": ".py",
   "mimetype": "text/x-python",
   "name": "python",
   "nbconvert_exporter": "python",
   "pygments_lexer": "ipython3",
   "version": "3.11.7"
  }
 },
 "nbformat": 4,
 "nbformat_minor": 5
}
